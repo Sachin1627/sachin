{
 "cells": [
  {
   "cell_type": "markdown",
   "metadata": {},
   "source": [
    "## Greige Allocation Live,Greige and Cancelled Orders  "
   ]
  },
  {
   "cell_type": "code",
   "execution_count": null,
   "metadata": {},
   "outputs": [],
   "source": [
    "#print(error)"
   ]
  },
  {
   "cell_type": "code",
   "execution_count": 15,
   "metadata": {},
   "outputs": [],
   "source": [
    "import sqlalchemy as sql \n",
    "import urllib\n",
    "import pyodbc\n",
    "import numpy as np\n",
    "import pandas as pd\n",
    "import os \n",
    "    \n",
    "\n",
    "#  Makeing parameters for engine  ( Credentials)\n",
    "params  = urllib.parse.quote_plus(\"DRIVER={SQL Server};\"\n",
    "                                  \"SERVER=172.27.111.5;\"\n",
    "                                  \"PORT=1433;\" \n",
    "                                  \"DATABASE=NEWFSCMS;\" \n",
    "                                  \"UID=fscmsread; PWD=India@987\")\n",
    "\n",
    "#  created engine to link sql \n",
    "engine = sql.create_engine(\"mssql+pyodbc:///?odbc_connect={}\".format(params))"
   ]
  },
  {
   "cell_type": "code",
   "execution_count": 30,
   "metadata": {},
   "outputs": [],
   "source": [
    "# Reading last Shared Final File\n",
    "import pandas as pd\n",
    "import numpy as np\n",
    "import os"
   ]
  },
  {
   "cell_type": "code",
   "execution_count": 31,
   "metadata": {},
   "outputs": [
    {
     "data": {
      "text/plain": [
       "['.ipynb_checkpoints',\n",
       " 'Allocation_index.xlsx',\n",
       " 'Article master.xlsx',\n",
       " 'Cancel2.xlsx',\n",
       " 'DB3 - 1-Sep - 5.57 PM.xls',\n",
       " \"DBWeaving 1st Sep'21.xls\",\n",
       " 'Greige Stock Allocation.ipynb',\n",
       " 'Grey_stock.xlsx',\n",
       " 'Inventory Analysis Oct-21 Final.xlsx',\n",
       " 'Today Greige Allocation.xlsx']"
      ]
     },
     "execution_count": 31,
     "metadata": {},
     "output_type": "execute_result"
    }
   ],
   "source": [
    "os.listdir()"
   ]
  },
  {
   "cell_type": "code",
   "execution_count": 32,
   "metadata": {},
   "outputs": [],
   "source": [
    "# Reading Excel File in Pytton\n",
    "xl=pd.ExcelFile('Inventory Analysis Oct-21 Final.xlsx')"
   ]
  },
  {
   "cell_type": "code",
   "execution_count": 33,
   "metadata": {},
   "outputs": [
    {
     "data": {
      "text/plain": [
       "['Sheet2 (2)',\n",
       " 'Index ',\n",
       " '1',\n",
       " '2',\n",
       " '3',\n",
       " '4',\n",
       " '5',\n",
       " 'expected to use',\n",
       " '6',\n",
       " '7',\n",
       " '7.1',\n",
       " '8',\n",
       " '9',\n",
       " '10',\n",
       " '11',\n",
       " '11.1',\n",
       " '11.2',\n",
       " '12',\n",
       " '13',\n",
       " '14',\n",
       " '15',\n",
       " '16',\n",
       " '16.1',\n",
       " '17',\n",
       " '18',\n",
       " '19',\n",
       " '19.1',\n",
       " '19.2',\n",
       " '19.3',\n",
       " '20',\n",
       " '21',\n",
       " '22',\n",
       " 'Mainsheet',\n",
       " 'Sheet2',\n",
       " 'Sheet1']"
      ]
     },
     "execution_count": 33,
     "metadata": {},
     "output_type": "execute_result"
    }
   ],
   "source": [
    "xl.sheet_names"
   ]
  },
  {
   "cell_type": "code",
   "execution_count": 39,
   "metadata": {},
   "outputs": [],
   "source": [
    "last_file = pd.read_excel('Inventory Analysis Oct-21 Final.xlsx',sheet_name = 'Mainsheet')"
   ]
  },
  {
   "cell_type": "code",
   "execution_count": 40,
   "metadata": {},
   "outputs": [],
   "source": [
    "#last_file "
   ]
  },
  {
   "cell_type": "code",
   "execution_count": 41,
   "metadata": {},
   "outputs": [],
   "source": [
    "#list(last_file)"
   ]
  },
  {
   "cell_type": "code",
   "execution_count": 43,
   "metadata": {},
   "outputs": [],
   "source": [
    "last_file.rename(columns={\n",
    "    'Weaving Plant':'wvg_plant',\n",
    "    'Allocated_Stock' :'Allocated_stock',\n",
    "    'DocNo':'DOC_NO',\n",
    "    'Grey K1':'grey_k1',\n",
    "    'Segment' :'segment_desc',\n",
    "    'Liquidation plan':'Liquidation Plan',\n",
    "    'Liquidation month' :' Liquidation Month '\n",
    "}, inplace=True)"
   ]
  },
  {
   "cell_type": "code",
   "execution_count": 49,
   "metadata": {},
   "outputs": [],
   "source": [
    "last_file=last_file[['Liquidation Plan','Liquidation month ','Remark','DOC_NO','LineNo','Customer','segment_desc','Allocated_stock','OrderType','wvg_plant','grey_k1']]"
   ]
  },
  {
   "cell_type": "code",
   "execution_count": 50,
   "metadata": {},
   "outputs": [
    {
     "name": "stderr",
     "output_type": "stream",
     "text": [
      "c:\\users\\fsc.reports1\\appdata\\local\\programs\\python\\python37\\lib\\site-packages\\ipykernel_launcher.py:1: SettingWithCopyWarning: \n",
      "A value is trying to be set on a copy of a slice from a DataFrame\n",
      "\n",
      "See the caveats in the documentation: https://pandas.pydata.org/pandas-docs/stable/user_guide/indexing.html#returning-a-view-versus-a-copy\n",
      "  \"\"\"Entry point for launching an IPython kernel.\n"
     ]
    }
   ],
   "source": [
    "last_file.dropna(subset = ['DOC_NO'], inplace=True)"
   ]
  },
  {
   "cell_type": "code",
   "execution_count": 51,
   "metadata": {},
   "outputs": [],
   "source": [
    "last_file = last_file[~last_file['DOC_NO'].str.contains('E70')]"
   ]
  },
  {
   "cell_type": "code",
   "execution_count": 52,
   "metadata": {},
   "outputs": [],
   "source": [
    "last_file=last_file[last_file['Allocated_stock']>=1]"
   ]
  },
  {
   "cell_type": "code",
   "execution_count": 53,
   "metadata": {},
   "outputs": [],
   "source": [
    "#last_file['OrderType'].unique()"
   ]
  },
  {
   "cell_type": "code",
   "execution_count": 54,
   "metadata": {},
   "outputs": [],
   "source": [
    "last_file=last_file[last_file['OrderType'].str.contains('Cancel')]"
   ]
  },
  {
   "cell_type": "code",
   "execution_count": 55,
   "metadata": {},
   "outputs": [],
   "source": [
    "last_file['Base File Name'] = 'Previous Cancel Order with Allocated Stock'"
   ]
  },
  {
   "cell_type": "code",
   "execution_count": 56,
   "metadata": {},
   "outputs": [
    {
     "data": {
      "text/plain": [
       "2.13"
      ]
     },
     "execution_count": 56,
     "metadata": {},
     "output_type": "execute_result"
    }
   ],
   "source": [
    "#last allocated  against Cancel Orders \n",
    "round(sum(last_file['Allocated_stock'])/100000,2)"
   ]
  },
  {
   "cell_type": "code",
   "execution_count": 76,
   "metadata": {},
   "outputs": [
    {
     "data": {
      "text/plain": [
       "['.ipynb_checkpoints',\n",
       " 'Allocation_index.xlsx',\n",
       " 'Article master.xlsx',\n",
       " 'Cancel2.xlsx',\n",
       " 'DB3 - 1-Sep - 5.57 PM.xls',\n",
       " \"DBWeaving 1st Sep'21.xls\",\n",
       " 'Greige stock 1.8.2021.xls',\n",
       " 'Greige Stock Allocation.ipynb',\n",
       " 'Inventory Analysis Oct-21 Final.xlsx',\n",
       " 'Today Greige Allocation.xlsx']"
      ]
     },
     "execution_count": 76,
     "metadata": {},
     "output_type": "execute_result"
    }
   ],
   "source": [
    "os.listdir()"
   ]
  },
  {
   "cell_type": "markdown",
   "metadata": {},
   "source": [
    "## Stock Reading"
   ]
  },
  {
   "cell_type": "code",
   "execution_count": 77,
   "metadata": {},
   "outputs": [],
   "source": [
    "current_stock = pd.read_excel('Greige stock 1.8.2021.xls',sheet_name='Sheet')\n"
   ]
  },
  {
   "cell_type": "code",
   "execution_count": 78,
   "metadata": {},
   "outputs": [],
   "source": [
    "current_stock['Product_Type']=np.where(current_stock['K3'].isna(),'Piece Dyed Greige Fabric','Yarn Dyed Greige Fabric')"
   ]
  },
  {
   "cell_type": "code",
   "execution_count": 79,
   "metadata": {},
   "outputs": [],
   "source": [
    "import numpy as np"
   ]
  },
  {
   "cell_type": "code",
   "execution_count": 80,
   "metadata": {},
   "outputs": [],
   "source": [
    "current_stock['Rejected Stock'] = current_stock['Q5'] + current_stock['Q4'] + current_stock['Q6'] + current_stock['Q9']"
   ]
  },
  {
   "cell_type": "code",
   "execution_count": 81,
   "metadata": {},
   "outputs": [],
   "source": [
    "current_stock['reservation2'] = current_stock['Total Physical Stock'] - current_stock['Grey Stock']"
   ]
  },
  {
   "cell_type": "code",
   "execution_count": 82,
   "metadata": {},
   "outputs": [],
   "source": [
    "current_stock['Grey Stock'] = current_stock['Grey Stock'] - current_stock['Rejected Stock']"
   ]
  },
  {
   "cell_type": "code",
   "execution_count": 83,
   "metadata": {},
   "outputs": [],
   "source": [
    "current_stock['Grey K1']=np.where(current_stock['K3'].isna(),current_stock['Grey K1'],current_stock['Grey K1'] +current_stock['K3']+ current_stock['K4'])"
   ]
  },
  {
   "cell_type": "code",
   "execution_count": 84,
   "metadata": {},
   "outputs": [],
   "source": [
    "#list(current_stock)"
   ]
  },
  {
   "cell_type": "code",
   "execution_count": 85,
   "metadata": {},
   "outputs": [],
   "source": [
    "current_stock = current_stock[['reservation2','Product_Type','Factory','Grey K1','Construction','Grey Stock','Total Physical Stock','Q8','0-31','31-60','61-90','91-180','181-360','>360','Budhni Stock at Baddi','Rejected Stock']]"
   ]
  },
  {
   "cell_type": "code",
   "execution_count": 86,
   "metadata": {},
   "outputs": [],
   "source": [
    "#current_stock.columns"
   ]
  },
  {
   "cell_type": "code",
   "execution_count": 87,
   "metadata": {},
   "outputs": [],
   "source": [
    "reservation=current_stock[current_stock['Factory'].isna()]\n",
    "#reservation"
   ]
  },
  {
   "cell_type": "code",
   "execution_count": 88,
   "metadata": {},
   "outputs": [],
   "source": [
    "#current_stock['Grey Stock'].sum()"
   ]
  },
  {
   "cell_type": "code",
   "execution_count": 89,
   "metadata": {},
   "outputs": [],
   "source": [
    "current_stock=current_stock[~current_stock['Factory'].isna()]"
   ]
  },
  {
   "cell_type": "code",
   "execution_count": 90,
   "metadata": {},
   "outputs": [],
   "source": [
    "#current_stock['Grey Stock'].sum()"
   ]
  },
  {
   "cell_type": "code",
   "execution_count": 91,
   "metadata": {},
   "outputs": [],
   "source": [
    "# Total Correct Stock\n",
    "# round(sum(current_stock['Grey Stock'])/100000,2)"
   ]
  },
  {
   "cell_type": "code",
   "execution_count": 92,
   "metadata": {},
   "outputs": [],
   "source": [
    "#round(sum(current_stock['Q8'])/100000,2)"
   ]
  },
  {
   "cell_type": "code",
   "execution_count": 93,
   "metadata": {},
   "outputs": [],
   "source": [
    "current_stock.to_excel('Grey.xlsx',sheet_name='maindata')"
   ]
  },
  {
   "cell_type": "markdown",
   "metadata": {},
   "source": [
    "## Stock before Month"
   ]
  },
  {
   "cell_type": "code",
   "execution_count": 94,
   "metadata": {},
   "outputs": [],
   "source": [
    "Date=pd.to_datetime('2021-04-01')"
   ]
  },
  {
   "cell_type": "code",
   "execution_count": 95,
   "metadata": {},
   "outputs": [
    {
     "data": {
      "text/html": [
       "<div>\n",
       "<style scoped>\n",
       "    .dataframe tbody tr th:only-of-type {\n",
       "        vertical-align: middle;\n",
       "    }\n",
       "\n",
       "    .dataframe tbody tr th {\n",
       "        vertical-align: top;\n",
       "    }\n",
       "\n",
       "    .dataframe thead th {\n",
       "        text-align: right;\n",
       "    }\n",
       "</style>\n",
       "<table border=\"1\" class=\"dataframe\">\n",
       "  <thead>\n",
       "    <tr style=\"text-align: right;\">\n",
       "      <th></th>\n",
       "      <th>URECTY</th>\n",
       "      <th>UCDSTO</th>\n",
       "      <th>UCDEL0</th>\n",
       "      <th>UCDKE1</th>\n",
       "      <th>UCDKE2</th>\n",
       "      <th>UCDKE3</th>\n",
       "      <th>UCDKE4</th>\n",
       "      <th>UCDKE5</th>\n",
       "      <th>UCDKE6</th>\n",
       "      <th>UCDKE7</th>\n",
       "      <th>UCDKE8</th>\n",
       "      <th>UCDKE9</th>\n",
       "      <th>UCDKE10</th>\n",
       "      <th>UBLELE</th>\n",
       "      <th>UCDQUA</th>\n",
       "      <th>ADTTRA</th>\n",
       "      <th>UCONT</th>\n",
       "      <th>NOWRECTY</th>\n",
       "      <th>NOW_WH</th>\n",
       "    </tr>\n",
       "  </thead>\n",
       "  <tbody>\n",
       "    <tr>\n",
       "      <th>0</th>\n",
       "      <td>Q</td>\n",
       "      <td>CE</td>\n",
       "      <td>000000000035647</td>\n",
       "      <td>132294</td>\n",
       "      <td>OSPPW</td>\n",
       "      <td></td>\n",
       "      <td></td>\n",
       "      <td></td>\n",
       "      <td></td>\n",
       "      <td></td>\n",
       "      <td></td>\n",
       "      <td></td>\n",
       "      <td></td>\n",
       "      <td>17.34</td>\n",
       "      <td>7.0</td>\n",
       "      <td>2017-10-09</td>\n",
       "      <td>000000000071</td>\n",
       "      <td>BPG</td>\n",
       "      <td>F340R002</td>\n",
       "    </tr>\n",
       "    <tr>\n",
       "      <th>1</th>\n",
       "      <td>Q</td>\n",
       "      <td>CE</td>\n",
       "      <td>000000000035648</td>\n",
       "      <td>132294</td>\n",
       "      <td>OSPPW</td>\n",
       "      <td></td>\n",
       "      <td></td>\n",
       "      <td></td>\n",
       "      <td></td>\n",
       "      <td></td>\n",
       "      <td></td>\n",
       "      <td></td>\n",
       "      <td></td>\n",
       "      <td>69.83</td>\n",
       "      <td>7.0</td>\n",
       "      <td>2017-10-09</td>\n",
       "      <td>000000000071</td>\n",
       "      <td>BPG</td>\n",
       "      <td>F340R002</td>\n",
       "    </tr>\n",
       "  </tbody>\n",
       "</table>\n",
       "</div>"
      ],
      "text/plain": [
       "  URECTY UCDSTO           UCDEL0  UCDKE1 UCDKE2 UCDKE3 UCDKE4 UCDKE5 UCDKE6  \\\n",
       "0      Q     CE  000000000035647  132294  OSPPW                               \n",
       "1      Q     CE  000000000035648  132294  OSPPW                               \n",
       "\n",
       "  UCDKE7 UCDKE8 UCDKE9 UCDKE10  UBLELE  UCDQUA      ADTTRA         UCONT  \\\n",
       "0                                17.34     7.0  2017-10-09  000000000071   \n",
       "1                                69.83     7.0  2017-10-09  000000000071   \n",
       "\n",
       "  NOWRECTY    NOW_WH  \n",
       "0      BPG  F340R002  \n",
       "1      BPG  F340R002  "
      ]
     },
     "execution_count": 95,
     "metadata": {},
     "output_type": "execute_result"
    }
   ],
   "source": [
    "pd.read_sql(f\"\"\"\n",
    "select top 2 * from \n",
    "erpgstock where Convert(DateTime,ADTTRA) <?\n",
    "\"\"\",engine, params=(Date,))"
   ]
  },
  {
   "cell_type": "code",
   "execution_count": 96,
   "metadata": {},
   "outputs": [],
   "source": [
    "tuple_id = ('000000000081688',\n",
    " 'W010839178/0601',\n",
    " 'W010839181/0101',\n",
    " 'W010839182/0501',\n",
    " 'W010839188/0601',\n",
    " 'W010842609/0301',\n",
    " 'W010842789/0501',\n",
    " 'W010842791/0601',\n",
    " 'W010842792/0801',\n",
    " 'W010842793/0101',\n",
    " 'W010848661/0801',\n",
    " 'W010848662/0502',\n",
    " 'W010851334/0602',\n",
    " 'W010851334/0901',\n",
    " 'W010851335/0403',\n",
    " 'W010851335/0404',\n",
    " 'W010851335/0405',\n",
    " 'W010851335/0501',\n",
    " 'W010851335/0502',\n",
    " 'W010851335/0601',\n",
    " 'W010851335/0701',\n",
    " 'W010861615/0401',\n",
    " 'W010861615/0701',\n",
    " 'W010861615/0702',\n",
    " 'W010861616/0103',\n",
    " 'W010861616/0201',\n",
    " 'W010861616/0402',\n",
    " 'W010861616/0601',\n",
    " 'W010861616/0701',\n",
    " 'W010861616/0802',\n",
    " 'W010861617/0301',\n",
    " 'W010861617/0401',\n",
    " 'W010861618/0302',\n",
    " 'W010861618/0703',\n",
    " 'W010861629/0301',\n",
    " 'W010861629/0501',\n",
    " 'W010864031/0702',\n",
    " 'W010864038/0201',\n",
    " 'W010880400/0101',\n",
    " 'W010880401/0501',\n",
    " 'W011014795/0801',\n",
    " 'WRP-0028839/01')  ## Qlty Issued - needs to offer to RB Sir"
   ]
  },
  {
   "cell_type": "code",
   "execution_count": 97,
   "metadata": {},
   "outputs": [],
   "source": [
    "Stock_Oct=pd.read_sql(f\"\"\"\n",
    "select UCDQUA,NOW_WH as Factory,UCDKE1,UCDKE2,UCDKE3,UCDKE4,UBLELE as Stock_before_Oct,Convert(DateTime,ADTTRA) as PackingDate from \n",
    "erpgstock where Convert(DateTime,ADTTRA) <? and \n",
    "UCDEL0 not in {tuple_id}\n",
    "\"\"\",engine, params=(Date,))"
   ]
  },
  {
   "cell_type": "code",
   "execution_count": 98,
   "metadata": {},
   "outputs": [],
   "source": [
    "ForRBS=pd.read_sql(f\"\"\"\n",
    "select UCDQUA,UCDEL0,NOW_WH as Factory,UCDKE1,UCDKE2,UCDKE3,UCDKE4,UBLELE as Stock_before_Oct,Convert(DateTime,ADTTRA) as PackingDate from \n",
    "erpgstock where Convert(DateTime,ADTTRA) <? and \n",
    "UCDEL0 in {tuple_id}\n",
    "\"\"\",engine, params=(Date,))\n",
    "ForRBS.to_excel ('D:/jsdxi/result_output/Qntyissue .xlsx')"
   ]
  },
  {
   "cell_type": "code",
   "execution_count": 99,
   "metadata": {},
   "outputs": [],
   "source": [
    "#Stock_Oct['UCDQUA']"
   ]
  },
  {
   "cell_type": "code",
   "execution_count": 100,
   "metadata": {},
   "outputs": [],
   "source": [
    "#Stock_Oct['Stock_before_Oct'].sum()"
   ]
  },
  {
   "cell_type": "code",
   "execution_count": 101,
   "metadata": {},
   "outputs": [],
   "source": [
    "Stock_Oct=Stock_Oct[Stock_Oct['UCDQUA']!=4.0]\n",
    "Stock_Oct=Stock_Oct[Stock_Oct['UCDQUA']!=5.0]\n",
    "Stock_Oct=Stock_Oct[Stock_Oct['UCDQUA']!=6.0]\n",
    "Stock_Oct=Stock_Oct[Stock_Oct['UCDQUA']!=9.0]"
   ]
  },
  {
   "cell_type": "code",
   "execution_count": 102,
   "metadata": {},
   "outputs": [],
   "source": [
    "#Stock_Oct['Stock_before_Oct'].sum()"
   ]
  },
  {
   "cell_type": "code",
   "execution_count": 103,
   "metadata": {},
   "outputs": [],
   "source": [
    "#Stock_Oct['Factory'].drop_duplicates()"
   ]
  },
  {
   "cell_type": "code",
   "execution_count": 104,
   "metadata": {},
   "outputs": [],
   "source": [
    "Stock_Oct['Factory'] = np.where(Stock_Oct['Factory'].str.contains('F4|F34', case = False),'BUDHNI','Baddi')"
   ]
  },
  {
   "cell_type": "code",
   "execution_count": 105,
   "metadata": {},
   "outputs": [],
   "source": [
    "Stock_Oct['Grey K1'] = Stock_Oct['UCDKE1'] + Stock_Oct['UCDKE2'] +Stock_Oct['UCDKE3'] +Stock_Oct['UCDKE4']  "
   ]
  },
  {
   "cell_type": "code",
   "execution_count": 106,
   "metadata": {},
   "outputs": [],
   "source": [
    "Stock_Oct=pd.pivot_table(Stock_Oct, index = ['Grey K1','Factory'], values = 'Stock_before_Oct', aggfunc= sum).reset_index()"
   ]
  },
  {
   "cell_type": "code",
   "execution_count": 107,
   "metadata": {},
   "outputs": [],
   "source": [
    "#Stock_Oct['Stock_before_Oct'].sum()"
   ]
  },
  {
   "cell_type": "code",
   "execution_count": 108,
   "metadata": {},
   "outputs": [],
   "source": [
    "Stock_Oct['Grey K1'].replace(\" \",\"\", regex= True, inplace=True)"
   ]
  },
  {
   "cell_type": "code",
   "execution_count": 109,
   "metadata": {},
   "outputs": [],
   "source": [
    "current_stock['Grey K1'].replace(\" \",\"\", regex= True, inplace=True)"
   ]
  },
  {
   "cell_type": "code",
   "execution_count": 110,
   "metadata": {},
   "outputs": [],
   "source": [
    "#current_stock.shape"
   ]
  },
  {
   "cell_type": "code",
   "execution_count": 111,
   "metadata": {},
   "outputs": [],
   "source": [
    "# for names in list(current_stock):\n",
    "#     print(names, end  = \" , \")"
   ]
  },
  {
   "cell_type": "code",
   "execution_count": null,
   "metadata": {},
   "outputs": [],
   "source": []
  },
  {
   "cell_type": "code",
   "execution_count": 112,
   "metadata": {},
   "outputs": [],
   "source": [
    "current_stock=pd.pivot_table(current_stock,index= ['Product_Type','Grey K1','Factory','Construction'], aggfunc=sum).reset_index()"
   ]
  },
  {
   "cell_type": "code",
   "execution_count": 113,
   "metadata": {},
   "outputs": [],
   "source": [
    "#current_stock['Grey Stock'].sum()"
   ]
  },
  {
   "cell_type": "code",
   "execution_count": 114,
   "metadata": {},
   "outputs": [],
   "source": [
    "current_stock=pd.merge(current_stock,Stock_Oct, on = ['Grey K1','Factory'], how = 'left')"
   ]
  },
  {
   "cell_type": "code",
   "execution_count": 115,
   "metadata": {},
   "outputs": [
    {
     "data": {
      "text/html": [
       "<div>\n",
       "<style scoped>\n",
       "    .dataframe tbody tr th:only-of-type {\n",
       "        vertical-align: middle;\n",
       "    }\n",
       "\n",
       "    .dataframe tbody tr th {\n",
       "        vertical-align: top;\n",
       "    }\n",
       "\n",
       "    .dataframe thead th {\n",
       "        text-align: right;\n",
       "    }\n",
       "</style>\n",
       "<table border=\"1\" class=\"dataframe\">\n",
       "  <thead>\n",
       "    <tr style=\"text-align: right;\">\n",
       "      <th></th>\n",
       "      <th>Product_Type</th>\n",
       "      <th>Grey K1</th>\n",
       "      <th>Factory</th>\n",
       "      <th>Construction</th>\n",
       "      <th>0-31</th>\n",
       "      <th>181-360</th>\n",
       "      <th>31-60</th>\n",
       "      <th>61-90</th>\n",
       "      <th>91-180</th>\n",
       "      <th>&gt;360</th>\n",
       "      <th>Budhni Stock at Baddi</th>\n",
       "      <th>Grey Stock</th>\n",
       "      <th>Q8</th>\n",
       "      <th>Rejected Stock</th>\n",
       "      <th>Total Physical Stock</th>\n",
       "      <th>reservation2</th>\n",
       "      <th>Stock_before_Oct</th>\n",
       "    </tr>\n",
       "  </thead>\n",
       "  <tbody>\n",
       "    <tr>\n",
       "      <th>100</th>\n",
       "      <td>Piece Dyed Greige Fabric</td>\n",
       "      <td>12000226BDOKDW4</td>\n",
       "      <td>BUDHNI</td>\n",
       "      <td>20OE*20K.SPX(70D)-85*80-209.50-3/1 S TWILL</td>\n",
       "      <td>0.0</td>\n",
       "      <td>1242.0</td>\n",
       "      <td>0.0</td>\n",
       "      <td>0</td>\n",
       "      <td>0.0</td>\n",
       "      <td>0.0</td>\n",
       "      <td>1242.35</td>\n",
       "      <td>0.0</td>\n",
       "      <td>0.0</td>\n",
       "      <td>0.0</td>\n",
       "      <td>1242.35</td>\n",
       "      <td>1242.35</td>\n",
       "      <td>NaN</td>\n",
       "    </tr>\n",
       "    <tr>\n",
       "      <th>101</th>\n",
       "      <td>Piece Dyed Greige Fabric</td>\n",
       "      <td>12000226BDOKW4</td>\n",
       "      <td>BUDHNI</td>\n",
       "      <td>20OE*20K.SPX(70D)-85*80-209.50-3/1 S TWILL</td>\n",
       "      <td>0.0</td>\n",
       "      <td>0.0</td>\n",
       "      <td>0.0</td>\n",
       "      <td>0</td>\n",
       "      <td>198.0</td>\n",
       "      <td>9755.5</td>\n",
       "      <td>0.00</td>\n",
       "      <td>9755.5</td>\n",
       "      <td>0.0</td>\n",
       "      <td>0.0</td>\n",
       "      <td>10480.41</td>\n",
       "      <td>724.91</td>\n",
       "      <td>NaN</td>\n",
       "    </tr>\n",
       "  </tbody>\n",
       "</table>\n",
       "</div>"
      ],
      "text/plain": [
       "                 Product_Type          Grey K1 Factory  \\\n",
       "100  Piece Dyed Greige Fabric  12000226BDOKDW4  BUDHNI   \n",
       "101  Piece Dyed Greige Fabric   12000226BDOKW4  BUDHNI   \n",
       "\n",
       "                                   Construction  0-31  181-360  31-60  61-90  \\\n",
       "100  20OE*20K.SPX(70D)-85*80-209.50-3/1 S TWILL   0.0   1242.0    0.0      0   \n",
       "101  20OE*20K.SPX(70D)-85*80-209.50-3/1 S TWILL   0.0      0.0    0.0      0   \n",
       "\n",
       "     91-180    >360  Budhni Stock at Baddi  Grey Stock   Q8  Rejected Stock  \\\n",
       "100     0.0     0.0                1242.35         0.0  0.0             0.0   \n",
       "101   198.0  9755.5                   0.00      9755.5  0.0             0.0   \n",
       "\n",
       "     Total Physical Stock  reservation2  Stock_before_Oct  \n",
       "100               1242.35       1242.35               NaN  \n",
       "101              10480.41        724.91               NaN  "
      ]
     },
     "execution_count": 115,
     "metadata": {},
     "output_type": "execute_result"
    }
   ],
   "source": [
    "current_stock[current_stock['Grey K1'].str.contains('12000226')]"
   ]
  },
  {
   "cell_type": "code",
   "execution_count": 116,
   "metadata": {},
   "outputs": [
    {
     "data": {
      "text/plain": [
       "['UCDQUA',\n",
       " 'UCDEL0',\n",
       " 'Factory',\n",
       " 'UCDKE1',\n",
       " 'UCDKE2',\n",
       " 'UCDKE3',\n",
       " 'UCDKE4',\n",
       " 'Stock_before_Oct',\n",
       " 'PackingDate']"
      ]
     },
     "execution_count": 116,
     "metadata": {},
     "output_type": "execute_result"
    }
   ],
   "source": [
    "list(ForRBS)"
   ]
  },
  {
   "cell_type": "code",
   "execution_count": 117,
   "metadata": {},
   "outputs": [],
   "source": [
    "ForRBS_Sum=ForRBS.groupby(['UCDKE1','UCDKE2'])['Stock_before_Oct'].sum().reset_index()"
   ]
  },
  {
   "cell_type": "code",
   "execution_count": 118,
   "metadata": {},
   "outputs": [],
   "source": [
    "ForRBS_Sum['Grey K1']=ForRBS_Sum['UCDKE1'] +ForRBS_Sum['UCDKE2']"
   ]
  },
  {
   "cell_type": "code",
   "execution_count": 119,
   "metadata": {},
   "outputs": [],
   "source": [
    "Not_toAllocat=ForRBS_Sum[['Grey K1','Stock_before_Oct']]"
   ]
  },
  {
   "cell_type": "code",
   "execution_count": 120,
   "metadata": {},
   "outputs": [
    {
     "name": "stderr",
     "output_type": "stream",
     "text": [
      "c:\\users\\fsc.reports1\\appdata\\local\\programs\\python\\python37\\lib\\site-packages\\pandas\\core\\frame.py:4133: SettingWithCopyWarning: \n",
      "A value is trying to be set on a copy of a slice from a DataFrame\n",
      "\n",
      "See the caveats in the documentation: https://pandas.pydata.org/pandas-docs/stable/user_guide/indexing.html#returning-a-view-versus-a-copy\n",
      "  errors=errors,\n"
     ]
    }
   ],
   "source": [
    "Not_toAllocat.rename(columns={'Stock_before_Oct':'Not_to_Allocat'}, inplace=True)"
   ]
  },
  {
   "cell_type": "code",
   "execution_count": 121,
   "metadata": {},
   "outputs": [
    {
     "data": {
      "text/html": [
       "<div>\n",
       "<style scoped>\n",
       "    .dataframe tbody tr th:only-of-type {\n",
       "        vertical-align: middle;\n",
       "    }\n",
       "\n",
       "    .dataframe tbody tr th {\n",
       "        vertical-align: top;\n",
       "    }\n",
       "\n",
       "    .dataframe thead th {\n",
       "        text-align: right;\n",
       "    }\n",
       "</style>\n",
       "<table border=\"1\" class=\"dataframe\">\n",
       "  <thead>\n",
       "    <tr style=\"text-align: right;\">\n",
       "      <th></th>\n",
       "      <th>Grey K1</th>\n",
       "      <th>Not_to_Allocat</th>\n",
       "    </tr>\n",
       "  </thead>\n",
       "  <tbody>\n",
       "    <tr>\n",
       "      <th>0</th>\n",
       "      <td>12000226BDOKW4</td>\n",
       "      <td>7019.0</td>\n",
       "    </tr>\n",
       "  </tbody>\n",
       "</table>\n",
       "</div>"
      ],
      "text/plain": [
       "          Grey K1  Not_to_Allocat\n",
       "0  12000226BDOKW4          7019.0"
      ]
     },
     "execution_count": 121,
     "metadata": {},
     "output_type": "execute_result"
    }
   ],
   "source": [
    "Not_toAllocat"
   ]
  },
  {
   "cell_type": "code",
   "execution_count": 122,
   "metadata": {},
   "outputs": [],
   "source": [
    "current_stock=pd.merge(current_stock,Not_toAllocat, on ='Grey K1',how = 'left')"
   ]
  },
  {
   "cell_type": "code",
   "execution_count": 123,
   "metadata": {},
   "outputs": [],
   "source": [
    "current_stock['Not_to_Allocat']=current_stock['Not_to_Allocat'].fillna(0)"
   ]
  },
  {
   "cell_type": "code",
   "execution_count": 124,
   "metadata": {},
   "outputs": [],
   "source": [
    "current_stock['Grey Stock']=current_stock['Grey Stock']-current_stock['Not_to_Allocat']"
   ]
  },
  {
   "cell_type": "code",
   "execution_count": 125,
   "metadata": {},
   "outputs": [
    {
     "data": {
      "text/html": [
       "<div>\n",
       "<style scoped>\n",
       "    .dataframe tbody tr th:only-of-type {\n",
       "        vertical-align: middle;\n",
       "    }\n",
       "\n",
       "    .dataframe tbody tr th {\n",
       "        vertical-align: top;\n",
       "    }\n",
       "\n",
       "    .dataframe thead th {\n",
       "        text-align: right;\n",
       "    }\n",
       "</style>\n",
       "<table border=\"1\" class=\"dataframe\">\n",
       "  <thead>\n",
       "    <tr style=\"text-align: right;\">\n",
       "      <th></th>\n",
       "      <th>Product_Type</th>\n",
       "      <th>Grey K1</th>\n",
       "      <th>Factory</th>\n",
       "      <th>Construction</th>\n",
       "      <th>0-31</th>\n",
       "      <th>181-360</th>\n",
       "      <th>31-60</th>\n",
       "      <th>61-90</th>\n",
       "      <th>91-180</th>\n",
       "      <th>&gt;360</th>\n",
       "      <th>Budhni Stock at Baddi</th>\n",
       "      <th>Grey Stock</th>\n",
       "      <th>Q8</th>\n",
       "      <th>Rejected Stock</th>\n",
       "      <th>Total Physical Stock</th>\n",
       "      <th>reservation2</th>\n",
       "      <th>Stock_before_Oct</th>\n",
       "      <th>Not_to_Allocat</th>\n",
       "    </tr>\n",
       "  </thead>\n",
       "  <tbody>\n",
       "    <tr>\n",
       "      <th>0</th>\n",
       "      <td>Piece Dyed Greige Fabric</td>\n",
       "      <td>10700004BDOO</td>\n",
       "      <td>BUDHNI</td>\n",
       "      <td>7OE*7OE-70*36-160.8-OXFORD</td>\n",
       "      <td>980.0</td>\n",
       "      <td>0.0</td>\n",
       "      <td>0.00</td>\n",
       "      <td>0</td>\n",
       "      <td>0.0</td>\n",
       "      <td>0.0</td>\n",
       "      <td>0.0</td>\n",
       "      <td>0.0</td>\n",
       "      <td>0.0</td>\n",
       "      <td>0.0</td>\n",
       "      <td>980.97</td>\n",
       "      <td>980.97</td>\n",
       "      <td>0.01</td>\n",
       "      <td>0.0</td>\n",
       "    </tr>\n",
       "    <tr>\n",
       "      <th>1</th>\n",
       "      <td>Piece Dyed Greige Fabric</td>\n",
       "      <td>10764BD</td>\n",
       "      <td>BUDHNI</td>\n",
       "      <td>7OE*7OE-70*40-165.1-3/1,S TWILL               ...</td>\n",
       "      <td>0.0</td>\n",
       "      <td>2216.0</td>\n",
       "      <td>0.00</td>\n",
       "      <td>0</td>\n",
       "      <td>0.0</td>\n",
       "      <td>0.0</td>\n",
       "      <td>0.0</td>\n",
       "      <td>0.0</td>\n",
       "      <td>0.0</td>\n",
       "      <td>0.0</td>\n",
       "      <td>2216.07</td>\n",
       "      <td>2216.07</td>\n",
       "      <td>2216.07</td>\n",
       "      <td>0.0</td>\n",
       "    </tr>\n",
       "    <tr>\n",
       "      <th>2</th>\n",
       "      <td>Piece Dyed Greige Fabric</td>\n",
       "      <td>10765BD</td>\n",
       "      <td>BUDHNI</td>\n",
       "      <td>7OE*7OE-66*44-163.2-3/1,S TWILL               ...</td>\n",
       "      <td>670.0</td>\n",
       "      <td>108.0</td>\n",
       "      <td>50.89</td>\n",
       "      <td>0</td>\n",
       "      <td>0.0</td>\n",
       "      <td>0.0</td>\n",
       "      <td>108.0</td>\n",
       "      <td>0.0</td>\n",
       "      <td>0.0</td>\n",
       "      <td>0.0</td>\n",
       "      <td>936.01</td>\n",
       "      <td>936.01</td>\n",
       "      <td>NaN</td>\n",
       "      <td>0.0</td>\n",
       "    </tr>\n",
       "    <tr>\n",
       "      <th>3</th>\n",
       "      <td>Piece Dyed Greige Fabric</td>\n",
       "      <td>10765BDOOO</td>\n",
       "      <td>BUDHNI</td>\n",
       "      <td>7OE.OG*7OE.OG-66*44-163.2-3/1,S TWILL</td>\n",
       "      <td>148.0</td>\n",
       "      <td>0.0</td>\n",
       "      <td>0.00</td>\n",
       "      <td>0</td>\n",
       "      <td>995.0</td>\n",
       "      <td>0.0</td>\n",
       "      <td>0.0</td>\n",
       "      <td>0.0</td>\n",
       "      <td>0.0</td>\n",
       "      <td>0.0</td>\n",
       "      <td>1143.49</td>\n",
       "      <td>1143.49</td>\n",
       "      <td>NaN</td>\n",
       "      <td>0.0</td>\n",
       "    </tr>\n",
       "    <tr>\n",
       "      <th>4</th>\n",
       "      <td>Piece Dyed Greige Fabric</td>\n",
       "      <td>10766BD</td>\n",
       "      <td>BUDHNI</td>\n",
       "      <td>7OE*7OE-66*38-165-3/1,S TWILL                 ...</td>\n",
       "      <td>0.0</td>\n",
       "      <td>0.0</td>\n",
       "      <td>0.00</td>\n",
       "      <td>437</td>\n",
       "      <td>1705.0</td>\n",
       "      <td>0.0</td>\n",
       "      <td>0.0</td>\n",
       "      <td>0.0</td>\n",
       "      <td>0.0</td>\n",
       "      <td>0.0</td>\n",
       "      <td>2142.89</td>\n",
       "      <td>2142.89</td>\n",
       "      <td>NaN</td>\n",
       "      <td>0.0</td>\n",
       "    </tr>\n",
       "    <tr>\n",
       "      <th>...</th>\n",
       "      <td>...</td>\n",
       "      <td>...</td>\n",
       "      <td>...</td>\n",
       "      <td>...</td>\n",
       "      <td>...</td>\n",
       "      <td>...</td>\n",
       "      <td>...</td>\n",
       "      <td>...</td>\n",
       "      <td>...</td>\n",
       "      <td>...</td>\n",
       "      <td>...</td>\n",
       "      <td>...</td>\n",
       "      <td>...</td>\n",
       "      <td>...</td>\n",
       "      <td>...</td>\n",
       "      <td>...</td>\n",
       "      <td>...</td>\n",
       "      <td>...</td>\n",
       "    </tr>\n",
       "    <tr>\n",
       "      <th>1847</th>\n",
       "      <td>Yarn Dyed Greige Fabric</td>\n",
       "      <td>C140M751BAMCSLW11001HH127</td>\n",
       "      <td>Baddi</td>\n",
       "      <td>40COM*20LYC(40D)-92*46-173.33-OXFORD</td>\n",
       "      <td>0.0</td>\n",
       "      <td>0.0</td>\n",
       "      <td>0.00</td>\n",
       "      <td>0</td>\n",
       "      <td>102.0</td>\n",
       "      <td>0.0</td>\n",
       "      <td>0.0</td>\n",
       "      <td>0.0</td>\n",
       "      <td>0.0</td>\n",
       "      <td>0.0</td>\n",
       "      <td>102.00</td>\n",
       "      <td>102.00</td>\n",
       "      <td>NaN</td>\n",
       "      <td>0.0</td>\n",
       "    </tr>\n",
       "    <tr>\n",
       "      <th>1848</th>\n",
       "      <td>Yarn Dyed Greige Fabric</td>\n",
       "      <td>C140M751BAMCSLW11001HH128</td>\n",
       "      <td>Baddi</td>\n",
       "      <td>40COM*20LYC(40D)-92*46-173.33-OXFORD</td>\n",
       "      <td>0.0</td>\n",
       "      <td>0.0</td>\n",
       "      <td>0.00</td>\n",
       "      <td>0</td>\n",
       "      <td>114.0</td>\n",
       "      <td>0.0</td>\n",
       "      <td>0.0</td>\n",
       "      <td>0.0</td>\n",
       "      <td>0.0</td>\n",
       "      <td>0.0</td>\n",
       "      <td>114.00</td>\n",
       "      <td>114.00</td>\n",
       "      <td>NaN</td>\n",
       "      <td>0.0</td>\n",
       "    </tr>\n",
       "    <tr>\n",
       "      <th>1849</th>\n",
       "      <td>Yarn Dyed Greige Fabric</td>\n",
       "      <td>C140M751BAMCSW11001HH47</td>\n",
       "      <td>Baddi</td>\n",
       "      <td>40COM*20SPX(40D)-92*46-173.33-OXFORD</td>\n",
       "      <td>22.0</td>\n",
       "      <td>0.0</td>\n",
       "      <td>41.00</td>\n",
       "      <td>0</td>\n",
       "      <td>0.0</td>\n",
       "      <td>0.0</td>\n",
       "      <td>0.0</td>\n",
       "      <td>0.0</td>\n",
       "      <td>0.0</td>\n",
       "      <td>0.0</td>\n",
       "      <td>63.00</td>\n",
       "      <td>63.00</td>\n",
       "      <td>NaN</td>\n",
       "      <td>0.0</td>\n",
       "    </tr>\n",
       "    <tr>\n",
       "      <th>1850</th>\n",
       "      <td>Yarn Dyed Greige Fabric</td>\n",
       "      <td>C1500077BAMMW11001HH05</td>\n",
       "      <td>Baddi</td>\n",
       "      <td>50COM*50COM-132*78-170-OXFORD</td>\n",
       "      <td>0.0</td>\n",
       "      <td>0.0</td>\n",
       "      <td>0.00</td>\n",
       "      <td>184</td>\n",
       "      <td>0.0</td>\n",
       "      <td>0.0</td>\n",
       "      <td>0.0</td>\n",
       "      <td>0.0</td>\n",
       "      <td>0.0</td>\n",
       "      <td>0.0</td>\n",
       "      <td>184.00</td>\n",
       "      <td>184.00</td>\n",
       "      <td>NaN</td>\n",
       "      <td>0.0</td>\n",
       "    </tr>\n",
       "    <tr>\n",
       "      <th>1851</th>\n",
       "      <td>Yarn Dyed Greige Fabric</td>\n",
       "      <td>SURPLUSBAW00001HH01</td>\n",
       "      <td>Baddi</td>\n",
       "      <td>SURPLUS FABRIC</td>\n",
       "      <td>4776.0</td>\n",
       "      <td>0.0</td>\n",
       "      <td>0.00</td>\n",
       "      <td>0</td>\n",
       "      <td>0.0</td>\n",
       "      <td>0.0</td>\n",
       "      <td>0.0</td>\n",
       "      <td>0.0</td>\n",
       "      <td>0.0</td>\n",
       "      <td>0.0</td>\n",
       "      <td>5663.00</td>\n",
       "      <td>5663.00</td>\n",
       "      <td>0.00</td>\n",
       "      <td>0.0</td>\n",
       "    </tr>\n",
       "  </tbody>\n",
       "</table>\n",
       "<p>1852 rows × 18 columns</p>\n",
       "</div>"
      ],
      "text/plain": [
       "                  Product_Type                    Grey K1 Factory  \\\n",
       "0     Piece Dyed Greige Fabric               10700004BDOO  BUDHNI   \n",
       "1     Piece Dyed Greige Fabric                    10764BD  BUDHNI   \n",
       "2     Piece Dyed Greige Fabric                    10765BD  BUDHNI   \n",
       "3     Piece Dyed Greige Fabric                 10765BDOOO  BUDHNI   \n",
       "4     Piece Dyed Greige Fabric                    10766BD  BUDHNI   \n",
       "...                        ...                        ...     ...   \n",
       "1847   Yarn Dyed Greige Fabric  C140M751BAMCSLW11001HH127   Baddi   \n",
       "1848   Yarn Dyed Greige Fabric  C140M751BAMCSLW11001HH128   Baddi   \n",
       "1849   Yarn Dyed Greige Fabric    C140M751BAMCSW11001HH47   Baddi   \n",
       "1850   Yarn Dyed Greige Fabric     C1500077BAMMW11001HH05   Baddi   \n",
       "1851   Yarn Dyed Greige Fabric        SURPLUSBAW00001HH01   Baddi   \n",
       "\n",
       "                                           Construction    0-31  181-360  \\\n",
       "0                            7OE*7OE-70*36-160.8-OXFORD   980.0      0.0   \n",
       "1     7OE*7OE-70*40-165.1-3/1,S TWILL               ...     0.0   2216.0   \n",
       "2     7OE*7OE-66*44-163.2-3/1,S TWILL               ...   670.0    108.0   \n",
       "3                 7OE.OG*7OE.OG-66*44-163.2-3/1,S TWILL   148.0      0.0   \n",
       "4     7OE*7OE-66*38-165-3/1,S TWILL                 ...     0.0      0.0   \n",
       "...                                                 ...     ...      ...   \n",
       "1847               40COM*20LYC(40D)-92*46-173.33-OXFORD     0.0      0.0   \n",
       "1848               40COM*20LYC(40D)-92*46-173.33-OXFORD     0.0      0.0   \n",
       "1849               40COM*20SPX(40D)-92*46-173.33-OXFORD    22.0      0.0   \n",
       "1850                      50COM*50COM-132*78-170-OXFORD     0.0      0.0   \n",
       "1851                                     SURPLUS FABRIC  4776.0      0.0   \n",
       "\n",
       "      31-60  61-90  91-180  >360  Budhni Stock at Baddi  Grey Stock   Q8  \\\n",
       "0      0.00      0     0.0   0.0                    0.0         0.0  0.0   \n",
       "1      0.00      0     0.0   0.0                    0.0         0.0  0.0   \n",
       "2     50.89      0     0.0   0.0                  108.0         0.0  0.0   \n",
       "3      0.00      0   995.0   0.0                    0.0         0.0  0.0   \n",
       "4      0.00    437  1705.0   0.0                    0.0         0.0  0.0   \n",
       "...     ...    ...     ...   ...                    ...         ...  ...   \n",
       "1847   0.00      0   102.0   0.0                    0.0         0.0  0.0   \n",
       "1848   0.00      0   114.0   0.0                    0.0         0.0  0.0   \n",
       "1849  41.00      0     0.0   0.0                    0.0         0.0  0.0   \n",
       "1850   0.00    184     0.0   0.0                    0.0         0.0  0.0   \n",
       "1851   0.00      0     0.0   0.0                    0.0         0.0  0.0   \n",
       "\n",
       "      Rejected Stock  Total Physical Stock  reservation2  Stock_before_Oct  \\\n",
       "0                0.0                980.97        980.97              0.01   \n",
       "1                0.0               2216.07       2216.07           2216.07   \n",
       "2                0.0                936.01        936.01               NaN   \n",
       "3                0.0               1143.49       1143.49               NaN   \n",
       "4                0.0               2142.89       2142.89               NaN   \n",
       "...              ...                   ...           ...               ...   \n",
       "1847             0.0                102.00        102.00               NaN   \n",
       "1848             0.0                114.00        114.00               NaN   \n",
       "1849             0.0                 63.00         63.00               NaN   \n",
       "1850             0.0                184.00        184.00               NaN   \n",
       "1851             0.0               5663.00       5663.00              0.00   \n",
       "\n",
       "      Not_to_Allocat  \n",
       "0                0.0  \n",
       "1                0.0  \n",
       "2                0.0  \n",
       "3                0.0  \n",
       "4                0.0  \n",
       "...              ...  \n",
       "1847             0.0  \n",
       "1848             0.0  \n",
       "1849             0.0  \n",
       "1850             0.0  \n",
       "1851             0.0  \n",
       "\n",
       "[1852 rows x 18 columns]"
      ]
     },
     "execution_count": 125,
     "metadata": {},
     "output_type": "execute_result"
    }
   ],
   "source": [
    "current_stock"
   ]
  },
  {
   "cell_type": "code",
   "execution_count": 126,
   "metadata": {},
   "outputs": [],
   "source": [
    "#current_stock['Stock_before_Oct'].sum()"
   ]
  },
  {
   "cell_type": "code",
   "execution_count": 127,
   "metadata": {},
   "outputs": [],
   "source": [
    "#current_stock.shape"
   ]
  },
  {
   "cell_type": "code",
   "execution_count": 128,
   "metadata": {},
   "outputs": [],
   "source": [
    "#current_stock.sum()"
   ]
  },
  {
   "cell_type": "markdown",
   "metadata": {},
   "source": [
    "## WIP"
   ]
  },
  {
   "cell_type": "code",
   "execution_count": 129,
   "metadata": {},
   "outputs": [],
   "source": [
    "# current_stock.head(5)"
   ]
  },
  {
   "cell_type": "code",
   "execution_count": 130,
   "metadata": {},
   "outputs": [],
   "source": [
    "# wip = pd.read_excel('Budhni WIP.xlsx', sheet_name='Sheet3')"
   ]
  },
  {
   "cell_type": "code",
   "execution_count": 131,
   "metadata": {},
   "outputs": [],
   "source": [
    "# list(wip)"
   ]
  },
  {
   "cell_type": "code",
   "execution_count": 132,
   "metadata": {},
   "outputs": [],
   "source": [
    "# wip_Budhni=wip[['Sort No','Mtr']].rename(columns ={'Sort No':'Grey K1',\n",
    "#                                             'Mtr':'Grey Stock'})"
   ]
  },
  {
   "cell_type": "code",
   "execution_count": 133,
   "metadata": {},
   "outputs": [],
   "source": [
    "# wip_Budhni['Factory'] = 'Budhni'"
   ]
  },
  {
   "cell_type": "code",
   "execution_count": 134,
   "metadata": {},
   "outputs": [],
   "source": [
    "# wip_Budhni.head(2)"
   ]
  },
  {
   "cell_type": "code",
   "execution_count": 135,
   "metadata": {},
   "outputs": [],
   "source": [
    "# Budhni WIP Stock\n",
    "# round(sum(wip_Budhni['Grey Stock'])/100000,2)"
   ]
  },
  {
   "cell_type": "code",
   "execution_count": 136,
   "metadata": {},
   "outputs": [],
   "source": [
    "# wip = pd.read_excel(\"Baddi WIP 1Aug'20.xlsx\", sheet_name='Sheet7')"
   ]
  },
  {
   "cell_type": "code",
   "execution_count": 137,
   "metadata": {},
   "outputs": [],
   "source": [
    "# wip_Baddi=wip[['Grey K1','Fabric Length In Mtr']].rename(columns ={'Fabric Length In Mtr':'Grey Stock'})"
   ]
  },
  {
   "cell_type": "code",
   "execution_count": 138,
   "metadata": {},
   "outputs": [],
   "source": [
    "# wip_Baddi['Factory'] = 'Baddi'"
   ]
  },
  {
   "cell_type": "code",
   "execution_count": 139,
   "metadata": {},
   "outputs": [],
   "source": [
    "# wip_Baddi=wip_Baddi.dropna(subset=['Grey Stock'])"
   ]
  },
  {
   "cell_type": "code",
   "execution_count": 140,
   "metadata": {},
   "outputs": [],
   "source": [
    "# # Baddi WIp Stock\n",
    "# round(sum(wip_Baddi['Grey Stock'])/100000,2)"
   ]
  },
  {
   "cell_type": "code",
   "execution_count": 141,
   "metadata": {},
   "outputs": [],
   "source": [
    "# wip_Baddi.head(2)"
   ]
  },
  {
   "cell_type": "code",
   "execution_count": 142,
   "metadata": {},
   "outputs": [],
   "source": [
    "# current_stock= current_stock.append(wip_Baddi)"
   ]
  },
  {
   "cell_type": "code",
   "execution_count": 143,
   "metadata": {},
   "outputs": [],
   "source": [
    "# current_stock=current_stock.append(wip_Budhni)"
   ]
  },
  {
   "cell_type": "code",
   "execution_count": 144,
   "metadata": {},
   "outputs": [],
   "source": [
    "# current_stock.head(4)"
   ]
  },
  {
   "cell_type": "markdown",
   "metadata": {},
   "source": [
    "## After WIP"
   ]
  },
  {
   "cell_type": "code",
   "execution_count": 145,
   "metadata": {},
   "outputs": [],
   "source": [
    "#round(sum(current_stock['Grey Stock'][current_stock['Grey Stock']>0])/100000,2)\n"
   ]
  },
  {
   "cell_type": "code",
   "execution_count": 146,
   "metadata": {},
   "outputs": [],
   "source": [
    "#current_stock.columns"
   ]
  },
  {
   "cell_type": "code",
   "execution_count": 147,
   "metadata": {},
   "outputs": [
    {
     "name": "stderr",
     "output_type": "stream",
     "text": [
      "c:\\users\\fsc.reports1\\appdata\\local\\programs\\python\\python37\\lib\\site-packages\\ipykernel_launcher.py:1: SettingWithCopyWarning: \n",
      "A value is trying to be set on a copy of a slice from a DataFrame\n",
      "\n",
      "See the caveats in the documentation: https://pandas.pydata.org/pandas-docs/stable/user_guide/indexing.html#returning-a-view-versus-a-copy\n",
      "  \"\"\"Entry point for launching an IPython kernel.\n"
     ]
    }
   ],
   "source": [
    "current_stock['Factory'][current_stock['Factory']=='BUDHNI']='Budhni'"
   ]
  },
  {
   "cell_type": "code",
   "execution_count": 148,
   "metadata": {},
   "outputs": [],
   "source": [
    "# current_stock['Budhni Stock at Baddi']\n",
    "# pd.pivot_table(current_stock.fillna(0),columns ='Factory',values=['Grey Stock','Q8','0-31','31-60','61-90','91-180','181-360','>360','Stock_before_Oct','Budhni Stock at Baddi','Rejected Stock'], aggfunc=lambda x : round(sum(x/100000),2))"
   ]
  },
  {
   "cell_type": "code",
   "execution_count": 149,
   "metadata": {},
   "outputs": [],
   "source": [
    "current_stock.to_csv(\"Consolodated-Stock for referance.csv\")"
   ]
  },
  {
   "cell_type": "code",
   "execution_count": 150,
   "metadata": {},
   "outputs": [],
   "source": [
    "#current_stock.shape"
   ]
  },
  {
   "cell_type": "markdown",
   "metadata": {},
   "source": [
    "## Orders "
   ]
  },
  {
   "cell_type": "code",
   "execution_count": 154,
   "metadata": {},
   "outputs": [
    {
     "data": {
      "text/plain": [
       "['.ipynb_checkpoints',\n",
       " 'Allocation_index.xlsx',\n",
       " 'Article master.xlsx',\n",
       " 'Cancel2.xlsx',\n",
       " 'Consolodated-Stock for referance.csv',\n",
       " 'DB3 - 1-Sep - 5.57 PM.xls',\n",
       " \"DBWeaving 1st Sep'21.xls\",\n",
       " 'Greige stock 1.8.2021.xls',\n",
       " 'Greige Stock Allocation.ipynb',\n",
       " 'Grey.xlsx',\n",
       " 'Inventory Analysis Oct-21 Final.xlsx',\n",
       " 'Today Greige Allocation.xlsx']"
      ]
     },
     "execution_count": 154,
     "metadata": {},
     "output_type": "execute_result"
    }
   ],
   "source": [
    "os.listdir()\n",
    "#print(error)"
   ]
  },
  {
   "cell_type": "code",
   "execution_count": 155,
   "metadata": {},
   "outputs": [],
   "source": [
    "live_Orders= pd.read_excel('DB3 - 1-Sep - 5.57 PM.xls', sheet_name='Sheet')"
   ]
  },
  {
   "cell_type": "code",
   "execution_count": 156,
   "metadata": {},
   "outputs": [],
   "source": [
    "live_Orders = live_Orders[live_Orders['DocNo'].str.contains('E70')==False]"
   ]
  },
  {
   "cell_type": "code",
   "execution_count": 157,
   "metadata": {},
   "outputs": [],
   "source": [
    "# for idx,names in enumerate(list(live_Orders)):\n",
    "#     if ~ names.lower().rfind('revi'):\n",
    "#         print(idx+1,\")\",names, end = \" ,\")"
   ]
  },
  {
   "cell_type": "code",
   "execution_count": 158,
   "metadata": {},
   "outputs": [],
   "source": [
    "live_Orders['Grey K1']= np.where(live_Orders['Item Type'].str.endswith('YF'),live_Orders['Grey K1']+live_Orders['K3']+live_Orders['K4'],live_Orders['Grey K1'])"
   ]
  },
  {
   "cell_type": "code",
   "execution_count": 159,
   "metadata": {},
   "outputs": [],
   "source": [
    "live_Orders['Grey K1']= np.where(live_Orders['Item Type'].str.endswith('YR'),live_Orders['Grey K1']+live_Orders['K3']+live_Orders['K4'],live_Orders['Grey K1'])"
   ]
  },
  {
   "cell_type": "code",
   "execution_count": 160,
   "metadata": {},
   "outputs": [],
   "source": [
    "#live_Orders['Yarn XYZ']"
   ]
  },
  {
   "cell_type": "code",
   "execution_count": 161,
   "metadata": {},
   "outputs": [],
   "source": [
    "Final_Data=live_Orders[['Yarn XYZ','Grey K1','Weaving Plant','Fabric XYZ','DocNo','LineNo','Segment','Customer','K1','Order Qty','Cal. Grey Reqd.','Actual Planning Month','Current Budget','Revised CR Date']]"
   ]
  },
  {
   "cell_type": "code",
   "execution_count": 162,
   "metadata": {},
   "outputs": [
    {
     "name": "stderr",
     "output_type": "stream",
     "text": [
      "c:\\users\\fsc.reports1\\appdata\\local\\programs\\python\\python37\\lib\\site-packages\\ipykernel_launcher.py:1: SettingWithCopyWarning: \n",
      "A value is trying to be set on a copy of a slice from a DataFrame.\n",
      "Try using .loc[row_indexer,col_indexer] = value instead\n",
      "\n",
      "See the caveats in the documentation: https://pandas.pydata.org/pandas-docs/stable/user_guide/indexing.html#returning-a-view-versus-a-copy\n",
      "  \"\"\"Entry point for launching an IPython kernel.\n"
     ]
    }
   ],
   "source": [
    "Final_Data['Hold status']='TBA'"
   ]
  },
  {
   "cell_type": "code",
   "execution_count": 163,
   "metadata": {},
   "outputs": [
    {
     "name": "stderr",
     "output_type": "stream",
     "text": [
      "c:\\users\\fsc.reports1\\appdata\\local\\programs\\python\\python37\\lib\\site-packages\\ipykernel_launcher.py:3: SettingWithCopyWarning: \n",
      "A value is trying to be set on a copy of a slice from a DataFrame.\n",
      "Try using .loc[row_indexer,col_indexer] = value instead\n",
      "\n",
      "See the caveats in the documentation: https://pandas.pydata.org/pandas-docs/stable/user_guide/indexing.html#returning-a-view-versus-a-copy\n",
      "  This is separate from the ipykernel package so we can avoid doing imports until\n"
     ]
    }
   ],
   "source": [
    "Final_Data['Hold status']=np.where(Final_Data['Actual Planning Month'].fillna('NA').str.contains('Covid 1',case = False),'Covid 1 Hold',\n",
    "          np.where(Final_Data['Actual Planning Month'].fillna('NA').str.contains('Covid 2',case = False),'Covid 2 Hold',\n",
    "          'Check'))"
   ]
  },
  {
   "cell_type": "code",
   "execution_count": 164,
   "metadata": {},
   "outputs": [
    {
     "name": "stderr",
     "output_type": "stream",
     "text": [
      "c:\\users\\fsc.reports1\\appdata\\local\\programs\\python\\python37\\lib\\site-packages\\ipykernel_launcher.py:4: SettingWithCopyWarning: \n",
      "A value is trying to be set on a copy of a slice from a DataFrame.\n",
      "Try using .loc[row_indexer,col_indexer] = value instead\n",
      "\n",
      "See the caveats in the documentation: https://pandas.pydata.org/pandas-docs/stable/user_guide/indexing.html#returning-a-view-versus-a-copy\n",
      "  after removing the cwd from sys.path.\n"
     ]
    }
   ],
   "source": [
    "Final_Data['OrderType']=np.where(Final_Data['Actual Planning Month'].str.startswith('Hold'),'Hold',\n",
    "        np.where(Final_Data['Actual Planning Month'].str.startswith('hold'),'Hold',\n",
    "                np.where(Final_Data['DocNo'].str.contains('E72'),'MIL',\n",
    "                         np.where(Final_Data['Hold status'].fillna('NA').str.contains('Hold',case = False),'Hold','Release'))))"
   ]
  },
  {
   "cell_type": "code",
   "execution_count": 165,
   "metadata": {},
   "outputs": [
    {
     "name": "stderr",
     "output_type": "stream",
     "text": [
      "c:\\users\\fsc.reports1\\appdata\\local\\programs\\python\\python37\\lib\\site-packages\\ipykernel_launcher.py:1: SettingWithCopyWarning: \n",
      "A value is trying to be set on a copy of a slice from a DataFrame.\n",
      "Try using .loc[row_indexer,col_indexer] = value instead\n",
      "\n",
      "See the caveats in the documentation: https://pandas.pydata.org/pandas-docs/stable/user_guide/indexing.html#returning-a-view-versus-a-copy\n",
      "  \"\"\"Entry point for launching an IPython kernel.\n"
     ]
    }
   ],
   "source": [
    "Final_Data['OrderType']=np.where(Final_Data['Actual Planning Month'].isna(),'Release',Final_Data['OrderType'])"
   ]
  },
  {
   "cell_type": "code",
   "execution_count": 166,
   "metadata": {},
   "outputs": [],
   "source": [
    "#Final_Data.head()"
   ]
  },
  {
   "cell_type": "code",
   "execution_count": 171,
   "metadata": {},
   "outputs": [
    {
     "data": {
      "text/plain": [
       "['.ipynb_checkpoints',\n",
       " 'Allocation_index.xlsx',\n",
       " 'Article master.xlsx',\n",
       " 'Cancel2.xlsx',\n",
       " 'Consolodated-Stock for referance.csv',\n",
       " 'DB3 - 1-Sep - 5.57 PM.xls',\n",
       " \"DBWeaving 1st Sep'21.xls\",\n",
       " 'Greige stock 1.8.2021.xls',\n",
       " 'Greige Stock Allocation.ipynb',\n",
       " 'Grey.xlsx',\n",
       " 'Inventory Analysis Oct-21 Final.xlsx',\n",
       " 'Order position.xlsx',\n",
       " 'Today Greige Allocation.xlsx']"
      ]
     },
     "execution_count": 171,
     "metadata": {},
     "output_type": "execute_result"
    }
   ],
   "source": [
    "os.listdir()"
   ]
  },
  {
   "cell_type": "code",
   "execution_count": 168,
   "metadata": {},
   "outputs": [],
   "source": [
    "Final_Data.to_excel('Order position.xlsx')"
   ]
  },
  {
   "cell_type": "code",
   "execution_count": 169,
   "metadata": {},
   "outputs": [
    {
     "name": "stderr",
     "output_type": "stream",
     "text": [
      "c:\\users\\fsc.reports1\\appdata\\local\\programs\\python\\python37\\lib\\site-packages\\ipykernel_launcher.py:1: SettingWithCopyWarning: \n",
      "A value is trying to be set on a copy of a slice from a DataFrame.\n",
      "Try using .loc[row_indexer,col_indexer] = value instead\n",
      "\n",
      "See the caveats in the documentation: https://pandas.pydata.org/pandas-docs/stable/user_guide/indexing.html#returning-a-view-versus-a-copy\n",
      "  \"\"\"Entry point for launching an IPython kernel.\n"
     ]
    }
   ],
   "source": [
    "Final_Data['Base File Name']= 'Live Orders From DB3'"
   ]
  },
  {
   "cell_type": "code",
   "execution_count": 172,
   "metadata": {},
   "outputs": [],
   "source": [
    "GrOrders = pd.read_excel(\"DBWeaving 1st Sep'21.xls\")\n"
   ]
  },
  {
   "cell_type": "code",
   "execution_count": 173,
   "metadata": {},
   "outputs": [],
   "source": [
    "# for idx,names in enumerate(list(GrOrders)):\n",
    "#     if ~ names.lower().rfind('act'):\n",
    "#         print(idx+1,\")\",names, end = \" ,\")"
   ]
  },
  {
   "cell_type": "code",
   "execution_count": 174,
   "metadata": {},
   "outputs": [],
   "source": [
    "GrOrders =GrOrders[['Grey K1','Wvg Plant','K1','Fabric XYZ','DocNo.','Line No','Segment','Customer','Grey To Weave','Gry REDOD','Actual Planning Month','Current Budget','Revised CR Date']]"
   ]
  },
  {
   "cell_type": "code",
   "execution_count": 175,
   "metadata": {},
   "outputs": [],
   "source": [
    "searchfor = ['S90', 'S91','SG8']\n",
    "GrOrders=GrOrders[GrOrders['DocNo.'].str.contains(\"|\".join(searchfor)).fillna(False)]"
   ]
  },
  {
   "cell_type": "code",
   "execution_count": 176,
   "metadata": {},
   "outputs": [],
   "source": [
    "GrOrders['OrderType']=np.where(GrOrders['DocNo.'].str.contains('S90'),\"Domestic Greige\",\n",
    "         np.where(GrOrders['DocNo.'].str.contains('S91'),\"Export Greige\",\"Projections\"))"
   ]
  },
  {
   "cell_type": "code",
   "execution_count": 177,
   "metadata": {},
   "outputs": [],
   "source": [
    "GrOrders=GrOrders.rename(columns={\"Grey To Weave\":'Cal. Grey Reqd.',\n",
    "                                 'Wvg Plant':'Weaving Plant',\n",
    "                                 'DocNo.':'DocNo',\n",
    "                                 'Line No':'LineNo'})"
   ]
  },
  {
   "cell_type": "code",
   "execution_count": 178,
   "metadata": {},
   "outputs": [],
   "source": [
    "GrOrders['Gry REDOD']=GrOrders['Gry REDOD'].astype(str)"
   ]
  },
  {
   "cell_type": "code",
   "execution_count": 179,
   "metadata": {},
   "outputs": [],
   "source": [
    "GrOrders['OrderType']=np.where(GrOrders['Gry REDOD'].str.startswith(\"300\"), \"Hold \" + GrOrders['OrderType'],GrOrders['OrderType'])"
   ]
  },
  {
   "cell_type": "code",
   "execution_count": 180,
   "metadata": {},
   "outputs": [],
   "source": [
    "#list(GrOrders)"
   ]
  },
  {
   "cell_type": "code",
   "execution_count": 181,
   "metadata": {},
   "outputs": [],
   "source": [
    "GrOrders['Base File Name']= 'Greige Order From DB Weaving'"
   ]
  },
  {
   "cell_type": "code",
   "execution_count": 182,
   "metadata": {},
   "outputs": [],
   "source": [
    "#list(Final_Data)"
   ]
  },
  {
   "cell_type": "code",
   "execution_count": 183,
   "metadata": {},
   "outputs": [],
   "source": [
    "last_file.rename(columns={\n",
    "    \"DOC_NO\" :'DocNo',\n",
    "    'wvg_plant':'Weaving Plant'\n",
    "}, inplace=True)"
   ]
  },
  {
   "cell_type": "code",
   "execution_count": 184,
   "metadata": {},
   "outputs": [],
   "source": [
    "Final_Data=Final_Data.append(GrOrders)"
   ]
  },
  {
   "cell_type": "code",
   "execution_count": 185,
   "metadata": {},
   "outputs": [],
   "source": [
    "#list(last_file)"
   ]
  },
  {
   "cell_type": "code",
   "execution_count": 186,
   "metadata": {},
   "outputs": [],
   "source": [
    "last_file.rename(columns={'segment_desc' :'Segment'}, inplace=True)"
   ]
  },
  {
   "cell_type": "code",
   "execution_count": 187,
   "metadata": {},
   "outputs": [],
   "source": [
    "last_file.rename(columns={'grey_k1':'Grey K1'}, inplace=True)"
   ]
  },
  {
   "cell_type": "code",
   "execution_count": 188,
   "metadata": {},
   "outputs": [],
   "source": [
    "Final_Data = Final_Data.append(last_file)"
   ]
  },
  {
   "cell_type": "code",
   "execution_count": 189,
   "metadata": {},
   "outputs": [],
   "source": [
    "#Final_Data.info()"
   ]
  },
  {
   "cell_type": "code",
   "execution_count": 190,
   "metadata": {},
   "outputs": [],
   "source": [
    "#Final_Data['OrderType'].unique()"
   ]
  },
  {
   "cell_type": "code",
   "execution_count": 191,
   "metadata": {},
   "outputs": [],
   "source": [
    "Final_Data.to_excel('Order_position.xlsx',sheet_name='maindata')"
   ]
  },
  {
   "cell_type": "code",
   "execution_count": 194,
   "metadata": {},
   "outputs": [
    {
     "data": {
      "text/plain": [
       "['.ipynb_checkpoints',\n",
       " 'Allocation_index.xlsx',\n",
       " 'Article master.xlsx',\n",
       " 'Cancel2.xlsx',\n",
       " 'Consolodated-Stock for referance.csv',\n",
       " 'DB3 - 1-Sep - 5.57 PM.xls',\n",
       " \"DBWeaving 1st Sep'21.xls\",\n",
       " 'Greige stock 1.8.2021.xls',\n",
       " 'Greige Stock Allocation.ipynb',\n",
       " 'Grey.xlsx',\n",
       " 'Inventory Analysis Oct-21 Final.xlsx',\n",
       " 'Order position.xlsx',\n",
       " 'Order_position.xlsx',\n",
       " 'Today Greige Allocation.xlsx']"
      ]
     },
     "execution_count": 194,
     "metadata": {},
     "output_type": "execute_result"
    }
   ],
   "source": [
    "os.listdir()"
   ]
  },
  {
   "cell_type": "markdown",
   "metadata": {},
   "source": [
    "## Fresh Cancel"
   ]
  },
  {
   "cell_type": "code",
   "execution_count": 195,
   "metadata": {},
   "outputs": [],
   "source": [
    "Fresh_Cancel  = pd.read_excel('Cancel2.xlsx')"
   ]
  },
  {
   "cell_type": "code",
   "execution_count": 196,
   "metadata": {},
   "outputs": [],
   "source": [
    "#list(Fresh_Cancel)"
   ]
  },
  {
   "cell_type": "code",
   "execution_count": 197,
   "metadata": {},
   "outputs": [],
   "source": [
    "#Fresh_Cancel.head(2)"
   ]
  },
  {
   "cell_type": "code",
   "execution_count": 198,
   "metadata": {},
   "outputs": [],
   "source": [
    "Fresh_Cancel.rename(columns={'segment_desc':'Segment',\n",
    "                            'cust_desc':'Customer',\n",
    "                            'grey_k1':'Grey K1',\n",
    "                            'wvg_plant' :'Weaving Plant' } , inplace=True)"
   ]
  },
  {
   "cell_type": "code",
   "execution_count": 199,
   "metadata": {},
   "outputs": [],
   "source": [
    "Fresh_Cancel.rename(columns={\n",
    "    'Base_Order':'DocNo',\n",
    "    'line no.' : 'LineNo',\n",
    "    'Total' :'Cal. Grey Reqd.'\n",
    "}, inplace=True)"
   ]
  },
  {
   "cell_type": "code",
   "execution_count": 200,
   "metadata": {},
   "outputs": [],
   "source": [
    "Fresh_Cancel['OrderType']='Fresh_Cancel'"
   ]
  },
  {
   "cell_type": "code",
   "execution_count": 201,
   "metadata": {},
   "outputs": [],
   "source": [
    "Fresh_Cancel['Base File Name'] = 'New Cancel Orders'"
   ]
  },
  {
   "cell_type": "code",
   "execution_count": 202,
   "metadata": {},
   "outputs": [],
   "source": [
    "Final_Data=Final_Data.append(Fresh_Cancel)"
   ]
  },
  {
   "cell_type": "markdown",
   "metadata": {},
   "source": [
    "## Allocation of Stock "
   ]
  },
  {
   "cell_type": "code",
   "execution_count": 203,
   "metadata": {},
   "outputs": [],
   "source": [
    "Final_Data.rename(columns={\n",
    "   'Allocated_stock' :'Previous_Allocated_stock' \n",
    "},inplace=True)\n"
   ]
  },
  {
   "cell_type": "code",
   "execution_count": 204,
   "metadata": {},
   "outputs": [],
   "source": [
    "#current_stock.sum()"
   ]
  },
  {
   "cell_type": "code",
   "execution_count": 205,
   "metadata": {},
   "outputs": [],
   "source": [
    "article_master = pd.read_excel('Article master.xlsx', sheet_name='Products')"
   ]
  },
  {
   "cell_type": "code",
   "execution_count": 206,
   "metadata": {},
   "outputs": [],
   "source": [
    "article_master=article_master[['Grey K1','Standard  Article']]"
   ]
  },
  {
   "cell_type": "code",
   "execution_count": 207,
   "metadata": {},
   "outputs": [],
   "source": [
    "article_master.drop_duplicates(inplace=True)"
   ]
  },
  {
   "cell_type": "code",
   "execution_count": 208,
   "metadata": {},
   "outputs": [],
   "source": [
    "Final_Data=pd.merge(Final_Data,article_master, on ='Grey K1', how = 'left')"
   ]
  },
  {
   "cell_type": "code",
   "execution_count": 209,
   "metadata": {},
   "outputs": [],
   "source": [
    "current_stock=pd.merge(current_stock,article_master, on ='Grey K1', how = 'left')"
   ]
  },
  {
   "cell_type": "code",
   "execution_count": 210,
   "metadata": {},
   "outputs": [],
   "source": [
    "#round(sum(current_stock['Grey Stock'][current_stock['Grey Stock']>0])/100000,2)"
   ]
  },
  {
   "cell_type": "code",
   "execution_count": 211,
   "metadata": {},
   "outputs": [],
   "source": [
    "current_stock['Standard  Article']=np.where(current_stock['Standard  Article'].isna(),current_stock['Grey K1'],current_stock['Standard  Article'])"
   ]
  },
  {
   "cell_type": "code",
   "execution_count": 212,
   "metadata": {},
   "outputs": [],
   "source": [
    "Final_Data['Standard  Article']=np.where(Final_Data['Standard  Article'].isna(),Final_Data['Grey K1'],Final_Data['Standard  Article'])"
   ]
  },
  {
   "cell_type": "code",
   "execution_count": 213,
   "metadata": {},
   "outputs": [],
   "source": [
    "Final_Data['Weaving Plant']=np.where(Final_Data['Weaving Plant']==21,\"Baddi\",\n",
    "        np.where(Final_Data['Weaving Plant']==22,\"Budhni\",Final_Data['Weaving Plant']))"
   ]
  },
  {
   "cell_type": "code",
   "execution_count": 214,
   "metadata": {},
   "outputs": [],
   "source": [
    "current_stock.rename(columns={\n",
    "    'Factory':'Weaving Plant'\n",
    "}, inplace=True)"
   ]
  },
  {
   "cell_type": "code",
   "execution_count": 215,
   "metadata": {},
   "outputs": [],
   "source": [
    "#list(current_stock)"
   ]
  },
  {
   "cell_type": "code",
   "execution_count": 216,
   "metadata": {},
   "outputs": [],
   "source": [
    "#pd.pivot_table(current_stock,index ='Weaving Plant',values=['Grey Stock','Rejected Stock','Total Physical Stock','Q8','0-31','31-60','61-90','91-180','181-360','>360'], aggfunc=sum , margins=True)"
   ]
  },
  {
   "cell_type": "code",
   "execution_count": 217,
   "metadata": {},
   "outputs": [],
   "source": [
    "#round(sum(current_stock['Grey Stock'])/100000,2)"
   ]
  },
  {
   "cell_type": "code",
   "execution_count": 218,
   "metadata": {},
   "outputs": [],
   "source": [
    "current_stock.drop(columns={'Grey K1'}, inplace=True)"
   ]
  },
  {
   "cell_type": "code",
   "execution_count": 219,
   "metadata": {},
   "outputs": [],
   "source": [
    "#round(sum(current_stock['Grey Stock'])/100000,2)"
   ]
  },
  {
   "cell_type": "code",
   "execution_count": 220,
   "metadata": {},
   "outputs": [],
   "source": [
    "#current_stock.columns"
   ]
  },
  {
   "cell_type": "code",
   "execution_count": 221,
   "metadata": {},
   "outputs": [],
   "source": [
    "#print(error)"
   ]
  },
  {
   "cell_type": "code",
   "execution_count": 222,
   "metadata": {},
   "outputs": [],
   "source": [
    "#Stock=pd.pivot_table(current_stock,index = ['reservation2','Product_Type','Weaving Plant','Standard  Article'], values=['Grey Stock'], aggfunc=sum).reset_index()"
   ]
  },
  {
   "cell_type": "code",
   "execution_count": 223,
   "metadata": {},
   "outputs": [],
   "source": [
    "#round(sum(Stock['Grey Stock'])/100000,2)"
   ]
  },
  {
   "cell_type": "code",
   "execution_count": 224,
   "metadata": {},
   "outputs": [],
   "source": [
    "Stock=pd.pivot_table(current_stock,index = ['Product_Type','Weaving Plant','Standard  Article'], values=['Grey Stock','Rejected Stock','Total Physical Stock','Q8','0-31','31-60','61-90','91-180','181-360','>360','Stock_before_Oct','Budhni Stock at Baddi'], aggfunc=sum).reset_index()"
   ]
  },
  {
   "cell_type": "code",
   "execution_count": 225,
   "metadata": {},
   "outputs": [],
   "source": [
    "#round(sum(Stock['Grey Stock'])/100000,2)"
   ]
  },
  {
   "cell_type": "code",
   "execution_count": 226,
   "metadata": {},
   "outputs": [],
   "source": [
    "#Stock.sum()"
   ]
  },
  {
   "cell_type": "code",
   "execution_count": 227,
   "metadata": {},
   "outputs": [],
   "source": [
    "Cons=current_stock[['Standard  Article','Construction']].drop_duplicates(subset=['Standard  Article'])"
   ]
  },
  {
   "cell_type": "code",
   "execution_count": 228,
   "metadata": {},
   "outputs": [],
   "source": [
    "Stock=pd.merge(Stock,Cons, on = 'Standard  Article',how = 'left')"
   ]
  },
  {
   "cell_type": "code",
   "execution_count": 229,
   "metadata": {},
   "outputs": [],
   "source": [
    "#round(sum(Stock['Grey Stock'])/100000,2)"
   ]
  },
  {
   "cell_type": "code",
   "execution_count": 230,
   "metadata": {},
   "outputs": [
    {
     "data": {
      "text/plain": [
       "Product_Type             Piece Dyed Greige FabricPiece Dyed Greige Fabr...\n",
       "Weaving Plant            BaddiBaddiBaddiBaddiBaddiBaddiBaddiBaddiBaddiB...\n",
       "Standard  Article        11400005BAOOLD11400036BACCOQ211400036BDCCOQ116...\n",
       "0-31                                                            6.6764e+06\n",
       "181-360                                                         1.3608e+06\n",
       "31-60                                                          1.51777e+06\n",
       "61-90                                                               760928\n",
       "91-180                                                         3.63883e+06\n",
       ">360                                                           1.14538e+06\n",
       "Budhni Stock at Baddi                                              84188.3\n",
       "Grey Stock                                                     1.09696e+06\n",
       "Q8                                                                  685478\n",
       "Rejected Stock                                                     41400.4\n",
       "Stock_before_Oct                                               1.91713e+06\n",
       "Total Physical Stock                                           1.60808e+07\n",
       "Construction             14OE.PC*14OE.PC-76*46-174-2/1,S TWILL         ...\n",
       "dtype: object"
      ]
     },
     "execution_count": 230,
     "metadata": {},
     "output_type": "execute_result"
    }
   ],
   "source": [
    "Stock.sum()"
   ]
  },
  {
   "cell_type": "code",
   "execution_count": 231,
   "metadata": {},
   "outputs": [],
   "source": [
    "#pd.pivot_table(Stock,index ='Weaving Plant',values=['reservation2','Total Physical Stock','Rejected Stock','Grey Stock','Q8','0-31','31-60','61-90','91-180','181-360','>360','Stock_before_Oct','Budhni Stock at Baddi'], aggfunc=lambda x : round(sum(x/100000),2) , margins=True).transpose()"
   ]
  },
  {
   "cell_type": "code",
   "execution_count": 232,
   "metadata": {},
   "outputs": [],
   "source": [
    "Appd=Stock[['Weaving Plant','Standard  Article']]"
   ]
  },
  {
   "cell_type": "code",
   "execution_count": 233,
   "metadata": {},
   "outputs": [
    {
     "name": "stderr",
     "output_type": "stream",
     "text": [
      "c:\\users\\fsc.reports1\\appdata\\local\\programs\\python\\python37\\lib\\site-packages\\ipykernel_launcher.py:1: SettingWithCopyWarning: \n",
      "A value is trying to be set on a copy of a slice from a DataFrame.\n",
      "Try using .loc[row_indexer,col_indexer] = value instead\n",
      "\n",
      "See the caveats in the documentation: https://pandas.pydata.org/pandas-docs/stable/user_guide/indexing.html#returning-a-view-versus-a-copy\n",
      "  \"\"\"Entry point for launching an IPython kernel.\n"
     ]
    }
   ],
   "source": [
    "Appd['Segment']= \"Non Allocated\""
   ]
  },
  {
   "cell_type": "code",
   "execution_count": 234,
   "metadata": {},
   "outputs": [
    {
     "name": "stderr",
     "output_type": "stream",
     "text": [
      "c:\\users\\fsc.reports1\\appdata\\local\\programs\\python\\python37\\lib\\site-packages\\ipykernel_launcher.py:1: SettingWithCopyWarning: \n",
      "A value is trying to be set on a copy of a slice from a DataFrame.\n",
      "Try using .loc[row_indexer,col_indexer] = value instead\n",
      "\n",
      "See the caveats in the documentation: https://pandas.pydata.org/pandas-docs/stable/user_guide/indexing.html#returning-a-view-versus-a-copy\n",
      "  \"\"\"Entry point for launching an IPython kernel.\n"
     ]
    }
   ],
   "source": [
    "Appd['Cal. Grey Reqd.']= 0"
   ]
  },
  {
   "cell_type": "code",
   "execution_count": 235,
   "metadata": {},
   "outputs": [
    {
     "name": "stderr",
     "output_type": "stream",
     "text": [
      "c:\\users\\fsc.reports1\\appdata\\local\\programs\\python\\python37\\lib\\site-packages\\ipykernel_launcher.py:1: SettingWithCopyWarning: \n",
      "A value is trying to be set on a copy of a slice from a DataFrame.\n",
      "Try using .loc[row_indexer,col_indexer] = value instead\n",
      "\n",
      "See the caveats in the documentation: https://pandas.pydata.org/pandas-docs/stable/user_guide/indexing.html#returning-a-view-versus-a-copy\n",
      "  \"\"\"Entry point for launching an IPython kernel.\n"
     ]
    }
   ],
   "source": [
    "Appd['OrderType']= \"Non Allocated\""
   ]
  },
  {
   "cell_type": "code",
   "execution_count": 236,
   "metadata": {},
   "outputs": [],
   "source": [
    "#Appd.shape"
   ]
  },
  {
   "cell_type": "code",
   "execution_count": 237,
   "metadata": {},
   "outputs": [
    {
     "name": "stderr",
     "output_type": "stream",
     "text": [
      "c:\\users\\fsc.reports1\\appdata\\local\\programs\\python\\python37\\lib\\site-packages\\ipykernel_launcher.py:1: SettingWithCopyWarning: \n",
      "A value is trying to be set on a copy of a slice from a DataFrame\n",
      "\n",
      "See the caveats in the documentation: https://pandas.pydata.org/pandas-docs/stable/user_guide/indexing.html#returning-a-view-versus-a-copy\n",
      "  \"\"\"Entry point for launching an IPython kernel.\n"
     ]
    }
   ],
   "source": [
    "Appd.drop_duplicates(subset=['Weaving Plant','Standard  Article'], inplace=True)"
   ]
  },
  {
   "cell_type": "code",
   "execution_count": 238,
   "metadata": {},
   "outputs": [],
   "source": [
    "#Appd.head()"
   ]
  },
  {
   "cell_type": "code",
   "execution_count": 239,
   "metadata": {},
   "outputs": [],
   "source": [
    "Final_Data=Final_Data.append(Appd)"
   ]
  },
  {
   "cell_type": "code",
   "execution_count": 240,
   "metadata": {},
   "outputs": [],
   "source": [
    "#Final_Data.head()"
   ]
  },
  {
   "cell_type": "code",
   "execution_count": 241,
   "metadata": {},
   "outputs": [],
   "source": [
    "#Stock.sum()"
   ]
  },
  {
   "cell_type": "code",
   "execution_count": 242,
   "metadata": {},
   "outputs": [],
   "source": [
    "Final_Data=pd.merge(Final_Data,Stock, on = ['Weaving Plant','Standard  Article'], how = 'left')"
   ]
  },
  {
   "cell_type": "code",
   "execution_count": 243,
   "metadata": {},
   "outputs": [],
   "source": [
    "#Final_Data.columns"
   ]
  },
  {
   "cell_type": "code",
   "execution_count": 244,
   "metadata": {},
   "outputs": [],
   "source": [
    "Allocation_index=pd.read_excel('Allocation_index.xlsx')"
   ]
  },
  {
   "cell_type": "code",
   "execution_count": 245,
   "metadata": {},
   "outputs": [],
   "source": [
    "Final_Data=pd.merge(Final_Data,Allocation_index, on = 'OrderType', how = 'left')\n"
   ]
  },
  {
   "cell_type": "code",
   "execution_count": 246,
   "metadata": {},
   "outputs": [],
   "source": [
    "Final_Data['Actual Planning Month1'] = pd.to_datetime(Final_Data['Actual Planning Month'],errors = 'coerce')"
   ]
  },
  {
   "cell_type": "code",
   "execution_count": 247,
   "metadata": {},
   "outputs": [],
   "source": [
    "Final_Data['Current Budget1'] = pd.to_datetime(Final_Data['Current Budget'],errors = 'coerce')"
   ]
  },
  {
   "cell_type": "code",
   "execution_count": 248,
   "metadata": {},
   "outputs": [],
   "source": [
    "Final_Data['Revised CR Date1'] = pd.to_datetime(Final_Data['Revised CR Date'],errors = 'coerce')"
   ]
  },
  {
   "cell_type": "code",
   "execution_count": 249,
   "metadata": {},
   "outputs": [],
   "source": [
    "Final_Data['MaxActCurRCR']=Final_Data[['Actual Planning Month1','Current Budget1','Revised CR Date1']].max(axis=1)"
   ]
  },
  {
   "cell_type": "code",
   "execution_count": null,
   "metadata": {},
   "outputs": [],
   "source": []
  },
  {
   "cell_type": "code",
   "execution_count": 250,
   "metadata": {},
   "outputs": [],
   "source": [
    "#print(Error)"
   ]
  },
  {
   "cell_type": "code",
   "execution_count": null,
   "metadata": {},
   "outputs": [],
   "source": []
  },
  {
   "cell_type": "code",
   "execution_count": 251,
   "metadata": {},
   "outputs": [],
   "source": [
    "Final_Data['MonthofLiquidation']= np.where(Final_Data['Segment'].str.contains('Greige'),Final_Data['Current Budget1'],\n",
    "                                          Final_Data['Actual Planning Month1'])"
   ]
  },
  {
   "cell_type": "code",
   "execution_count": 252,
   "metadata": {},
   "outputs": [],
   "source": [
    "#Final_Data[['Actual Planning Month1','Current Budget1','Revised CR Date1','MaxActCurRCR']]"
   ]
  },
  {
   "cell_type": "markdown",
   "metadata": {},
   "source": [
    "##  if no Current Budget Then +Rand by 0.1"
   ]
  },
  {
   "cell_type": "code",
   "execution_count": 253,
   "metadata": {},
   "outputs": [],
   "source": [
    "Final_Data['Rank']=np.where(Final_Data['Current Budget1'].isna(),Final_Data['Rank']+0.1,Final_Data['Rank'])"
   ]
  },
  {
   "cell_type": "code",
   "execution_count": null,
   "metadata": {},
   "outputs": [],
   "source": []
  },
  {
   "cell_type": "code",
   "execution_count": 254,
   "metadata": {},
   "outputs": [],
   "source": [
    "Final_Data_Sorted=Final_Data.sort_values( by =['Weaving Plant','Standard  Article','Rank','MaxActCurRCR','Actual Planning Month1','Current Budget1','Revised CR Date1'],ascending=True)"
   ]
  },
  {
   "cell_type": "code",
   "execution_count": 255,
   "metadata": {},
   "outputs": [],
   "source": [
    "# Final_Data_Sorted[['Weaving Plant','Standard  Article',\n",
    "#             'DocNo',\n",
    "#             'MaxActCurRCR','Rank',\n",
    "#             'Actual Planning Month1',\n",
    "#             'Current Budget1',\n",
    "#             'Revised CR Date1']][Final_Data_Sorted['Standard  Article'].str.contains('140W87')]"
   ]
  },
  {
   "cell_type": "code",
   "execution_count": null,
   "metadata": {},
   "outputs": [],
   "source": []
  },
  {
   "cell_type": "code",
   "execution_count": 256,
   "metadata": {},
   "outputs": [],
   "source": [
    "#Final_Data_Sorted[['Rank','OrderType']].drop_duplicates().sort_values(['Rank'])"
   ]
  },
  {
   "cell_type": "code",
   "execution_count": 257,
   "metadata": {},
   "outputs": [],
   "source": [
    "Final_Data_Sorted.reset_index(drop=True, inplace=True)"
   ]
  },
  {
   "cell_type": "code",
   "execution_count": 258,
   "metadata": {},
   "outputs": [],
   "source": [
    "Final_Data_Sorted['Max_Possible_Allocation']=np.where(Final_Data_Sorted['OrderType'].str.contains('Cancel', case = False),Final_Data_Sorted['Previous_Allocated_stock'],Final_Data_Sorted['Cal. Grey Reqd.'])"
   ]
  },
  {
   "cell_type": "code",
   "execution_count": 259,
   "metadata": {},
   "outputs": [],
   "source": [
    "# Final_Data_Sorted2=Final_Data_Sorted[['reservation2','Product_Type','MonthofLiquidation','Fabric XYZ','Yarn XYZ','Hold status','Liquidation Plan',' Liquidation Month ','Remark','Segment','Customer','DocNo','LineNo',\n",
    "#                                       'K1','Grey K1','Standard  Article',\n",
    "#                                       'Weaving Plant','Actual Planning Month','Gry REDOD',\n",
    "#                                       'Order Qty',\n",
    "#                                        'Cal. Grey Reqd.','Previous_Allocated_stock','Max_Possible_Allocation',\n",
    "#                                         'OrderType','Rank','Grey Stock','Rejected Stock']]"
   ]
  },
  {
   "cell_type": "code",
   "execution_count": 265,
   "metadata": {},
   "outputs": [],
   "source": [
    "Final_Data_Sorted2=Final_Data_Sorted[['Product_Type','MonthofLiquidation','Yarn XYZ','Hold status','Liquidation Plan','Liquidation month ','Remark','Segment','Customer','DocNo','LineNo',\n",
    "                                      'K1','Grey K1','Standard  Article','Construction','Fabric XYZ',\n",
    "                                      'Weaving Plant','Actual Planning Month','Gry REDOD',\n",
    "                                      'Order Qty',\n",
    "                                       'Cal. Grey Reqd.','Previous_Allocated_stock','Max_Possible_Allocation',\n",
    "                                        'OrderType','Rank','Grey Stock','Rejected Stock','Total Physical Stock','Base File Name','Q8','0-31','31-60','61-90','91-180','181-360','>360','Stock_before_Oct','Budhni Stock at Baddi']]"
   ]
  },
  {
   "cell_type": "code",
   "execution_count": 266,
   "metadata": {},
   "outputs": [],
   "source": [
    "#Final_Data_Sorted2.shape"
   ]
  },
  {
   "cell_type": "code",
   "execution_count": 267,
   "metadata": {},
   "outputs": [],
   "source": [
    "#Final_Data_Sorted.shape"
   ]
  },
  {
   "cell_type": "code",
   "execution_count": 268,
   "metadata": {},
   "outputs": [
    {
     "name": "stderr",
     "output_type": "stream",
     "text": [
      "c:\\users\\fsc.reports1\\appdata\\local\\programs\\python\\python37\\lib\\site-packages\\ipykernel_launcher.py:1: SettingWithCopyWarning: \n",
      "A value is trying to be set on a copy of a slice from a DataFrame.\n",
      "Try using .loc[row_indexer,col_indexer] = value instead\n",
      "\n",
      "See the caveats in the documentation: https://pandas.pydata.org/pandas-docs/stable/user_guide/indexing.html#returning-a-view-versus-a-copy\n",
      "  \"\"\"Entry point for launching an IPython kernel.\n"
     ]
    }
   ],
   "source": [
    "Final_Data_Sorted2['Max_Possible_Allocation']=Final_Data_Sorted2['Max_Possible_Allocation'].fillna(0)"
   ]
  },
  {
   "cell_type": "code",
   "execution_count": 269,
   "metadata": {},
   "outputs": [
    {
     "name": "stderr",
     "output_type": "stream",
     "text": [
      "c:\\users\\fsc.reports1\\appdata\\local\\programs\\python\\python37\\lib\\site-packages\\ipykernel_launcher.py:1: SettingWithCopyWarning: \n",
      "A value is trying to be set on a copy of a slice from a DataFrame.\n",
      "Try using .loc[row_indexer,col_indexer] = value instead\n",
      "\n",
      "See the caveats in the documentation: https://pandas.pydata.org/pandas-docs/stable/user_guide/indexing.html#returning-a-view-versus-a-copy\n",
      "  \"\"\"Entry point for launching an IPython kernel.\n"
     ]
    }
   ],
   "source": [
    "Final_Data_Sorted2['Cum_Sum']=Final_Data_Sorted2.groupby(['Weaving Plant','Standard  Article'])['Max_Possible_Allocation'].cumsum()"
   ]
  },
  {
   "cell_type": "code",
   "execution_count": 270,
   "metadata": {},
   "outputs": [
    {
     "name": "stderr",
     "output_type": "stream",
     "text": [
      "c:\\users\\fsc.reports1\\appdata\\local\\programs\\python\\python37\\lib\\site-packages\\pandas\\core\\generic.py:6245: SettingWithCopyWarning: \n",
      "A value is trying to be set on a copy of a slice from a DataFrame\n",
      "\n",
      "See the caveats in the documentation: https://pandas.pydata.org/pandas-docs/stable/user_guide/indexing.html#returning-a-view-versus-a-copy\n",
      "  self._update_inplace(new_data)\n"
     ]
    }
   ],
   "source": [
    "Final_Data_Sorted2['Cum_Sum'].fillna(0,inplace=True)"
   ]
  },
  {
   "cell_type": "code",
   "execution_count": 271,
   "metadata": {},
   "outputs": [
    {
     "name": "stderr",
     "output_type": "stream",
     "text": [
      "c:\\users\\fsc.reports1\\appdata\\local\\programs\\python\\python37\\lib\\site-packages\\ipykernel_launcher.py:1: SettingWithCopyWarning: \n",
      "A value is trying to be set on a copy of a slice from a DataFrame.\n",
      "Try using .loc[row_indexer,col_indexer] = value instead\n",
      "\n",
      "See the caveats in the documentation: https://pandas.pydata.org/pandas-docs/stable/user_guide/indexing.html#returning-a-view-versus-a-copy\n",
      "  \"\"\"Entry point for launching an IPython kernel.\n"
     ]
    }
   ],
   "source": [
    "Final_Data_Sorted2['reservation'] = Final_Data_Sorted2['Total Physical Stock']-Final_Data_Sorted2['Grey Stock'] "
   ]
  },
  {
   "cell_type": "code",
   "execution_count": 272,
   "metadata": {},
   "outputs": [
    {
     "name": "stderr",
     "output_type": "stream",
     "text": [
      "c:\\users\\fsc.reports1\\appdata\\local\\programs\\python\\python37\\lib\\site-packages\\ipykernel_launcher.py:1: SettingWithCopyWarning: \n",
      "A value is trying to be set on a copy of a slice from a DataFrame.\n",
      "Try using .loc[row_indexer,col_indexer] = value instead\n",
      "\n",
      "See the caveats in the documentation: https://pandas.pydata.org/pandas-docs/stable/user_guide/indexing.html#returning-a-view-versus-a-copy\n",
      "  \"\"\"Entry point for launching an IPython kernel.\n"
     ]
    }
   ],
   "source": [
    "Final_Data_Sorted2['Segment']=np.where(Final_Data_Sorted2['Segment'].fillna('NA').str.contains('Direct',case = False),'DE&B',Final_Data_Sorted2['Segment'])"
   ]
  },
  {
   "cell_type": "markdown",
   "metadata": {},
   "source": [
    "## Allocation "
   ]
  },
  {
   "cell_type": "code",
   "execution_count": 273,
   "metadata": {},
   "outputs": [
    {
     "name": "stderr",
     "output_type": "stream",
     "text": [
      "c:\\users\\fsc.reports1\\appdata\\local\\programs\\python\\python37\\lib\\site-packages\\ipykernel_launcher.py:6: SettingWithCopyWarning: \n",
      "A value is trying to be set on a copy of a slice from a DataFrame.\n",
      "Try using .loc[row_indexer,col_indexer] = value instead\n",
      "\n",
      "See the caveats in the documentation: https://pandas.pydata.org/pandas-docs/stable/user_guide/indexing.html#returning-a-view-versus-a-copy\n",
      "  \n"
     ]
    }
   ],
   "source": [
    "Final_Data_Sorted2['Allocated_Stock'] = np.where(Final_Data_Sorted2['Grey Stock']>=Final_Data_Sorted2['Cum_Sum'],\n",
    "                                                 np.where( Final_Data_Sorted2['Segment']=='Non Allocated',\n",
    "                                                          np.where(Final_Data_Sorted2['Grey Stock']-Final_Data_Sorted2['Cum_Sum']>0,Final_Data_Sorted2['Grey Stock']-Final_Data_Sorted2['Cum_Sum'],0)\n",
    "                                                          ,Final_Data_Sorted2['Max_Possible_Allocation']),\n",
    "                                                 np.where((Final_Data_Sorted2['Grey Stock']-Final_Data_Sorted2['Cum_Sum'] +Final_Data_Sorted2['Max_Possible_Allocation'])>0,\n",
    "                                                          Final_Data_Sorted2['Grey Stock']-Final_Data_Sorted2['Cum_Sum'] +Final_Data_Sorted2['Max_Possible_Allocation'],0))"
   ]
  },
  {
   "cell_type": "code",
   "execution_count": 274,
   "metadata": {},
   "outputs": [
    {
     "data": {
      "text/plain": [
       "1137423.65"
      ]
     },
     "execution_count": 274,
     "metadata": {},
     "output_type": "execute_result"
    }
   ],
   "source": [
    "Final_Data_Sorted2['Allocated_Stock'].sum()\n"
   ]
  },
  {
   "cell_type": "code",
   "execution_count": 275,
   "metadata": {},
   "outputs": [
    {
     "data": {
      "text/plain": [
       "Product_Type             Piece Dyed Greige FabricPiece Dyed Greige Fabr...\n",
       "Weaving Plant            BudhniBudhniBudhniBudhniBudhniBudhniBudhniBudh...\n",
       "Construction             7OE*7OE-70*36-160.8-OXFORD7OE*7OE-70*40-165.1-...\n",
       "0-31                                                            6.6764e+06\n",
       "181-360                                                         1.3608e+06\n",
       "31-60                                                          1.51777e+06\n",
       "61-90                                                               760928\n",
       "91-180                                                         3.63883e+06\n",
       ">360                                                           1.14538e+06\n",
       "Budhni Stock at Baddi                                              84188.3\n",
       "Grey Stock                                                     1.09696e+06\n",
       "Q8                                                                  685478\n",
       "Rejected Stock                                                     41400.4\n",
       "Total Physical Stock                                           1.60808e+07\n",
       "reservation2                                                   1.49354e+07\n",
       "Stock_before_Oct                                               1.91713e+06\n",
       "Not_to_Allocat                                                        7019\n",
       "Standard  Article        10700004BDOO10764BD10765BD10765BDOOO10766BD110...\n",
       "dtype: object"
      ]
     },
     "execution_count": 275,
     "metadata": {},
     "output_type": "execute_result"
    }
   ],
   "source": [
    "current_stock.sum()"
   ]
  },
  {
   "cell_type": "code",
   "execution_count": 276,
   "metadata": {},
   "outputs": [
    {
     "name": "stderr",
     "output_type": "stream",
     "text": [
      "c:\\users\\fsc.reports1\\appdata\\local\\programs\\python\\python37\\lib\\site-packages\\ipykernel_launcher.py:6: SettingWithCopyWarning: \n",
      "A value is trying to be set on a copy of a slice from a DataFrame.\n",
      "Try using .loc[row_indexer,col_indexer] = value instead\n",
      "\n",
      "See the caveats in the documentation: https://pandas.pydata.org/pandas-docs/stable/user_guide/indexing.html#returning-a-view-versus-a-copy\n",
      "  \n"
     ]
    }
   ],
   "source": [
    "Final_Data_Sorted2['Allocated_Stock_>360'] = np.where(Final_Data_Sorted2['>360'].fillna(0)>=Final_Data_Sorted2['Cum_Sum'],\n",
    "                                                 np.where( Final_Data_Sorted2['Segment']=='Non Allocated',\n",
    "                                                          np.where(Final_Data_Sorted2['>360'].fillna(0)-Final_Data_Sorted2['Cum_Sum']>0,Final_Data_Sorted2['>360'].fillna(0)-Final_Data_Sorted2['Cum_Sum'],0)\n",
    "                                                          ,Final_Data_Sorted2['Max_Possible_Allocation']),\n",
    "                                                 np.where((Final_Data_Sorted2['>360'].fillna(0)-Final_Data_Sorted2['Cum_Sum'] +Final_Data_Sorted2['Max_Possible_Allocation'])>0,\n",
    "                                                          Final_Data_Sorted2['>360'].fillna(0)-Final_Data_Sorted2['Cum_Sum'] +Final_Data_Sorted2['Max_Possible_Allocation'],0))"
   ]
  },
  {
   "cell_type": "code",
   "execution_count": 277,
   "metadata": {},
   "outputs": [
    {
     "data": {
      "text/plain": [
       "1145382.3599999999"
      ]
     },
     "execution_count": 277,
     "metadata": {},
     "output_type": "execute_result"
    }
   ],
   "source": [
    "Final_Data_Sorted2['Allocated_Stock_>360'].sum()"
   ]
  },
  {
   "cell_type": "code",
   "execution_count": 278,
   "metadata": {},
   "outputs": [
    {
     "name": "stderr",
     "output_type": "stream",
     "text": [
      "c:\\users\\fsc.reports1\\appdata\\local\\programs\\python\\python37\\lib\\site-packages\\ipykernel_launcher.py:7: SettingWithCopyWarning: \n",
      "A value is trying to be set on a copy of a slice from a DataFrame.\n",
      "Try using .loc[row_indexer,col_indexer] = value instead\n",
      "\n",
      "See the caveats in the documentation: https://pandas.pydata.org/pandas-docs/stable/user_guide/indexing.html#returning-a-view-versus-a-copy\n",
      "  import sys\n"
     ]
    }
   ],
   "source": [
    "Final_Data_Sorted2['Allocated_Stock_>180'] = np.where((Final_Data_Sorted2['181-360'].fillna(0)+Final_Data_Sorted2['>360'].fillna(0))>=Final_Data_Sorted2['Cum_Sum'],\n",
    "                                                 np.where( Final_Data_Sorted2['Segment']=='Non Allocated',\n",
    "                                                          np.where((Final_Data_Sorted2['181-360'].fillna(0)+Final_Data_Sorted2['>360'].fillna(0))-Final_Data_Sorted2['Cum_Sum']>0,\n",
    "                                                                   (Final_Data_Sorted2['181-360'].fillna(0)+Final_Data_Sorted2['>360'].fillna(0))-Final_Data_Sorted2['Cum_Sum'],0)\n",
    "                                                          ,Final_Data_Sorted2['Max_Possible_Allocation']),\n",
    "                                                 np.where(((Final_Data_Sorted2['181-360'].fillna(0)+Final_Data_Sorted2['>360'].fillna(0))-Final_Data_Sorted2['Cum_Sum'] +Final_Data_Sorted2['Max_Possible_Allocation'])>0,\n",
    "                                                          (Final_Data_Sorted2['181-360'].fillna(0)+Final_Data_Sorted2['>360'])-Final_Data_Sorted2['Cum_Sum'] +Final_Data_Sorted2['Max_Possible_Allocation'],0))"
   ]
  },
  {
   "cell_type": "code",
   "execution_count": 279,
   "metadata": {},
   "outputs": [
    {
     "data": {
      "text/plain": [
       "1360795.6700000004"
      ]
     },
     "execution_count": 279,
     "metadata": {},
     "output_type": "execute_result"
    }
   ],
   "source": [
    "Final_Data_Sorted2['Allocated_Stock_>180'].sum()-Final_Data_Sorted2['Allocated_Stock_>360'].sum()"
   ]
  },
  {
   "cell_type": "code",
   "execution_count": 280,
   "metadata": {},
   "outputs": [
    {
     "name": "stderr",
     "output_type": "stream",
     "text": [
      "c:\\users\\fsc.reports1\\appdata\\local\\programs\\python\\python37\\lib\\site-packages\\ipykernel_launcher.py:7: SettingWithCopyWarning: \n",
      "A value is trying to be set on a copy of a slice from a DataFrame.\n",
      "Try using .loc[row_indexer,col_indexer] = value instead\n",
      "\n",
      "See the caveats in the documentation: https://pandas.pydata.org/pandas-docs/stable/user_guide/indexing.html#returning-a-view-versus-a-copy\n",
      "  import sys\n"
     ]
    }
   ],
   "source": [
    "Final_Data_Sorted2['Allocated_Stock_>90'] = np.where((Final_Data_Sorted2['91-180'].fillna(0)+Final_Data_Sorted2['181-360'].fillna(0)+Final_Data_Sorted2['>360'].fillna(0))>=Final_Data_Sorted2['Cum_Sum'],\n",
    "                                                 np.where( Final_Data_Sorted2['Segment']=='Non Allocated',\n",
    "                                                          np.where((Final_Data_Sorted2['91-180'].fillna(0)+Final_Data_Sorted2['181-360'].fillna(0)+Final_Data_Sorted2['>360'].fillna(0))-Final_Data_Sorted2['Cum_Sum']>0,\n",
    "                                                                   (Final_Data_Sorted2['91-180'].fillna(0)+Final_Data_Sorted2['181-360'].fillna(0)+Final_Data_Sorted2['>360'].fillna(0))-Final_Data_Sorted2['Cum_Sum'],0)\n",
    "                                                          ,Final_Data_Sorted2['Max_Possible_Allocation']),\n",
    "                                                 np.where(((Final_Data_Sorted2['91-180'].fillna(0)+Final_Data_Sorted2['181-360'].fillna(0)+Final_Data_Sorted2['>360'].fillna(0))-Final_Data_Sorted2['Cum_Sum'] +Final_Data_Sorted2['Max_Possible_Allocation'])>0,\n",
    "                                                          (Final_Data_Sorted2['91-180'].fillna(0)+Final_Data_Sorted2['181-360'].fillna(0)+Final_Data_Sorted2['>360'].fillna(0))-Final_Data_Sorted2['Cum_Sum'] +Final_Data_Sorted2['Max_Possible_Allocation'],0))"
   ]
  },
  {
   "cell_type": "code",
   "execution_count": 281,
   "metadata": {},
   "outputs": [
    {
     "data": {
      "text/plain": [
       "3638829.749999999"
      ]
     },
     "execution_count": 281,
     "metadata": {},
     "output_type": "execute_result"
    }
   ],
   "source": [
    "Final_Data_Sorted2['Allocated_Stock_>90'].sum()-Final_Data_Sorted2['Allocated_Stock_>180'].sum()"
   ]
  },
  {
   "cell_type": "code",
   "execution_count": 282,
   "metadata": {},
   "outputs": [
    {
     "data": {
      "text/plain": [
       "Product_Type             Piece Dyed Greige FabricPiece Dyed Greige Fabr...\n",
       "Weaving Plant            BudhniBudhniBudhniBudhniBudhniBudhniBudhniBudh...\n",
       "Construction             7OE*7OE-70*36-160.8-OXFORD7OE*7OE-70*40-165.1-...\n",
       "0-31                                                            6.6764e+06\n",
       "181-360                                                         1.3608e+06\n",
       "31-60                                                          1.51777e+06\n",
       "61-90                                                               760928\n",
       "91-180                                                         3.63883e+06\n",
       ">360                                                           1.14538e+06\n",
       "Budhni Stock at Baddi                                              84188.3\n",
       "Grey Stock                                                     1.09696e+06\n",
       "Q8                                                                  685478\n",
       "Rejected Stock                                                     41400.4\n",
       "Total Physical Stock                                           1.60808e+07\n",
       "reservation2                                                   1.49354e+07\n",
       "Stock_before_Oct                                               1.91713e+06\n",
       "Not_to_Allocat                                                        7019\n",
       "Standard  Article        10700004BDOO10764BD10765BD10765BDOOO10766BD110...\n",
       "dtype: object"
      ]
     },
     "execution_count": 282,
     "metadata": {},
     "output_type": "execute_result"
    }
   ],
   "source": [
    "current_stock.sum()"
   ]
  },
  {
   "cell_type": "code",
   "execution_count": 283,
   "metadata": {},
   "outputs": [
    {
     "name": "stderr",
     "output_type": "stream",
     "text": [
      "c:\\users\\fsc.reports1\\appdata\\local\\programs\\python\\python37\\lib\\site-packages\\ipykernel_launcher.py:7: SettingWithCopyWarning: \n",
      "A value is trying to be set on a copy of a slice from a DataFrame.\n",
      "Try using .loc[row_indexer,col_indexer] = value instead\n",
      "\n",
      "See the caveats in the documentation: https://pandas.pydata.org/pandas-docs/stable/user_guide/indexing.html#returning-a-view-versus-a-copy\n",
      "  import sys\n"
     ]
    }
   ],
   "source": [
    "Final_Data_Sorted2['Allocated_Stock_>60'] = np.where((Final_Data_Sorted2['61-90'].fillna(0)+Final_Data_Sorted2['91-180'].fillna(0)+Final_Data_Sorted2['181-360'].fillna(0)+Final_Data_Sorted2['>360'].fillna(0))>=Final_Data_Sorted2['Cum_Sum'],\n",
    "                                                 np.where( Final_Data_Sorted2['Segment']=='Non Allocated',\n",
    "                                                          np.where((Final_Data_Sorted2['61-90'].fillna(0)+Final_Data_Sorted2['91-180'].fillna(0)+Final_Data_Sorted2['181-360'].fillna(0)+Final_Data_Sorted2['>360'].fillna(0))-Final_Data_Sorted2['Cum_Sum']>0,\n",
    "                                                                   (Final_Data_Sorted2['61-90'].fillna(0)+Final_Data_Sorted2['91-180'].fillna(0)+Final_Data_Sorted2['181-360'].fillna(0)+Final_Data_Sorted2['>360'].fillna(0))-Final_Data_Sorted2['Cum_Sum'],0)\n",
    "                                                          ,Final_Data_Sorted2['Max_Possible_Allocation']),\n",
    "                                                 np.where(((Final_Data_Sorted2['61-90'].fillna(0)+Final_Data_Sorted2['91-180'].fillna(0)+Final_Data_Sorted2['181-360'].fillna(0)+Final_Data_Sorted2['>360'].fillna(0))-Final_Data_Sorted2['Cum_Sum'] +Final_Data_Sorted2['Max_Possible_Allocation'])>0,\n",
    "                                                          (Final_Data_Sorted2['61-90'].fillna(0)+Final_Data_Sorted2['91-180'].fillna(0)+Final_Data_Sorted2['181-360'].fillna(0)+Final_Data_Sorted2['>360'].fillna(0))-Final_Data_Sorted2['Cum_Sum'] +Final_Data_Sorted2['Max_Possible_Allocation'],0))"
   ]
  },
  {
   "cell_type": "code",
   "execution_count": 284,
   "metadata": {},
   "outputs": [
    {
     "data": {
      "text/plain": [
       "760928.0"
      ]
     },
     "execution_count": 284,
     "metadata": {},
     "output_type": "execute_result"
    }
   ],
   "source": [
    "Final_Data_Sorted2['Allocated_Stock_>60'].sum()-Final_Data_Sorted2['Allocated_Stock_>90'].sum()"
   ]
  },
  {
   "cell_type": "code",
   "execution_count": 285,
   "metadata": {},
   "outputs": [
    {
     "name": "stderr",
     "output_type": "stream",
     "text": [
      "c:\\users\\fsc.reports1\\appdata\\local\\programs\\python\\python37\\lib\\site-packages\\ipykernel_launcher.py:7: SettingWithCopyWarning: \n",
      "A value is trying to be set on a copy of a slice from a DataFrame.\n",
      "Try using .loc[row_indexer,col_indexer] = value instead\n",
      "\n",
      "See the caveats in the documentation: https://pandas.pydata.org/pandas-docs/stable/user_guide/indexing.html#returning-a-view-versus-a-copy\n",
      "  import sys\n"
     ]
    }
   ],
   "source": [
    "Final_Data_Sorted2['Allocated_Stock_>30'] = np.where((Final_Data_Sorted2['31-60'].fillna(0)+Final_Data_Sorted2['61-90'].fillna(0)+Final_Data_Sorted2['91-180'].fillna(0)+Final_Data_Sorted2['181-360'].fillna(0)+Final_Data_Sorted2['>360'].fillna(0))>=Final_Data_Sorted2['Cum_Sum'],\n",
    "                                                 np.where( Final_Data_Sorted2['Segment']=='Non Allocated',\n",
    "                                                          np.where((Final_Data_Sorted2['31-60'].fillna(0)+Final_Data_Sorted2['61-90'].fillna(0)+Final_Data_Sorted2['91-180'].fillna(0)+Final_Data_Sorted2['181-360'].fillna(0)+Final_Data_Sorted2['>360'].fillna(0))-Final_Data_Sorted2['Cum_Sum']>0,\n",
    "                                                                   (Final_Data_Sorted2['31-60'].fillna(0)+Final_Data_Sorted2['61-90'].fillna(0)+Final_Data_Sorted2['91-180'].fillna(0)+Final_Data_Sorted2['181-360'].fillna(0)+Final_Data_Sorted2['>360'].fillna(0))-Final_Data_Sorted2['Cum_Sum'],0)\n",
    "                                                          ,Final_Data_Sorted2['Max_Possible_Allocation']),\n",
    "                                                 np.where(((Final_Data_Sorted2['31-60'].fillna(0)+Final_Data_Sorted2['61-90'].fillna(0)+Final_Data_Sorted2['91-180'].fillna(0)+Final_Data_Sorted2['181-360'].fillna(0)+Final_Data_Sorted2['>360'].fillna(0))-Final_Data_Sorted2['Cum_Sum'] +Final_Data_Sorted2['Max_Possible_Allocation'])>0,\n",
    "                                                          (Final_Data_Sorted2['31-60'].fillna(0)+Final_Data_Sorted2['61-90'].fillna(0)+Final_Data_Sorted2['91-180'].fillna(0)+Final_Data_Sorted2['181-360'].fillna(0)+Final_Data_Sorted2['>360'].fillna(0))-Final_Data_Sorted2['Cum_Sum'] +Final_Data_Sorted2['Max_Possible_Allocation'],0))"
   ]
  },
  {
   "cell_type": "code",
   "execution_count": 286,
   "metadata": {},
   "outputs": [
    {
     "data": {
      "text/plain": [
       "1517772.0000000019"
      ]
     },
     "execution_count": 286,
     "metadata": {},
     "output_type": "execute_result"
    }
   ],
   "source": [
    "Final_Data_Sorted2['Allocated_Stock_>30'].sum()-Final_Data_Sorted2['Allocated_Stock_>60'].sum()"
   ]
  },
  {
   "cell_type": "code",
   "execution_count": 287,
   "metadata": {},
   "outputs": [
    {
     "name": "stderr",
     "output_type": "stream",
     "text": [
      "c:\\users\\fsc.reports1\\appdata\\local\\programs\\python\\python37\\lib\\site-packages\\ipykernel_launcher.py:7: SettingWithCopyWarning: \n",
      "A value is trying to be set on a copy of a slice from a DataFrame.\n",
      "Try using .loc[row_indexer,col_indexer] = value instead\n",
      "\n",
      "See the caveats in the documentation: https://pandas.pydata.org/pandas-docs/stable/user_guide/indexing.html#returning-a-view-versus-a-copy\n",
      "  import sys\n"
     ]
    }
   ],
   "source": [
    "Final_Data_Sorted2['Allocated_Stock_>0'] = np.where((Final_Data_Sorted2['0-31'].fillna(0)+Final_Data_Sorted2['31-60'].fillna(0)+Final_Data_Sorted2['61-90'].fillna(0)+Final_Data_Sorted2['91-180'].fillna(0)+Final_Data_Sorted2['181-360'].fillna(0)+Final_Data_Sorted2['>360'].fillna(0))>=Final_Data_Sorted2['Cum_Sum'],\n",
    "                                                 np.where( Final_Data_Sorted2['Segment']=='Non Allocated',\n",
    "                                                          np.where((Final_Data_Sorted2['0-31'].fillna(0)+Final_Data_Sorted2['31-60'].fillna(0)+Final_Data_Sorted2['61-90'].fillna(0)+Final_Data_Sorted2['91-180'].fillna(0)+Final_Data_Sorted2['181-360'].fillna(0)+Final_Data_Sorted2['>360'].fillna(0))-Final_Data_Sorted2['Cum_Sum']>0,\n",
    "                                                                   (Final_Data_Sorted2['0-31'].fillna(0)+Final_Data_Sorted2['31-60'].fillna(0)+Final_Data_Sorted2['61-90'].fillna(0)+Final_Data_Sorted2['91-180'].fillna(0)+Final_Data_Sorted2['181-360'].fillna(0)+Final_Data_Sorted2['>360'].fillna(0))-Final_Data_Sorted2['Cum_Sum'],0)\n",
    "                                                          ,Final_Data_Sorted2['Max_Possible_Allocation']),\n",
    "                                                 np.where(((Final_Data_Sorted2['0-31'].fillna(0)+Final_Data_Sorted2['31-60'].fillna(0)+Final_Data_Sorted2['61-90'].fillna(0)+Final_Data_Sorted2['91-180'].fillna(0)+Final_Data_Sorted2['181-360'].fillna(0)+Final_Data_Sorted2['>360'].fillna(0))-Final_Data_Sorted2['Cum_Sum'] +Final_Data_Sorted2['Max_Possible_Allocation'])>0,\n",
    "                                                          (Final_Data_Sorted2['0-31'].fillna(0)+Final_Data_Sorted2['31-60'].fillna(0)+Final_Data_Sorted2['61-90'].fillna(0)+Final_Data_Sorted2['91-180'].fillna(0)+Final_Data_Sorted2['181-360'].fillna(0)+Final_Data_Sorted2['>360'].fillna(0))-Final_Data_Sorted2['Cum_Sum'] +Final_Data_Sorted2['Max_Possible_Allocation'],0))"
   ]
  },
  {
   "cell_type": "code",
   "execution_count": 288,
   "metadata": {},
   "outputs": [
    {
     "data": {
      "text/plain": [
       "6676400.140000001"
      ]
     },
     "execution_count": 288,
     "metadata": {},
     "output_type": "execute_result"
    }
   ],
   "source": [
    "Final_Data_Sorted2['Allocated_Stock_>0'].sum()-Final_Data_Sorted2['Allocated_Stock_>30'].sum()"
   ]
  },
  {
   "cell_type": "code",
   "execution_count": null,
   "metadata": {},
   "outputs": [],
   "source": []
  },
  {
   "cell_type": "code",
   "execution_count": 289,
   "metadata": {},
   "outputs": [],
   "source": [
    "Final_Data_Sorted2['Allocated_Stock_Stock_Before_Oct'] = np.where(Final_Data_Sorted2['Stock_before_Oct']>=Final_Data_Sorted2['Cum_Sum'],\n",
    "                                                 np.where( Final_Data_Sorted2['Segment']=='Non Allocated',\n",
    "                                                          np.where(Final_Data_Sorted2['Stock_before_Oct']-Final_Data_Sorted2['Cum_Sum']>0,Final_Data_Sorted2['Stock_before_Oct']-Final_Data_Sorted2['Cum_Sum'],0)\n",
    "                                                          ,Final_Data_Sorted2['Max_Possible_Allocation']),\n",
    "                                                 np.where((Final_Data_Sorted2['Stock_before_Oct']-Final_Data_Sorted2['Cum_Sum'] +Final_Data_Sorted2['Max_Possible_Allocation'])>0,\n",
    "                                                          Final_Data_Sorted2['Stock_before_Oct']-Final_Data_Sorted2['Cum_Sum'] +Final_Data_Sorted2['Max_Possible_Allocation'],0))"
   ]
  },
  {
   "cell_type": "code",
   "execution_count": 290,
   "metadata": {},
   "outputs": [],
   "source": [
    "Final_Data_Sorted2['Allocated_Stock_Total_Physical_Stock'] = np.where(Final_Data_Sorted2['Total Physical Stock']>=Final_Data_Sorted2['Cum_Sum'],\n",
    "                                                 np.where( Final_Data_Sorted2['Segment']=='Non Allocated',\n",
    "                                                          np.where(Final_Data_Sorted2['Total Physical Stock']-Final_Data_Sorted2['Cum_Sum']>0,Final_Data_Sorted2['Total Physical Stock']-Final_Data_Sorted2['Cum_Sum'],0)\n",
    "                                                          ,Final_Data_Sorted2['Max_Possible_Allocation']),\n",
    "                                                 np.where((Final_Data_Sorted2['Total Physical Stock']-Final_Data_Sorted2['Cum_Sum'] +Final_Data_Sorted2['Max_Possible_Allocation'])>0,\n",
    "                                                          Final_Data_Sorted2['Total Physical Stock']-Final_Data_Sorted2['Cum_Sum'] +Final_Data_Sorted2['Max_Possible_Allocation'],0))"
   ]
  },
  {
   "cell_type": "code",
   "execution_count": 291,
   "metadata": {},
   "outputs": [],
   "source": [
    "Final_Data_Sorted2['Allocated_Stock_reservation'] = np.where(Final_Data_Sorted2['reservation']>=Final_Data_Sorted2['Cum_Sum'],\n",
    "                                                 np.where( Final_Data_Sorted2['Segment']=='Non Allocated',\n",
    "                                                          np.where(Final_Data_Sorted2['reservation']-Final_Data_Sorted2['Cum_Sum']>0,Final_Data_Sorted2['reservation']-Final_Data_Sorted2['Cum_Sum'],0)\n",
    "                                                          ,Final_Data_Sorted2['Max_Possible_Allocation']),\n",
    "                                                 np.where((Final_Data_Sorted2['reservation']-Final_Data_Sorted2['Cum_Sum'] +Final_Data_Sorted2['Max_Possible_Allocation'])>0,\n",
    "                                                          Final_Data_Sorted2['reservation']-Final_Data_Sorted2['Cum_Sum'] +Final_Data_Sorted2['Max_Possible_Allocation'],0))"
   ]
  },
  {
   "cell_type": "code",
   "execution_count": 292,
   "metadata": {},
   "outputs": [],
   "source": [
    "Final_Data_Sorted2['Allocated_Stock']=np.where(Final_Data_Sorted2['Allocated_Stock']<0,0,Final_Data_Sorted2['Allocated_Stock'])"
   ]
  },
  {
   "cell_type": "code",
   "execution_count": 293,
   "metadata": {},
   "outputs": [],
   "source": [
    "Final_Data_Sorted2['Allocated_Stock_>0']=np.where(Final_Data_Sorted2['Allocated_Stock_>0']<0,0,Final_Data_Sorted2['Allocated_Stock_>0'])"
   ]
  },
  {
   "cell_type": "code",
   "execution_count": 294,
   "metadata": {},
   "outputs": [],
   "source": [
    "Final_Data_Sorted2['Allocated_Stock_>180']=np.where(Final_Data_Sorted2['Allocated_Stock_>180']<0,0,Final_Data_Sorted2['Allocated_Stock_>180'])"
   ]
  },
  {
   "cell_type": "code",
   "execution_count": 295,
   "metadata": {},
   "outputs": [],
   "source": [
    "Final_Data_Sorted2['Allocated_Stock_>30']=np.where(Final_Data_Sorted2['Allocated_Stock_>30']<0,0,Final_Data_Sorted2['Allocated_Stock_>30'])"
   ]
  },
  {
   "cell_type": "code",
   "execution_count": 296,
   "metadata": {},
   "outputs": [],
   "source": [
    "Final_Data_Sorted2['Allocated_Stock_>360']=np.where(Final_Data_Sorted2['Allocated_Stock_>360']<0,0,Final_Data_Sorted2['Allocated_Stock_>360'])"
   ]
  },
  {
   "cell_type": "code",
   "execution_count": 297,
   "metadata": {},
   "outputs": [],
   "source": [
    "Final_Data_Sorted2['Allocated_Stock_>60']=np.where(Final_Data_Sorted2['Allocated_Stock_>60']<0,0,Final_Data_Sorted2['Allocated_Stock_>60'])"
   ]
  },
  {
   "cell_type": "code",
   "execution_count": 298,
   "metadata": {},
   "outputs": [],
   "source": [
    "Final_Data_Sorted2['Allocated_Stock_>90']=np.where(Final_Data_Sorted2['Allocated_Stock_>90']<0,0,Final_Data_Sorted2['Allocated_Stock_>90'])"
   ]
  },
  {
   "cell_type": "code",
   "execution_count": 299,
   "metadata": {},
   "outputs": [],
   "source": [
    "Final_Data_Sorted2['Allocated_Stock_reservation']=np.where(Final_Data_Sorted2['Allocated_Stock_reservation']<0,0,Final_Data_Sorted2['Allocated_Stock_reservation'])"
   ]
  },
  {
   "cell_type": "code",
   "execution_count": 300,
   "metadata": {},
   "outputs": [],
   "source": [
    "Final_Data_Sorted2['Allocated_Stock_Stock_Before_Oct']=np.where(Final_Data_Sorted2['Allocated_Stock_Stock_Before_Oct']<0,0,Final_Data_Sorted2['Allocated_Stock_Stock_Before_Oct'])"
   ]
  },
  {
   "cell_type": "code",
   "execution_count": 301,
   "metadata": {},
   "outputs": [],
   "source": [
    "Final_Data_Sorted2['Allocated_Stock_Total_Physical_Stock']=np.where(Final_Data_Sorted2['Allocated_Stock_Total_Physical_Stock']<0,0,Final_Data_Sorted2['Allocated_Stock_Total_Physical_Stock'])"
   ]
  },
  {
   "cell_type": "code",
   "execution_count": 302,
   "metadata": {},
   "outputs": [],
   "source": [
    "#print(error)"
   ]
  },
  {
   "cell_type": "markdown",
   "metadata": {},
   "source": [
    "## New After Reservation Logic  "
   ]
  },
  {
   "cell_type": "markdown",
   "metadata": {},
   "source": [
    "## After  Reservation Reduction"
   ]
  },
  {
   "cell_type": "markdown",
   "metadata": {},
   "source": [
    "## > 360"
   ]
  },
  {
   "cell_type": "code",
   "execution_count": 303,
   "metadata": {},
   "outputs": [],
   "source": [
    "Final_Data_Sorted2['>360_Org'] = Final_Data_Sorted2['>360']"
   ]
  },
  {
   "cell_type": "code",
   "execution_count": 304,
   "metadata": {},
   "outputs": [],
   "source": [
    "#Final_Data_Sorted2['>360'] = Final_Data_Sorted2['>360_Org']"
   ]
  },
  {
   "cell_type": "code",
   "execution_count": 305,
   "metadata": {},
   "outputs": [
    {
     "data": {
      "text/plain": [
       ">360_Org    3261237.85\n",
       ">360        3261237.85\n",
       "dtype: float64"
      ]
     },
     "execution_count": 305,
     "metadata": {},
     "output_type": "execute_result"
    }
   ],
   "source": [
    "Final_Data_Sorted2[['>360_Org','>360']].sum()"
   ]
  },
  {
   "cell_type": "code",
   "execution_count": 306,
   "metadata": {},
   "outputs": [],
   "source": [
    "Final_Data_Sorted2['>360'] = np.where(Final_Data_Sorted2['>360'].fillna(0)>0,Final_Data_Sorted2['>360']-Final_Data_Sorted2['reservation'],0)"
   ]
  },
  {
   "cell_type": "code",
   "execution_count": 307,
   "metadata": {},
   "outputs": [],
   "source": [
    "Final_Data_Sorted2['>360'] = np.where(Final_Data_Sorted2['>360'].fillna(0)>0,Final_Data_Sorted2['>360'],0)"
   ]
  },
  {
   "cell_type": "code",
   "execution_count": 308,
   "metadata": {},
   "outputs": [
    {
     "data": {
      "text/plain": [
       ">360_Org    3261237.85\n",
       ">360        2684719.80\n",
       "dtype: float64"
      ]
     },
     "execution_count": 308,
     "metadata": {},
     "output_type": "execute_result"
    }
   ],
   "source": [
    "Final_Data_Sorted2[['>360_Org','>360']].sum()"
   ]
  },
  {
   "cell_type": "code",
   "execution_count": 309,
   "metadata": {},
   "outputs": [
    {
     "data": {
      "text/html": [
       "<div>\n",
       "<style scoped>\n",
       "    .dataframe tbody tr th:only-of-type {\n",
       "        vertical-align: middle;\n",
       "    }\n",
       "\n",
       "    .dataframe tbody tr th {\n",
       "        vertical-align: top;\n",
       "    }\n",
       "\n",
       "    .dataframe thead th {\n",
       "        text-align: right;\n",
       "    }\n",
       "</style>\n",
       "<table border=\"1\" class=\"dataframe\">\n",
       "  <thead>\n",
       "    <tr style=\"text-align: right;\">\n",
       "      <th></th>\n",
       "      <th>&gt;360_Org</th>\n",
       "      <th>&gt;360</th>\n",
       "    </tr>\n",
       "  </thead>\n",
       "  <tbody>\n",
       "  </tbody>\n",
       "</table>\n",
       "</div>"
      ],
      "text/plain": [
       "Empty DataFrame\n",
       "Columns: [>360_Org, >360]\n",
       "Index: []"
      ]
     },
     "execution_count": 309,
     "metadata": {},
     "output_type": "execute_result"
    }
   ],
   "source": [
    "Final_Data_Sorted2[['>360_Org','>360']][Final_Data_Sorted2['>360']<0]"
   ]
  },
  {
   "cell_type": "code",
   "execution_count": 310,
   "metadata": {},
   "outputs": [],
   "source": [
    "Final_Data_Sorted2['Allocated_Stock_>360_After_Reservation'] = np.where(Final_Data_Sorted2['>360'].fillna(0)>=Final_Data_Sorted2['Cum_Sum'],\n",
    "                                                 np.where( Final_Data_Sorted2['Segment']=='Non Allocated',\n",
    "                                                          np.where(Final_Data_Sorted2['>360'].fillna(0)-Final_Data_Sorted2['Cum_Sum']>0,Final_Data_Sorted2['>360'].fillna(0)-Final_Data_Sorted2['Cum_Sum'],0)\n",
    "                                                          ,Final_Data_Sorted2['Max_Possible_Allocation']),\n",
    "                                                 np.where((Final_Data_Sorted2['>360'].fillna(0)-Final_Data_Sorted2['Cum_Sum'] +Final_Data_Sorted2['Max_Possible_Allocation'])>0,\n",
    "                                                          Final_Data_Sorted2['>360'].fillna(0)-Final_Data_Sorted2['Cum_Sum'] +Final_Data_Sorted2['Max_Possible_Allocation'],0))"
   ]
  },
  {
   "cell_type": "code",
   "execution_count": 311,
   "metadata": {},
   "outputs": [
    {
     "data": {
      "text/plain": [
       "Allocated_Stock_>360                      1145382.36\n",
       "Allocated_Stock_>360_After_Reservation     984207.26\n",
       "dtype: float64"
      ]
     },
     "execution_count": 311,
     "metadata": {},
     "output_type": "execute_result"
    }
   ],
   "source": [
    "Final_Data_Sorted2[['Allocated_Stock_>360','Allocated_Stock_>360_After_Reservation']].sum()"
   ]
  },
  {
   "cell_type": "markdown",
   "metadata": {},
   "source": [
    "## 181- 360"
   ]
  },
  {
   "cell_type": "code",
   "execution_count": 312,
   "metadata": {},
   "outputs": [],
   "source": [
    "Final_Data_Sorted2['181-360_Org'] = Final_Data_Sorted2['181-360']\n"
   ]
  },
  {
   "cell_type": "code",
   "execution_count": 313,
   "metadata": {},
   "outputs": [],
   "source": [
    "Final_Data_Sorted2['reservation_used'] = np.where(Final_Data_Sorted2['reservation'].fillna(0)>Final_Data_Sorted2['>360_Org'].fillna(0),\n",
    "                                            Final_Data_Sorted2['>360_Org'].fillna(0),\n",
    "                                             Final_Data_Sorted2['reservation'].fillna(0))     "
   ]
  },
  {
   "cell_type": "code",
   "execution_count": 314,
   "metadata": {},
   "outputs": [],
   "source": [
    "Final_Data_Sorted2['reservation_left'] = Final_Data_Sorted2['reservation']-Final_Data_Sorted2['reservation_used']"
   ]
  },
  {
   "cell_type": "code",
   "execution_count": 315,
   "metadata": {},
   "outputs": [
    {
     "data": {
      "text/plain": [
       "reservation_left    1.809301e+08\n",
       "reservation         1.815066e+08\n",
       "dtype: float64"
      ]
     },
     "execution_count": 315,
     "metadata": {},
     "output_type": "execute_result"
    }
   ],
   "source": [
    "Final_Data_Sorted2[['reservation_left', 'reservation']].sum()"
   ]
  },
  {
   "cell_type": "code",
   "execution_count": 316,
   "metadata": {},
   "outputs": [],
   "source": [
    "Final_Data_Sorted2['181-360'] = np.where(Final_Data_Sorted2['181-360'].fillna(0)>0,Final_Data_Sorted2['181-360']-Final_Data_Sorted2['reservation_left'],0)"
   ]
  },
  {
   "cell_type": "code",
   "execution_count": 317,
   "metadata": {},
   "outputs": [],
   "source": [
    "Final_Data_Sorted2['181-360'] = np.where(Final_Data_Sorted2['181-360']>0,Final_Data_Sorted2['181-360'],0)"
   ]
  },
  {
   "cell_type": "code",
   "execution_count": 318,
   "metadata": {},
   "outputs": [
    {
     "data": {
      "text/plain": [
       "181-360         189051.89\n",
       "181-360_Org    6648470.91\n",
       "dtype: float64"
      ]
     },
     "execution_count": 318,
     "metadata": {},
     "output_type": "execute_result"
    }
   ],
   "source": [
    "Final_Data_Sorted2[['181-360','181-360_Org']].sum()"
   ]
  },
  {
   "cell_type": "code",
   "execution_count": 319,
   "metadata": {},
   "outputs": [],
   "source": [
    "Final_Data_Sorted2['Allocated_Stock_>180_After_Reservation'] = np.where((Final_Data_Sorted2['181-360'].fillna(0)+Final_Data_Sorted2['>360'].fillna(0))>=Final_Data_Sorted2['Cum_Sum'],\n",
    "                                                 np.where( Final_Data_Sorted2['Segment']=='Non Allocated',\n",
    "                                                          np.where((Final_Data_Sorted2['181-360'].fillna(0)+Final_Data_Sorted2['>360'].fillna(0))-Final_Data_Sorted2['Cum_Sum']>0,\n",
    "                                                                   (Final_Data_Sorted2['181-360'].fillna(0)+Final_Data_Sorted2['>360'].fillna(0))-Final_Data_Sorted2['Cum_Sum'],0)\n",
    "                                                          ,Final_Data_Sorted2['Max_Possible_Allocation']),\n",
    "                                                 np.where(((Final_Data_Sorted2['181-360'].fillna(0)+Final_Data_Sorted2['>360'].fillna(0))-Final_Data_Sorted2['Cum_Sum'] +Final_Data_Sorted2['Max_Possible_Allocation'])>0,\n",
    "                                                          (Final_Data_Sorted2['181-360'].fillna(0)+Final_Data_Sorted2['>360'])-Final_Data_Sorted2['Cum_Sum'] +Final_Data_Sorted2['Max_Possible_Allocation'],0))"
   ]
  },
  {
   "cell_type": "code",
   "execution_count": 320,
   "metadata": {},
   "outputs": [
    {
     "data": {
      "text/plain": [
       "Allocated_Stock_>180                      2506178.03\n",
       "Allocated_Stock_>180_After_Reservation    1046678.92\n",
       "dtype: float64"
      ]
     },
     "execution_count": 320,
     "metadata": {},
     "output_type": "execute_result"
    }
   ],
   "source": [
    "Final_Data_Sorted2[['Allocated_Stock_>180','Allocated_Stock_>180_After_Reservation']].sum()"
   ]
  },
  {
   "cell_type": "markdown",
   "metadata": {},
   "source": [
    "## 91-180 "
   ]
  },
  {
   "cell_type": "code",
   "execution_count": 321,
   "metadata": {},
   "outputs": [
    {
     "data": {
      "text/plain": [
       "576518.05"
      ]
     },
     "execution_count": 321,
     "metadata": {},
     "output_type": "execute_result"
    }
   ],
   "source": [
    "Final_Data_Sorted2['reservation_used'].sum()"
   ]
  },
  {
   "cell_type": "code",
   "execution_count": 322,
   "metadata": {},
   "outputs": [],
   "source": [
    "Final_Data_Sorted2['reservation_used'] = np.where(Final_Data_Sorted2['reservation_left'].fillna(0)>Final_Data_Sorted2['181-360_Org'].fillna(0),\n",
    "                                            Final_Data_Sorted2['181-360_Org'].fillna(0),\n",
    "                                             Final_Data_Sorted2['reservation_left'].fillna(0))     "
   ]
  },
  {
   "cell_type": "code",
   "execution_count": 323,
   "metadata": {},
   "outputs": [
    {
     "data": {
      "text/plain": [
       "6459419.02"
      ]
     },
     "execution_count": 323,
     "metadata": {},
     "output_type": "execute_result"
    }
   ],
   "source": [
    "Final_Data_Sorted2['reservation_used'].sum()"
   ]
  },
  {
   "cell_type": "code",
   "execution_count": null,
   "metadata": {},
   "outputs": [],
   "source": []
  },
  {
   "cell_type": "code",
   "execution_count": 324,
   "metadata": {},
   "outputs": [],
   "source": [
    "Final_Data_Sorted2['91-180_Org'] = Final_Data_Sorted2['91-180']"
   ]
  },
  {
   "cell_type": "code",
   "execution_count": 325,
   "metadata": {},
   "outputs": [
    {
     "data": {
      "text/plain": [
       "91-180_Org    26636410.19\n",
       "91-180        26636410.19\n",
       "dtype: float64"
      ]
     },
     "execution_count": 325,
     "metadata": {},
     "output_type": "execute_result"
    }
   ],
   "source": [
    "Final_Data_Sorted2[['91-180_Org','91-180']].sum()"
   ]
  },
  {
   "cell_type": "code",
   "execution_count": 326,
   "metadata": {},
   "outputs": [
    {
     "data": {
      "text/plain": [
       "reservation_left    1.809301e+08\n",
       "reservation         1.815066e+08\n",
       "dtype: float64"
      ]
     },
     "execution_count": 326,
     "metadata": {},
     "output_type": "execute_result"
    }
   ],
   "source": [
    "Final_Data_Sorted2[['reservation_left', 'reservation']].sum()"
   ]
  },
  {
   "cell_type": "code",
   "execution_count": 327,
   "metadata": {},
   "outputs": [],
   "source": [
    "Final_Data_Sorted2['reservation_left'] = Final_Data_Sorted2['reservation_left'].fillna(0)-Final_Data_Sorted2['reservation_used'].fillna(0)"
   ]
  },
  {
   "cell_type": "code",
   "execution_count": 328,
   "metadata": {},
   "outputs": [
    {
     "data": {
      "text/plain": [
       "reservation_left    1.744707e+08\n",
       "reservation         1.815066e+08\n",
       "dtype: float64"
      ]
     },
     "execution_count": 328,
     "metadata": {},
     "output_type": "execute_result"
    }
   ],
   "source": [
    "Final_Data_Sorted2[['reservation_left', 'reservation']].sum()"
   ]
  },
  {
   "cell_type": "code",
   "execution_count": 329,
   "metadata": {},
   "outputs": [],
   "source": [
    "Final_Data_Sorted2['91-180'] = np.where(Final_Data_Sorted2['91-180'].fillna(0)>0,Final_Data_Sorted2['91-180']-Final_Data_Sorted2['reservation_left'],0)"
   ]
  },
  {
   "cell_type": "code",
   "execution_count": 330,
   "metadata": {},
   "outputs": [],
   "source": [
    "Final_Data_Sorted2['91-180'] = np.where(Final_Data_Sorted2['91-180']>0,Final_Data_Sorted2['91-180'],0)"
   ]
  },
  {
   "cell_type": "code",
   "execution_count": 331,
   "metadata": {},
   "outputs": [
    {
     "data": {
      "text/plain": [
       "91-180          120484.19\n",
       "91-180_Org    26636410.19\n",
       "dtype: float64"
      ]
     },
     "execution_count": 331,
     "metadata": {},
     "output_type": "execute_result"
    }
   ],
   "source": [
    "Final_Data_Sorted2[['91-180','91-180_Org']].sum()"
   ]
  },
  {
   "cell_type": "code",
   "execution_count": 332,
   "metadata": {},
   "outputs": [],
   "source": [
    "Final_Data_Sorted2['Allocated_Stock_>90_After_reservation'] = np.where((Final_Data_Sorted2['91-180'].fillna(0)+Final_Data_Sorted2['181-360'].fillna(0)+Final_Data_Sorted2['>360'].fillna(0))>=Final_Data_Sorted2['Cum_Sum'],\n",
    "                                                 np.where( Final_Data_Sorted2['Segment']=='Non Allocated',\n",
    "                                                          np.where((Final_Data_Sorted2['91-180'].fillna(0)+Final_Data_Sorted2['181-360'].fillna(0)+Final_Data_Sorted2['>360'].fillna(0))-Final_Data_Sorted2['Cum_Sum']>0,\n",
    "                                                                   (Final_Data_Sorted2['91-180'].fillna(0)+Final_Data_Sorted2['181-360'].fillna(0)+Final_Data_Sorted2['>360'].fillna(0))-Final_Data_Sorted2['Cum_Sum'],0)\n",
    "                                                          ,Final_Data_Sorted2['Max_Possible_Allocation']),\n",
    "                                                 np.where(((Final_Data_Sorted2['91-180'].fillna(0)+Final_Data_Sorted2['181-360'].fillna(0)+Final_Data_Sorted2['>360'].fillna(0))-Final_Data_Sorted2['Cum_Sum'] +Final_Data_Sorted2['Max_Possible_Allocation'])>0,\n",
    "                                                          (Final_Data_Sorted2['91-180'].fillna(0)+Final_Data_Sorted2['181-360'].fillna(0)+Final_Data_Sorted2['>360'].fillna(0))-Final_Data_Sorted2['Cum_Sum'] +Final_Data_Sorted2['Max_Possible_Allocation'],0))"
   ]
  },
  {
   "cell_type": "code",
   "execution_count": 333,
   "metadata": {},
   "outputs": [
    {
     "data": {
      "text/plain": [
       "Allocated_Stock_>90_After_reservation    1084013.39\n",
       "Allocated_Stock_>90                      6145007.78\n",
       "dtype: float64"
      ]
     },
     "execution_count": 333,
     "metadata": {},
     "output_type": "execute_result"
    }
   ],
   "source": [
    "Final_Data_Sorted2[['Allocated_Stock_>90_After_reservation','Allocated_Stock_>90']].sum()"
   ]
  },
  {
   "cell_type": "code",
   "execution_count": 334,
   "metadata": {},
   "outputs": [
    {
     "data": {
      "text/plain": [
       "reservation_left    1.744707e+08\n",
       "reservation         1.815066e+08\n",
       "dtype: float64"
      ]
     },
     "execution_count": 334,
     "metadata": {},
     "output_type": "execute_result"
    }
   ],
   "source": [
    "Final_Data_Sorted2[['reservation_left', 'reservation']].sum()"
   ]
  },
  {
   "cell_type": "markdown",
   "metadata": {},
   "source": [
    "# 61-90"
   ]
  },
  {
   "cell_type": "code",
   "execution_count": null,
   "metadata": {},
   "outputs": [],
   "source": []
  },
  {
   "cell_type": "code",
   "execution_count": 335,
   "metadata": {},
   "outputs": [],
   "source": [
    "Final_Data_Sorted2['reservation_used'] = np.where(Final_Data_Sorted2['reservation_left'].fillna(0)>Final_Data_Sorted2['91-180_Org'].fillna(0),\n",
    "                                            Final_Data_Sorted2['91-180_Org'].fillna(0),\n",
    "                                             Final_Data_Sorted2['reservation_left'].fillna(0))   "
   ]
  },
  {
   "cell_type": "code",
   "execution_count": 336,
   "metadata": {},
   "outputs": [],
   "source": [
    "Final_Data_Sorted2['reservation_left'] = Final_Data_Sorted2['reservation_left'].fillna(0)-Final_Data_Sorted2['reservation_used'].fillna(0)"
   ]
  },
  {
   "cell_type": "code",
   "execution_count": 337,
   "metadata": {},
   "outputs": [
    {
     "data": {
      "text/plain": [
       "reservation_left    1.479548e+08\n",
       "reservation         1.815066e+08\n",
       "dtype: float64"
      ]
     },
     "execution_count": 337,
     "metadata": {},
     "output_type": "execute_result"
    }
   ],
   "source": [
    "Final_Data_Sorted2[['reservation_left', 'reservation']].sum()"
   ]
  },
  {
   "cell_type": "code",
   "execution_count": 338,
   "metadata": {},
   "outputs": [],
   "source": [
    "Final_Data_Sorted2['61-90_Org'] =Final_Data_Sorted2['61-90']"
   ]
  },
  {
   "cell_type": "code",
   "execution_count": 339,
   "metadata": {},
   "outputs": [],
   "source": [
    "Final_Data_Sorted2['61-90'] = np.where(Final_Data_Sorted2['61-90'].fillna(0)>0,Final_Data_Sorted2['61-90']-Final_Data_Sorted2['reservation_left'],0)"
   ]
  },
  {
   "cell_type": "code",
   "execution_count": 340,
   "metadata": {},
   "outputs": [],
   "source": [
    "Final_Data_Sorted2['61-90']  = np.where(Final_Data_Sorted2['61-90']>0,Final_Data_Sorted2['61-90'] ,0)"
   ]
  },
  {
   "cell_type": "code",
   "execution_count": 341,
   "metadata": {},
   "outputs": [
    {
     "data": {
      "text/plain": [
       "61-90          52813.9\n",
       "61-90_Org    5511510.0\n",
       "dtype: float64"
      ]
     },
     "execution_count": 341,
     "metadata": {},
     "output_type": "execute_result"
    }
   ],
   "source": [
    "Final_Data_Sorted2[['61-90','61-90_Org']].sum()"
   ]
  },
  {
   "cell_type": "code",
   "execution_count": 342,
   "metadata": {},
   "outputs": [],
   "source": [
    "Final_Data_Sorted2['Allocated_Stock_>60_After_Reservation'] = np.where((Final_Data_Sorted2['61-90'].fillna(0)+Final_Data_Sorted2['91-180'].fillna(0)+Final_Data_Sorted2['181-360'].fillna(0)+Final_Data_Sorted2['>360'].fillna(0))>=Final_Data_Sorted2['Cum_Sum'],\n",
    "                                                 np.where( Final_Data_Sorted2['Segment']=='Non Allocated',\n",
    "                                                          np.where((Final_Data_Sorted2['61-90'].fillna(0)+Final_Data_Sorted2['91-180'].fillna(0)+Final_Data_Sorted2['181-360'].fillna(0)+Final_Data_Sorted2['>360'].fillna(0))-Final_Data_Sorted2['Cum_Sum']>0,\n",
    "                                                                   (Final_Data_Sorted2['61-90'].fillna(0)+Final_Data_Sorted2['91-180'].fillna(0)+Final_Data_Sorted2['181-360'].fillna(0)+Final_Data_Sorted2['>360'].fillna(0))-Final_Data_Sorted2['Cum_Sum'],0)\n",
    "                                                          ,Final_Data_Sorted2['Max_Possible_Allocation']),\n",
    "                                                 np.where(((Final_Data_Sorted2['61-90'].fillna(0)+Final_Data_Sorted2['91-180'].fillna(0)+Final_Data_Sorted2['181-360'].fillna(0)+Final_Data_Sorted2['>360'].fillna(0))-Final_Data_Sorted2['Cum_Sum'] +Final_Data_Sorted2['Max_Possible_Allocation'])>0,\n",
    "                                                          (Final_Data_Sorted2['61-90'].fillna(0)+Final_Data_Sorted2['91-180'].fillna(0)+Final_Data_Sorted2['181-360'].fillna(0)+Final_Data_Sorted2['>360'].fillna(0))-Final_Data_Sorted2['Cum_Sum'] +Final_Data_Sorted2['Max_Possible_Allocation'],0))"
   ]
  },
  {
   "cell_type": "code",
   "execution_count": 343,
   "metadata": {},
   "outputs": [
    {
     "data": {
      "text/plain": [
       "Allocated_Stock_>60_After_Reservation    1095206.66\n",
       "Allocated_Stock_>60                      6905935.78\n",
       "dtype: float64"
      ]
     },
     "execution_count": 343,
     "metadata": {},
     "output_type": "execute_result"
    }
   ],
   "source": [
    "Final_Data_Sorted2[['Allocated_Stock_>60_After_Reservation','Allocated_Stock_>60']].sum()"
   ]
  },
  {
   "cell_type": "code",
   "execution_count": 344,
   "metadata": {},
   "outputs": [
    {
     "data": {
      "text/plain": [
       "reservation_left    1.479548e+08\n",
       "reservation         1.815066e+08\n",
       "dtype: float64"
      ]
     },
     "execution_count": 344,
     "metadata": {},
     "output_type": "execute_result"
    }
   ],
   "source": [
    "Final_Data_Sorted2[['reservation_left', 'reservation']].sum()"
   ]
  },
  {
   "cell_type": "markdown",
   "metadata": {},
   "source": [
    "## 31-60"
   ]
  },
  {
   "cell_type": "code",
   "execution_count": 345,
   "metadata": {},
   "outputs": [],
   "source": [
    "Final_Data_Sorted2['reservation_used'] = np.where(Final_Data_Sorted2['reservation_left'].fillna(0)>Final_Data_Sorted2['61-90_Org'].fillna(0),\n",
    "                                            Final_Data_Sorted2['61-90_Org'].fillna(0),\n",
    "                                             Final_Data_Sorted2['reservation_left'].fillna(0))  "
   ]
  },
  {
   "cell_type": "code",
   "execution_count": 346,
   "metadata": {},
   "outputs": [],
   "source": [
    "Final_Data_Sorted2['reservation_left'] = Final_Data_Sorted2['reservation_left'].fillna(0)-Final_Data_Sorted2['reservation_used'].fillna(0)"
   ]
  },
  {
   "cell_type": "code",
   "execution_count": 347,
   "metadata": {},
   "outputs": [
    {
     "data": {
      "text/plain": [
       "reservation_left    1.424961e+08\n",
       "reservation         1.815066e+08\n",
       "dtype: float64"
      ]
     },
     "execution_count": 347,
     "metadata": {},
     "output_type": "execute_result"
    }
   ],
   "source": [
    "Final_Data_Sorted2[['reservation_left', 'reservation']].sum()"
   ]
  },
  {
   "cell_type": "code",
   "execution_count": 348,
   "metadata": {},
   "outputs": [],
   "source": [
    "Final_Data_Sorted2['31-60_Org'] =Final_Data_Sorted2['31-60']"
   ]
  },
  {
   "cell_type": "code",
   "execution_count": 349,
   "metadata": {},
   "outputs": [],
   "source": [
    "Final_Data_Sorted2['31-60'] = np.where(Final_Data_Sorted2['31-60'].fillna(0)>0,Final_Data_Sorted2['31-60']-Final_Data_Sorted2['reservation_left'],0)"
   ]
  },
  {
   "cell_type": "code",
   "execution_count": 350,
   "metadata": {},
   "outputs": [],
   "source": [
    "Final_Data_Sorted2['31-60'] = np.where(Final_Data_Sorted2['31-60']>0,Final_Data_Sorted2['31-60'] ,0)"
   ]
  },
  {
   "cell_type": "code",
   "execution_count": 351,
   "metadata": {},
   "outputs": [
    {
     "data": {
      "text/plain": [
       "31-60           10026.38\n",
       "31-60_Org    15641532.46\n",
       "dtype: float64"
      ]
     },
     "execution_count": 351,
     "metadata": {},
     "output_type": "execute_result"
    }
   ],
   "source": [
    "Final_Data_Sorted2[['31-60','31-60_Org']].sum() "
   ]
  },
  {
   "cell_type": "code",
   "execution_count": 352,
   "metadata": {},
   "outputs": [],
   "source": [
    "Final_Data_Sorted2['Allocated_Stock_>30_After_Reservation'] = np.where((Final_Data_Sorted2['31-60'].fillna(0)+Final_Data_Sorted2['61-90'].fillna(0)+Final_Data_Sorted2['91-180'].fillna(0)+Final_Data_Sorted2['181-360'].fillna(0)+Final_Data_Sorted2['>360'].fillna(0))>=Final_Data_Sorted2['Cum_Sum'],\n",
    "                                                 np.where( Final_Data_Sorted2['Segment']=='Non Allocated',\n",
    "                                                          np.where((Final_Data_Sorted2['31-60'].fillna(0)+Final_Data_Sorted2['61-90'].fillna(0)+Final_Data_Sorted2['91-180'].fillna(0)+Final_Data_Sorted2['181-360'].fillna(0)+Final_Data_Sorted2['>360'].fillna(0))-Final_Data_Sorted2['Cum_Sum']>0,\n",
    "                                                                   (Final_Data_Sorted2['31-60'].fillna(0)+Final_Data_Sorted2['61-90'].fillna(0)+Final_Data_Sorted2['91-180'].fillna(0)+Final_Data_Sorted2['181-360'].fillna(0)+Final_Data_Sorted2['>360'].fillna(0))-Final_Data_Sorted2['Cum_Sum'],0)\n",
    "                                                          ,Final_Data_Sorted2['Max_Possible_Allocation']),\n",
    "                                                 np.where(((Final_Data_Sorted2['31-60'].fillna(0)+Final_Data_Sorted2['61-90'].fillna(0)+Final_Data_Sorted2['91-180'].fillna(0)+Final_Data_Sorted2['181-360'].fillna(0)+Final_Data_Sorted2['>360'].fillna(0))-Final_Data_Sorted2['Cum_Sum'] +Final_Data_Sorted2['Max_Possible_Allocation'])>0,\n",
    "                                                          (Final_Data_Sorted2['31-60'].fillna(0)+Final_Data_Sorted2['61-90'].fillna(0)+Final_Data_Sorted2['91-180'].fillna(0)+Final_Data_Sorted2['181-360'].fillna(0)+Final_Data_Sorted2['>360'].fillna(0))-Final_Data_Sorted2['Cum_Sum'] +Final_Data_Sorted2['Max_Possible_Allocation'],0))"
   ]
  },
  {
   "cell_type": "code",
   "execution_count": 353,
   "metadata": {},
   "outputs": [
    {
     "data": {
      "text/plain": [
       "Allocated_Stock_>30                      8423707.78\n",
       "Allocated_Stock_>30_After_Reservation    1098400.00\n",
       "dtype: float64"
      ]
     },
     "execution_count": 353,
     "metadata": {},
     "output_type": "execute_result"
    }
   ],
   "source": [
    "Final_Data_Sorted2[['Allocated_Stock_>30','Allocated_Stock_>30_After_Reservation']].sum()"
   ]
  },
  {
   "cell_type": "code",
   "execution_count": null,
   "metadata": {},
   "outputs": [],
   "source": []
  },
  {
   "cell_type": "markdown",
   "metadata": {},
   "source": [
    "## 0-30"
   ]
  },
  {
   "cell_type": "code",
   "execution_count": 354,
   "metadata": {},
   "outputs": [],
   "source": [
    "Final_Data_Sorted2['reservation_used'] = np.where(Final_Data_Sorted2['reservation_left'].fillna(0)>Final_Data_Sorted2['31-60_Org'].fillna(0),\n",
    "                                            Final_Data_Sorted2['31-60_Org'].fillna(0),\n",
    "                                             Final_Data_Sorted2['reservation_left'].fillna(0))  "
   ]
  },
  {
   "cell_type": "code",
   "execution_count": 355,
   "metadata": {},
   "outputs": [
    {
     "data": {
      "text/plain": [
       "15631506.080000002"
      ]
     },
     "execution_count": 355,
     "metadata": {},
     "output_type": "execute_result"
    }
   ],
   "source": [
    "Final_Data_Sorted2['reservation_used'].sum()"
   ]
  },
  {
   "cell_type": "code",
   "execution_count": 356,
   "metadata": {},
   "outputs": [],
   "source": [
    "Final_Data_Sorted2['reservation_left'] = Final_Data_Sorted2['reservation_left'].fillna(0)-Final_Data_Sorted2['reservation_used'].fillna(0)"
   ]
  },
  {
   "cell_type": "code",
   "execution_count": 357,
   "metadata": {},
   "outputs": [
    {
     "data": {
      "text/plain": [
       "reservation_left    1.268646e+08\n",
       "reservation         1.815066e+08\n",
       "dtype: float64"
      ]
     },
     "execution_count": 357,
     "metadata": {},
     "output_type": "execute_result"
    }
   ],
   "source": [
    "Final_Data_Sorted2[['reservation_left', 'reservation']].sum()"
   ]
  },
  {
   "cell_type": "code",
   "execution_count": 358,
   "metadata": {},
   "outputs": [],
   "source": [
    "Final_Data_Sorted2['0-31_Org'] =Final_Data_Sorted2['0-31']"
   ]
  },
  {
   "cell_type": "code",
   "execution_count": 359,
   "metadata": {},
   "outputs": [],
   "source": [
    "Final_Data_Sorted2['0-31'] = np.where(Final_Data_Sorted2['0-31'].fillna(0)>0,Final_Data_Sorted2['0-31']-Final_Data_Sorted2['reservation_left'],0)"
   ]
  },
  {
   "cell_type": "code",
   "execution_count": 360,
   "metadata": {},
   "outputs": [],
   "source": [
    "Final_Data_Sorted2['0-31']=np.where(Final_Data_Sorted2['0-31']>0,Final_Data_Sorted2['0-31'],0)"
   ]
  },
  {
   "cell_type": "code",
   "execution_count": 361,
   "metadata": {},
   "outputs": [],
   "source": [
    "#Final_Data_Sorted2[['0-31','0-31_Org']].sum()"
   ]
  },
  {
   "cell_type": "code",
   "execution_count": 362,
   "metadata": {},
   "outputs": [],
   "source": [
    "#Final_Data_Sorted2.columns"
   ]
  },
  {
   "cell_type": "code",
   "execution_count": 363,
   "metadata": {},
   "outputs": [],
   "source": [
    "Final_Data_Sorted2['Allocated_Stock_>0_After_Reservation'] = np.where((Final_Data_Sorted2['0-31'].fillna(0)+Final_Data_Sorted2['31-60'].fillna(0)+Final_Data_Sorted2['61-90'].fillna(0)+Final_Data_Sorted2['91-180'].fillna(0)+Final_Data_Sorted2['181-360'].fillna(0)+Final_Data_Sorted2['>360'].fillna(0))>=Final_Data_Sorted2['Cum_Sum'],\n",
    "                                                 np.where( Final_Data_Sorted2['Segment']=='Non Allocated',\n",
    "                                                          np.where((Final_Data_Sorted2['0-31'].fillna(0)+Final_Data_Sorted2['31-60'].fillna(0)+Final_Data_Sorted2['61-90'].fillna(0)+Final_Data_Sorted2['91-180'].fillna(0)+Final_Data_Sorted2['181-360'].fillna(0)+Final_Data_Sorted2['>360'].fillna(0))-Final_Data_Sorted2['Cum_Sum']>0,\n",
    "                                                                   (Final_Data_Sorted2['0-31'].fillna(0)+Final_Data_Sorted2['31-60'].fillna(0)+Final_Data_Sorted2['61-90'].fillna(0)+Final_Data_Sorted2['91-180'].fillna(0)+Final_Data_Sorted2['181-360'].fillna(0)+Final_Data_Sorted2['>360'].fillna(0))-Final_Data_Sorted2['Cum_Sum'],0)\n",
    "                                                          ,Final_Data_Sorted2['Max_Possible_Allocation']),\n",
    "                                                 np.where(((Final_Data_Sorted2['0-31'].fillna(0)+Final_Data_Sorted2['31-60'].fillna(0)+Final_Data_Sorted2['61-90'].fillna(0)+Final_Data_Sorted2['91-180'].fillna(0)+Final_Data_Sorted2['181-360'].fillna(0)+Final_Data_Sorted2['>360'].fillna(0))-Final_Data_Sorted2['Cum_Sum'] +Final_Data_Sorted2['Max_Possible_Allocation'])>0,\n",
    "                                                          (Final_Data_Sorted2['0-31'].fillna(0)+Final_Data_Sorted2['31-60'].fillna(0)+Final_Data_Sorted2['61-90'].fillna(0)+Final_Data_Sorted2['91-180'].fillna(0)+Final_Data_Sorted2['181-360'].fillna(0)+Final_Data_Sorted2['>360'].fillna(0))-Final_Data_Sorted2['Cum_Sum'] +Final_Data_Sorted2['Max_Possible_Allocation'],0))"
   ]
  },
  {
   "cell_type": "code",
   "execution_count": 364,
   "metadata": {},
   "outputs": [],
   "source": [
    "Final_Data_Sorted2['reservation_used'] = np.where(Final_Data_Sorted2['reservation_left'].fillna(0)>Final_Data_Sorted2['0-31_Org'].fillna(0),\n",
    "                                            Final_Data_Sorted2['0-31_Org'].fillna(0),\n",
    "                                             Final_Data_Sorted2['reservation_left'].fillna(0)) "
   ]
  },
  {
   "cell_type": "code",
   "execution_count": 365,
   "metadata": {},
   "outputs": [
    {
     "data": {
      "text/plain": [
       "110619786.77999999"
      ]
     },
     "execution_count": 365,
     "metadata": {},
     "output_type": "execute_result"
    }
   ],
   "source": [
    "Final_Data_Sorted2['reservation_used'].sum()"
   ]
  },
  {
   "cell_type": "code",
   "execution_count": 366,
   "metadata": {},
   "outputs": [],
   "source": [
    "Final_Data_Sorted2['reservation_left'] = Final_Data_Sorted2['reservation_left'].fillna(0)-Final_Data_Sorted2['reservation_used'].fillna(0)"
   ]
  },
  {
   "cell_type": "code",
   "execution_count": 367,
   "metadata": {},
   "outputs": [
    {
     "data": {
      "text/plain": [
       "reservation_left    1.624478e+07\n",
       "reservation         1.815066e+08\n",
       "dtype: float64"
      ]
     },
     "execution_count": 367,
     "metadata": {},
     "output_type": "execute_result"
    }
   ],
   "source": [
    "Final_Data_Sorted2[['reservation_left', 'reservation']].sum()"
   ]
  },
  {
   "cell_type": "code",
   "execution_count": 368,
   "metadata": {},
   "outputs": [],
   "source": [
    "ForRBS_Sum_forappend=ForRBS_Sum[['Grey K1','Stock_before_Oct']].rename(columns = {'Stock_before_Oct' :'Allocated_Stock'})"
   ]
  },
  {
   "cell_type": "code",
   "execution_count": 369,
   "metadata": {},
   "outputs": [],
   "source": [
    "ForRBS_Sum_forappend['Standard  Article'] = ForRBS_Sum_forappend['Grey K1']"
   ]
  },
  {
   "cell_type": "code",
   "execution_count": 370,
   "metadata": {},
   "outputs": [],
   "source": [
    "ForRBS_Sum_forappend['Segment'] = 'Non Allocated'"
   ]
  },
  {
   "cell_type": "code",
   "execution_count": 371,
   "metadata": {},
   "outputs": [],
   "source": [
    "Final_Data_Sorted2=Final_Data_Sorted2.append(ForRBS_Sum_forappend)"
   ]
  },
  {
   "cell_type": "code",
   "execution_count": 372,
   "metadata": {},
   "outputs": [],
   "source": [
    "Final_Data_Sorted3=Final_Data_Sorted2"
   ]
  },
  {
   "cell_type": "code",
   "execution_count": null,
   "metadata": {},
   "outputs": [],
   "source": []
  },
  {
   "cell_type": "code",
   "execution_count": null,
   "metadata": {},
   "outputs": [],
   "source": []
  },
  {
   "cell_type": "code",
   "execution_count": null,
   "metadata": {},
   "outputs": [],
   "source": []
  },
  {
   "cell_type": "code",
   "execution_count": null,
   "metadata": {},
   "outputs": [],
   "source": []
  },
  {
   "cell_type": "code",
   "execution_count": null,
   "metadata": {},
   "outputs": [],
   "source": []
  },
  {
   "cell_type": "code",
   "execution_count": 373,
   "metadata": {},
   "outputs": [],
   "source": [
    "Final_Data_Sorted3['Grouping (A)'] = np.where(Final_Data_Sorted3['OrderType'].str.contains('Hold',case=False),\"B) Hold\",\n",
    "                                              np.where(Final_Data_Sorted3['OrderType'].str.contains('Cancel',case=False),\"C) Cancel\",\n",
    "                                              np.where(Final_Data_Sorted3['OrderType'].str.contains('Non Allocated',case=False),\"D) Others\",\n",
    "                                              \"A) Live Order\")))"
   ]
  },
  {
   "cell_type": "code",
   "execution_count": 374,
   "metadata": {},
   "outputs": [],
   "source": [
    "#Final_Data_Sorted3['Segment'].drop_duplicates()"
   ]
  },
  {
   "cell_type": "code",
   "execution_count": 375,
   "metadata": {},
   "outputs": [],
   "source": [
    "Final_Data_Sorted3['Grouping (B)'] = np.where(Final_Data_Sorted3['Segment'].str.contains('Greige|Outsource',case=False),\"Greige\",\n",
    "                                              np.where(Final_Data_Sorted3['Segment'].str.contains('New Product Development|Product management MIL|Self Development|Trial|Samples|Employee',case=False),\"Development\",\n",
    "                                              np.where(Final_Data_Sorted3['Segment'].str.contains('Non Allocated',case=False),\"Others\",\n",
    "                                              \"Captive\")))"
   ]
  },
  {
   "cell_type": "code",
   "execution_count": 376,
   "metadata": {},
   "outputs": [],
   "source": [
    "Final_Data_Sorted3['Grouping (A)'] = np.where((Final_Data_Sorted3['Grouping (B)']==\"Development\") &\n",
    "                                              (Final_Data_Sorted3['Grouping (A)']==\"A) Live Order\"),\"D) Others\",\n",
    "                                             Final_Data_Sorted3['Grouping (A)'])"
   ]
  },
  {
   "cell_type": "code",
   "execution_count": 377,
   "metadata": {},
   "outputs": [],
   "source": [
    "Final_Data_Sorted3['Cal. Grey Reqd.']\n",
    "Cal_Surplus=Final_Data_Sorted3.groupby('Standard  Article')['Cal. Grey Reqd.'].sum().reset_index()"
   ]
  },
  {
   "cell_type": "code",
   "execution_count": 378,
   "metadata": {},
   "outputs": [],
   "source": [
    "Cal_Surplus['Cal Grey Reqd 20%'] = Cal_Surplus['Cal. Grey Reqd.'] * .2"
   ]
  },
  {
   "cell_type": "code",
   "execution_count": 379,
   "metadata": {},
   "outputs": [],
   "source": [
    "Cal_Surplus.rename(columns={'Cal. Grey Reqd.': 'Total Cal. Grey Reqd'}, inplace=True)"
   ]
  },
  {
   "cell_type": "code",
   "execution_count": 380,
   "metadata": {},
   "outputs": [],
   "source": [
    "Final_Data_Sorted3=pd.merge(Final_Data_Sorted3,Cal_Surplus, on = 'Standard  Article', how = 'left')"
   ]
  },
  {
   "cell_type": "code",
   "execution_count": 381,
   "metadata": {},
   "outputs": [
    {
     "name": "stderr",
     "output_type": "stream",
     "text": [
      "c:\\users\\fsc.reports1\\appdata\\local\\programs\\python\\python37\\lib\\site-packages\\pandas\\core\\ops\\array_ops.py:253: FutureWarning: elementwise comparison failed; returning scalar instead, but in the future will perform elementwise comparison\n",
      "  res_values = method(rvalues)\n"
     ]
    }
   ],
   "source": [
    "Final_Data_Sorted3['Calculated Surplus'] =  np.where(Final_Data_Sorted3['Order Qty']!='Non Allocated',0,\n",
    "                                                    np.where(Final_Data_Sorted3['Cal Grey Reqd 20%']>=Final_Data_Sorted3['Allocated_Stock_Stock_Before_Oct'],\n",
    "                                                            Final_Data_Sorted3['Allocated_Stock_Stock_Before_Oct'],\n",
    "                                                            Final_Data_Sorted3['Allocated_Stock_Stock_Before_Oct']-Final_Data_Sorted3['Cal Grey Reqd 20%']))"
   ]
  },
  {
   "cell_type": "code",
   "execution_count": 382,
   "metadata": {},
   "outputs": [],
   "source": [
    "pd.set_option('display.max_columns',1000)"
   ]
  },
  {
   "cell_type": "code",
   "execution_count": 383,
   "metadata": {},
   "outputs": [],
   "source": [
    "#Final_Data_Sorted3.head(3)"
   ]
  },
  {
   "cell_type": "code",
   "execution_count": 384,
   "metadata": {},
   "outputs": [],
   "source": [
    "# for names in list(Final_Data_Sorted3):\n",
    "#     print(names , end = \" ,\")"
   ]
  },
  {
   "cell_type": "code",
   "execution_count": 385,
   "metadata": {},
   "outputs": [],
   "source": [
    "# pd.pivot_table(Final_Data_Sorted2, index = ['Grouping (A)','Grouping (B)','Rank','OrderType'],\n",
    "#                columns = 'Product_Type',\n",
    "#                values=['Allocated_Stock_Stock_Before_Oct'],\n",
    "#                aggfunc=lambda x : sum(x/100000) ,\n",
    "#                margins=True, margins_name='Grand Total').fillna(0)"
   ]
  },
  {
   "cell_type": "code",
   "execution_count": null,
   "metadata": {},
   "outputs": [],
   "source": []
  },
  {
   "cell_type": "code",
   "execution_count": 386,
   "metadata": {},
   "outputs": [],
   "source": [
    "#Final_Data_Sorted3['Allocated_Stock']=np.where(Final_Data_Sorted3['Segment']=='Non Allocated',\n",
    "#                                               np.where((Final_Data_Sorted3['Grey Stock']-Final_Data_Sorted3['Cum_Sum'])>0,\n",
    "#                                                        Final_Data_Sorted3['Grey Stock']-Final_Data_Sorted3['Cum_Sum'],\n",
    "#                                                        Final_Data_Sorted3['Allocated_Stock']),\n",
    "#                                               Final_Data_Sorted3['Allocated_Stock'])"
   ]
  },
  {
   "cell_type": "code",
   "execution_count": 387,
   "metadata": {},
   "outputs": [],
   "source": [
    "Final_Data_Sorted3['Report Day'] = pd.to_datetime('today').strftime(\"%d-%b-%Y\")"
   ]
  },
  {
   "cell_type": "code",
   "execution_count": 388,
   "metadata": {},
   "outputs": [],
   "source": [
    "Final_Data_Sorted3.to_excel('Final_Data2.xlsx',sheet_name='maindata')"
   ]
  },
  {
   "cell_type": "code",
   "execution_count": 389,
   "metadata": {},
   "outputs": [
    {
     "data": {
      "text/plain": [
       "['.ipynb_checkpoints',\n",
       " 'Allocation_index.xlsx',\n",
       " 'Article master.xlsx',\n",
       " 'Cancel2.xlsx',\n",
       " 'Consolodated-Stock for referance.csv',\n",
       " 'DB3 - 1-Sep - 5.57 PM.xls',\n",
       " \"DBWeaving 1st Sep'21.xls\",\n",
       " 'Final_Data2.xlsx',\n",
       " 'Greige stock 1.8.2021.xls',\n",
       " 'Greige Stock Allocation.ipynb',\n",
       " 'Grey.xlsx',\n",
       " 'Inventory Analysis Oct-21 Final.xlsx',\n",
       " 'Order position.xlsx',\n",
       " 'Order_position.xlsx',\n",
       " 'Today Greige Allocation.xlsx']"
      ]
     },
     "execution_count": 389,
     "metadata": {},
     "output_type": "execute_result"
    }
   ],
   "source": [
    "os.listdir()"
   ]
  },
  {
   "cell_type": "code",
   "execution_count": 390,
   "metadata": {},
   "outputs": [
    {
     "ename": "FileNotFoundError",
     "evalue": "[Errno 2] No such file or directory: 'CommnetsOnStock.xlsx'",
     "output_type": "error",
     "traceback": [
      "\u001b[1;31m---------------------------------------------------------------------------\u001b[0m",
      "\u001b[1;31mFileNotFoundError\u001b[0m                         Traceback (most recent call last)",
      "\u001b[1;32m<ipython-input-390-d261d89ee491>\u001b[0m in \u001b[0;36m<module>\u001b[1;34m\u001b[0m\n\u001b[1;32m----> 1\u001b[1;33m \u001b[0mdf\u001b[0m \u001b[1;33m=\u001b[0m \u001b[0mpd\u001b[0m\u001b[1;33m.\u001b[0m\u001b[0mExcelFile\u001b[0m\u001b[1;33m(\u001b[0m\u001b[1;34m'CommnetsOnStock.xlsx'\u001b[0m\u001b[1;33m)\u001b[0m\u001b[1;33m\u001b[0m\u001b[1;33m\u001b[0m\u001b[0m\n\u001b[0m",
      "\u001b[1;32mc:\\users\\fsc.reports1\\appdata\\local\\programs\\python\\python37\\lib\\site-packages\\pandas\\io\\excel\\_base.py\u001b[0m in \u001b[0;36m__init__\u001b[1;34m(self, io, engine)\u001b[0m\n\u001b[0;32m    822\u001b[0m         \u001b[0mself\u001b[0m\u001b[1;33m.\u001b[0m\u001b[0m_io\u001b[0m \u001b[1;33m=\u001b[0m \u001b[0mstringify_path\u001b[0m\u001b[1;33m(\u001b[0m\u001b[0mio\u001b[0m\u001b[1;33m)\u001b[0m\u001b[1;33m\u001b[0m\u001b[1;33m\u001b[0m\u001b[0m\n\u001b[0;32m    823\u001b[0m \u001b[1;33m\u001b[0m\u001b[0m\n\u001b[1;32m--> 824\u001b[1;33m         \u001b[0mself\u001b[0m\u001b[1;33m.\u001b[0m\u001b[0m_reader\u001b[0m \u001b[1;33m=\u001b[0m \u001b[0mself\u001b[0m\u001b[1;33m.\u001b[0m\u001b[0m_engines\u001b[0m\u001b[1;33m[\u001b[0m\u001b[0mengine\u001b[0m\u001b[1;33m]\u001b[0m\u001b[1;33m(\u001b[0m\u001b[0mself\u001b[0m\u001b[1;33m.\u001b[0m\u001b[0m_io\u001b[0m\u001b[1;33m)\u001b[0m\u001b[1;33m\u001b[0m\u001b[1;33m\u001b[0m\u001b[0m\n\u001b[0m\u001b[0;32m    825\u001b[0m \u001b[1;33m\u001b[0m\u001b[0m\n\u001b[0;32m    826\u001b[0m     \u001b[1;32mdef\u001b[0m \u001b[0m__fspath__\u001b[0m\u001b[1;33m(\u001b[0m\u001b[0mself\u001b[0m\u001b[1;33m)\u001b[0m\u001b[1;33m:\u001b[0m\u001b[1;33m\u001b[0m\u001b[1;33m\u001b[0m\u001b[0m\n",
      "\u001b[1;32mc:\\users\\fsc.reports1\\appdata\\local\\programs\\python\\python37\\lib\\site-packages\\pandas\\io\\excel\\_xlrd.py\u001b[0m in \u001b[0;36m__init__\u001b[1;34m(self, filepath_or_buffer)\u001b[0m\n\u001b[0;32m     19\u001b[0m         \u001b[0merr_msg\u001b[0m \u001b[1;33m=\u001b[0m \u001b[1;34m\"Install xlrd >= 1.0.0 for Excel support\"\u001b[0m\u001b[1;33m\u001b[0m\u001b[1;33m\u001b[0m\u001b[0m\n\u001b[0;32m     20\u001b[0m         \u001b[0mimport_optional_dependency\u001b[0m\u001b[1;33m(\u001b[0m\u001b[1;34m\"xlrd\"\u001b[0m\u001b[1;33m,\u001b[0m \u001b[0mextra\u001b[0m\u001b[1;33m=\u001b[0m\u001b[0merr_msg\u001b[0m\u001b[1;33m)\u001b[0m\u001b[1;33m\u001b[0m\u001b[1;33m\u001b[0m\u001b[0m\n\u001b[1;32m---> 21\u001b[1;33m         \u001b[0msuper\u001b[0m\u001b[1;33m(\u001b[0m\u001b[1;33m)\u001b[0m\u001b[1;33m.\u001b[0m\u001b[0m__init__\u001b[0m\u001b[1;33m(\u001b[0m\u001b[0mfilepath_or_buffer\u001b[0m\u001b[1;33m)\u001b[0m\u001b[1;33m\u001b[0m\u001b[1;33m\u001b[0m\u001b[0m\n\u001b[0m\u001b[0;32m     22\u001b[0m \u001b[1;33m\u001b[0m\u001b[0m\n\u001b[0;32m     23\u001b[0m     \u001b[1;33m@\u001b[0m\u001b[0mproperty\u001b[0m\u001b[1;33m\u001b[0m\u001b[1;33m\u001b[0m\u001b[0m\n",
      "\u001b[1;32mc:\\users\\fsc.reports1\\appdata\\local\\programs\\python\\python37\\lib\\site-packages\\pandas\\io\\excel\\_base.py\u001b[0m in \u001b[0;36m__init__\u001b[1;34m(self, filepath_or_buffer)\u001b[0m\n\u001b[0;32m    351\u001b[0m             \u001b[0mself\u001b[0m\u001b[1;33m.\u001b[0m\u001b[0mbook\u001b[0m \u001b[1;33m=\u001b[0m \u001b[0mself\u001b[0m\u001b[1;33m.\u001b[0m\u001b[0mload_workbook\u001b[0m\u001b[1;33m(\u001b[0m\u001b[0mfilepath_or_buffer\u001b[0m\u001b[1;33m)\u001b[0m\u001b[1;33m\u001b[0m\u001b[1;33m\u001b[0m\u001b[0m\n\u001b[0;32m    352\u001b[0m         \u001b[1;32melif\u001b[0m \u001b[0misinstance\u001b[0m\u001b[1;33m(\u001b[0m\u001b[0mfilepath_or_buffer\u001b[0m\u001b[1;33m,\u001b[0m \u001b[0mstr\u001b[0m\u001b[1;33m)\u001b[0m\u001b[1;33m:\u001b[0m\u001b[1;33m\u001b[0m\u001b[1;33m\u001b[0m\u001b[0m\n\u001b[1;32m--> 353\u001b[1;33m             \u001b[0mself\u001b[0m\u001b[1;33m.\u001b[0m\u001b[0mbook\u001b[0m \u001b[1;33m=\u001b[0m \u001b[0mself\u001b[0m\u001b[1;33m.\u001b[0m\u001b[0mload_workbook\u001b[0m\u001b[1;33m(\u001b[0m\u001b[0mfilepath_or_buffer\u001b[0m\u001b[1;33m)\u001b[0m\u001b[1;33m\u001b[0m\u001b[1;33m\u001b[0m\u001b[0m\n\u001b[0m\u001b[0;32m    354\u001b[0m         \u001b[1;32melif\u001b[0m \u001b[0misinstance\u001b[0m\u001b[1;33m(\u001b[0m\u001b[0mfilepath_or_buffer\u001b[0m\u001b[1;33m,\u001b[0m \u001b[0mbytes\u001b[0m\u001b[1;33m)\u001b[0m\u001b[1;33m:\u001b[0m\u001b[1;33m\u001b[0m\u001b[1;33m\u001b[0m\u001b[0m\n\u001b[0;32m    355\u001b[0m             \u001b[0mself\u001b[0m\u001b[1;33m.\u001b[0m\u001b[0mbook\u001b[0m \u001b[1;33m=\u001b[0m \u001b[0mself\u001b[0m\u001b[1;33m.\u001b[0m\u001b[0mload_workbook\u001b[0m\u001b[1;33m(\u001b[0m\u001b[0mBytesIO\u001b[0m\u001b[1;33m(\u001b[0m\u001b[0mfilepath_or_buffer\u001b[0m\u001b[1;33m)\u001b[0m\u001b[1;33m)\u001b[0m\u001b[1;33m\u001b[0m\u001b[1;33m\u001b[0m\u001b[0m\n",
      "\u001b[1;32mc:\\users\\fsc.reports1\\appdata\\local\\programs\\python\\python37\\lib\\site-packages\\pandas\\io\\excel\\_xlrd.py\u001b[0m in \u001b[0;36mload_workbook\u001b[1;34m(self, filepath_or_buffer)\u001b[0m\n\u001b[0;32m     34\u001b[0m             \u001b[1;32mreturn\u001b[0m \u001b[0mopen_workbook\u001b[0m\u001b[1;33m(\u001b[0m\u001b[0mfile_contents\u001b[0m\u001b[1;33m=\u001b[0m\u001b[0mdata\u001b[0m\u001b[1;33m)\u001b[0m\u001b[1;33m\u001b[0m\u001b[1;33m\u001b[0m\u001b[0m\n\u001b[0;32m     35\u001b[0m         \u001b[1;32melse\u001b[0m\u001b[1;33m:\u001b[0m\u001b[1;33m\u001b[0m\u001b[1;33m\u001b[0m\u001b[0m\n\u001b[1;32m---> 36\u001b[1;33m             \u001b[1;32mreturn\u001b[0m \u001b[0mopen_workbook\u001b[0m\u001b[1;33m(\u001b[0m\u001b[0mfilepath_or_buffer\u001b[0m\u001b[1;33m)\u001b[0m\u001b[1;33m\u001b[0m\u001b[1;33m\u001b[0m\u001b[0m\n\u001b[0m\u001b[0;32m     37\u001b[0m \u001b[1;33m\u001b[0m\u001b[0m\n\u001b[0;32m     38\u001b[0m     \u001b[1;33m@\u001b[0m\u001b[0mproperty\u001b[0m\u001b[1;33m\u001b[0m\u001b[1;33m\u001b[0m\u001b[0m\n",
      "\u001b[1;32mc:\\users\\fsc.reports1\\appdata\\local\\programs\\python\\python37\\lib\\site-packages\\xlrd\\__init__.py\u001b[0m in \u001b[0;36mopen_workbook\u001b[1;34m(filename, logfile, verbosity, use_mmap, file_contents, encoding_override, formatting_info, on_demand, ragged_rows)\u001b[0m\n\u001b[0;32m    109\u001b[0m     \u001b[1;32melse\u001b[0m\u001b[1;33m:\u001b[0m\u001b[1;33m\u001b[0m\u001b[1;33m\u001b[0m\u001b[0m\n\u001b[0;32m    110\u001b[0m         \u001b[0mfilename\u001b[0m \u001b[1;33m=\u001b[0m \u001b[0mos\u001b[0m\u001b[1;33m.\u001b[0m\u001b[0mpath\u001b[0m\u001b[1;33m.\u001b[0m\u001b[0mexpanduser\u001b[0m\u001b[1;33m(\u001b[0m\u001b[0mfilename\u001b[0m\u001b[1;33m)\u001b[0m\u001b[1;33m\u001b[0m\u001b[1;33m\u001b[0m\u001b[0m\n\u001b[1;32m--> 111\u001b[1;33m         \u001b[1;32mwith\u001b[0m \u001b[0mopen\u001b[0m\u001b[1;33m(\u001b[0m\u001b[0mfilename\u001b[0m\u001b[1;33m,\u001b[0m \u001b[1;34m\"rb\"\u001b[0m\u001b[1;33m)\u001b[0m \u001b[1;32mas\u001b[0m \u001b[0mf\u001b[0m\u001b[1;33m:\u001b[0m\u001b[1;33m\u001b[0m\u001b[1;33m\u001b[0m\u001b[0m\n\u001b[0m\u001b[0;32m    112\u001b[0m             \u001b[0mpeek\u001b[0m \u001b[1;33m=\u001b[0m \u001b[0mf\u001b[0m\u001b[1;33m.\u001b[0m\u001b[0mread\u001b[0m\u001b[1;33m(\u001b[0m\u001b[0mpeeksz\u001b[0m\u001b[1;33m)\u001b[0m\u001b[1;33m\u001b[0m\u001b[1;33m\u001b[0m\u001b[0m\n\u001b[0;32m    113\u001b[0m     \u001b[1;32mif\u001b[0m \u001b[0mpeek\u001b[0m \u001b[1;33m==\u001b[0m \u001b[1;34mb\"PK\\x03\\x04\"\u001b[0m\u001b[1;33m:\u001b[0m \u001b[1;31m# a ZIP file\u001b[0m\u001b[1;33m\u001b[0m\u001b[1;33m\u001b[0m\u001b[0m\n",
      "\u001b[1;31mFileNotFoundError\u001b[0m: [Errno 2] No such file or directory: 'CommnetsOnStock.xlsx'"
     ]
    }
   ],
   "source": [
    "df = pd.ExcelFile('CommnetsOnStock.xlsx')"
   ]
  },
  {
   "cell_type": "code",
   "execution_count": 391,
   "metadata": {},
   "outputs": [
    {
     "ename": "NameError",
     "evalue": "name 'df' is not defined",
     "output_type": "error",
     "traceback": [
      "\u001b[1;31m---------------------------------------------------------------------------\u001b[0m",
      "\u001b[1;31mNameError\u001b[0m                                 Traceback (most recent call last)",
      "\u001b[1;32m<ipython-input-391-ddc11bf29b77>\u001b[0m in \u001b[0;36m<module>\u001b[1;34m\u001b[0m\n\u001b[1;32m----> 1\u001b[1;33m \u001b[0mdf\u001b[0m\u001b[1;33m.\u001b[0m\u001b[0msheet_names\u001b[0m\u001b[1;33m\u001b[0m\u001b[1;33m\u001b[0m\u001b[0m\n\u001b[0m",
      "\u001b[1;31mNameError\u001b[0m: name 'df' is not defined"
     ]
    }
   ],
   "source": [
    "df.sheet_names"
   ]
  },
  {
   "cell_type": "markdown",
   "metadata": {},
   "source": [
    "## Last Files Commment to Pick"
   ]
  },
  {
   "cell_type": "code",
   "execution_count": 392,
   "metadata": {},
   "outputs": [
    {
     "ename": "FileNotFoundError",
     "evalue": "[Errno 2] No such file or directory: 'CommnetsOnStock.xlsx'",
     "output_type": "error",
     "traceback": [
      "\u001b[1;31m---------------------------------------------------------------------------\u001b[0m",
      "\u001b[1;31mFileNotFoundError\u001b[0m                         Traceback (most recent call last)",
      "\u001b[1;32m<ipython-input-392-faf38007602a>\u001b[0m in \u001b[0;36m<module>\u001b[1;34m\u001b[0m\n\u001b[1;32m----> 1\u001b[1;33m \u001b[0mremarks\u001b[0m\u001b[1;33m=\u001b[0m\u001b[0mpd\u001b[0m\u001b[1;33m.\u001b[0m\u001b[0mread_excel\u001b[0m\u001b[1;33m(\u001b[0m\u001b[1;34m'CommnetsOnStock.xlsx'\u001b[0m\u001b[1;33m,\u001b[0m \u001b[0msheet_name\u001b[0m\u001b[1;33m=\u001b[0m\u001b[1;34m'Master Sheet'\u001b[0m\u001b[1;33m)\u001b[0m\u001b[1;33m\u001b[0m\u001b[1;33m\u001b[0m\u001b[0m\n\u001b[0m",
      "\u001b[1;32mc:\\users\\fsc.reports1\\appdata\\local\\programs\\python\\python37\\lib\\site-packages\\pandas\\io\\excel\\_base.py\u001b[0m in \u001b[0;36mread_excel\u001b[1;34m(io, sheet_name, header, names, index_col, usecols, squeeze, dtype, engine, converters, true_values, false_values, skiprows, nrows, na_values, keep_default_na, verbose, parse_dates, date_parser, thousands, comment, skipfooter, convert_float, mangle_dupe_cols, **kwds)\u001b[0m\n\u001b[0;32m    302\u001b[0m \u001b[1;33m\u001b[0m\u001b[0m\n\u001b[0;32m    303\u001b[0m     \u001b[1;32mif\u001b[0m \u001b[1;32mnot\u001b[0m \u001b[0misinstance\u001b[0m\u001b[1;33m(\u001b[0m\u001b[0mio\u001b[0m\u001b[1;33m,\u001b[0m \u001b[0mExcelFile\u001b[0m\u001b[1;33m)\u001b[0m\u001b[1;33m:\u001b[0m\u001b[1;33m\u001b[0m\u001b[1;33m\u001b[0m\u001b[0m\n\u001b[1;32m--> 304\u001b[1;33m         \u001b[0mio\u001b[0m \u001b[1;33m=\u001b[0m \u001b[0mExcelFile\u001b[0m\u001b[1;33m(\u001b[0m\u001b[0mio\u001b[0m\u001b[1;33m,\u001b[0m \u001b[0mengine\u001b[0m\u001b[1;33m=\u001b[0m\u001b[0mengine\u001b[0m\u001b[1;33m)\u001b[0m\u001b[1;33m\u001b[0m\u001b[1;33m\u001b[0m\u001b[0m\n\u001b[0m\u001b[0;32m    305\u001b[0m     \u001b[1;32melif\u001b[0m \u001b[0mengine\u001b[0m \u001b[1;32mand\u001b[0m \u001b[0mengine\u001b[0m \u001b[1;33m!=\u001b[0m \u001b[0mio\u001b[0m\u001b[1;33m.\u001b[0m\u001b[0mengine\u001b[0m\u001b[1;33m:\u001b[0m\u001b[1;33m\u001b[0m\u001b[1;33m\u001b[0m\u001b[0m\n\u001b[0;32m    306\u001b[0m         raise ValueError(\n",
      "\u001b[1;32mc:\\users\\fsc.reports1\\appdata\\local\\programs\\python\\python37\\lib\\site-packages\\pandas\\io\\excel\\_base.py\u001b[0m in \u001b[0;36m__init__\u001b[1;34m(self, io, engine)\u001b[0m\n\u001b[0;32m    822\u001b[0m         \u001b[0mself\u001b[0m\u001b[1;33m.\u001b[0m\u001b[0m_io\u001b[0m \u001b[1;33m=\u001b[0m \u001b[0mstringify_path\u001b[0m\u001b[1;33m(\u001b[0m\u001b[0mio\u001b[0m\u001b[1;33m)\u001b[0m\u001b[1;33m\u001b[0m\u001b[1;33m\u001b[0m\u001b[0m\n\u001b[0;32m    823\u001b[0m \u001b[1;33m\u001b[0m\u001b[0m\n\u001b[1;32m--> 824\u001b[1;33m         \u001b[0mself\u001b[0m\u001b[1;33m.\u001b[0m\u001b[0m_reader\u001b[0m \u001b[1;33m=\u001b[0m \u001b[0mself\u001b[0m\u001b[1;33m.\u001b[0m\u001b[0m_engines\u001b[0m\u001b[1;33m[\u001b[0m\u001b[0mengine\u001b[0m\u001b[1;33m]\u001b[0m\u001b[1;33m(\u001b[0m\u001b[0mself\u001b[0m\u001b[1;33m.\u001b[0m\u001b[0m_io\u001b[0m\u001b[1;33m)\u001b[0m\u001b[1;33m\u001b[0m\u001b[1;33m\u001b[0m\u001b[0m\n\u001b[0m\u001b[0;32m    825\u001b[0m \u001b[1;33m\u001b[0m\u001b[0m\n\u001b[0;32m    826\u001b[0m     \u001b[1;32mdef\u001b[0m \u001b[0m__fspath__\u001b[0m\u001b[1;33m(\u001b[0m\u001b[0mself\u001b[0m\u001b[1;33m)\u001b[0m\u001b[1;33m:\u001b[0m\u001b[1;33m\u001b[0m\u001b[1;33m\u001b[0m\u001b[0m\n",
      "\u001b[1;32mc:\\users\\fsc.reports1\\appdata\\local\\programs\\python\\python37\\lib\\site-packages\\pandas\\io\\excel\\_xlrd.py\u001b[0m in \u001b[0;36m__init__\u001b[1;34m(self, filepath_or_buffer)\u001b[0m\n\u001b[0;32m     19\u001b[0m         \u001b[0merr_msg\u001b[0m \u001b[1;33m=\u001b[0m \u001b[1;34m\"Install xlrd >= 1.0.0 for Excel support\"\u001b[0m\u001b[1;33m\u001b[0m\u001b[1;33m\u001b[0m\u001b[0m\n\u001b[0;32m     20\u001b[0m         \u001b[0mimport_optional_dependency\u001b[0m\u001b[1;33m(\u001b[0m\u001b[1;34m\"xlrd\"\u001b[0m\u001b[1;33m,\u001b[0m \u001b[0mextra\u001b[0m\u001b[1;33m=\u001b[0m\u001b[0merr_msg\u001b[0m\u001b[1;33m)\u001b[0m\u001b[1;33m\u001b[0m\u001b[1;33m\u001b[0m\u001b[0m\n\u001b[1;32m---> 21\u001b[1;33m         \u001b[0msuper\u001b[0m\u001b[1;33m(\u001b[0m\u001b[1;33m)\u001b[0m\u001b[1;33m.\u001b[0m\u001b[0m__init__\u001b[0m\u001b[1;33m(\u001b[0m\u001b[0mfilepath_or_buffer\u001b[0m\u001b[1;33m)\u001b[0m\u001b[1;33m\u001b[0m\u001b[1;33m\u001b[0m\u001b[0m\n\u001b[0m\u001b[0;32m     22\u001b[0m \u001b[1;33m\u001b[0m\u001b[0m\n\u001b[0;32m     23\u001b[0m     \u001b[1;33m@\u001b[0m\u001b[0mproperty\u001b[0m\u001b[1;33m\u001b[0m\u001b[1;33m\u001b[0m\u001b[0m\n",
      "\u001b[1;32mc:\\users\\fsc.reports1\\appdata\\local\\programs\\python\\python37\\lib\\site-packages\\pandas\\io\\excel\\_base.py\u001b[0m in \u001b[0;36m__init__\u001b[1;34m(self, filepath_or_buffer)\u001b[0m\n\u001b[0;32m    351\u001b[0m             \u001b[0mself\u001b[0m\u001b[1;33m.\u001b[0m\u001b[0mbook\u001b[0m \u001b[1;33m=\u001b[0m \u001b[0mself\u001b[0m\u001b[1;33m.\u001b[0m\u001b[0mload_workbook\u001b[0m\u001b[1;33m(\u001b[0m\u001b[0mfilepath_or_buffer\u001b[0m\u001b[1;33m)\u001b[0m\u001b[1;33m\u001b[0m\u001b[1;33m\u001b[0m\u001b[0m\n\u001b[0;32m    352\u001b[0m         \u001b[1;32melif\u001b[0m \u001b[0misinstance\u001b[0m\u001b[1;33m(\u001b[0m\u001b[0mfilepath_or_buffer\u001b[0m\u001b[1;33m,\u001b[0m \u001b[0mstr\u001b[0m\u001b[1;33m)\u001b[0m\u001b[1;33m:\u001b[0m\u001b[1;33m\u001b[0m\u001b[1;33m\u001b[0m\u001b[0m\n\u001b[1;32m--> 353\u001b[1;33m             \u001b[0mself\u001b[0m\u001b[1;33m.\u001b[0m\u001b[0mbook\u001b[0m \u001b[1;33m=\u001b[0m \u001b[0mself\u001b[0m\u001b[1;33m.\u001b[0m\u001b[0mload_workbook\u001b[0m\u001b[1;33m(\u001b[0m\u001b[0mfilepath_or_buffer\u001b[0m\u001b[1;33m)\u001b[0m\u001b[1;33m\u001b[0m\u001b[1;33m\u001b[0m\u001b[0m\n\u001b[0m\u001b[0;32m    354\u001b[0m         \u001b[1;32melif\u001b[0m \u001b[0misinstance\u001b[0m\u001b[1;33m(\u001b[0m\u001b[0mfilepath_or_buffer\u001b[0m\u001b[1;33m,\u001b[0m \u001b[0mbytes\u001b[0m\u001b[1;33m)\u001b[0m\u001b[1;33m:\u001b[0m\u001b[1;33m\u001b[0m\u001b[1;33m\u001b[0m\u001b[0m\n\u001b[0;32m    355\u001b[0m             \u001b[0mself\u001b[0m\u001b[1;33m.\u001b[0m\u001b[0mbook\u001b[0m \u001b[1;33m=\u001b[0m \u001b[0mself\u001b[0m\u001b[1;33m.\u001b[0m\u001b[0mload_workbook\u001b[0m\u001b[1;33m(\u001b[0m\u001b[0mBytesIO\u001b[0m\u001b[1;33m(\u001b[0m\u001b[0mfilepath_or_buffer\u001b[0m\u001b[1;33m)\u001b[0m\u001b[1;33m)\u001b[0m\u001b[1;33m\u001b[0m\u001b[1;33m\u001b[0m\u001b[0m\n",
      "\u001b[1;32mc:\\users\\fsc.reports1\\appdata\\local\\programs\\python\\python37\\lib\\site-packages\\pandas\\io\\excel\\_xlrd.py\u001b[0m in \u001b[0;36mload_workbook\u001b[1;34m(self, filepath_or_buffer)\u001b[0m\n\u001b[0;32m     34\u001b[0m             \u001b[1;32mreturn\u001b[0m \u001b[0mopen_workbook\u001b[0m\u001b[1;33m(\u001b[0m\u001b[0mfile_contents\u001b[0m\u001b[1;33m=\u001b[0m\u001b[0mdata\u001b[0m\u001b[1;33m)\u001b[0m\u001b[1;33m\u001b[0m\u001b[1;33m\u001b[0m\u001b[0m\n\u001b[0;32m     35\u001b[0m         \u001b[1;32melse\u001b[0m\u001b[1;33m:\u001b[0m\u001b[1;33m\u001b[0m\u001b[1;33m\u001b[0m\u001b[0m\n\u001b[1;32m---> 36\u001b[1;33m             \u001b[1;32mreturn\u001b[0m \u001b[0mopen_workbook\u001b[0m\u001b[1;33m(\u001b[0m\u001b[0mfilepath_or_buffer\u001b[0m\u001b[1;33m)\u001b[0m\u001b[1;33m\u001b[0m\u001b[1;33m\u001b[0m\u001b[0m\n\u001b[0m\u001b[0;32m     37\u001b[0m \u001b[1;33m\u001b[0m\u001b[0m\n\u001b[0;32m     38\u001b[0m     \u001b[1;33m@\u001b[0m\u001b[0mproperty\u001b[0m\u001b[1;33m\u001b[0m\u001b[1;33m\u001b[0m\u001b[0m\n",
      "\u001b[1;32mc:\\users\\fsc.reports1\\appdata\\local\\programs\\python\\python37\\lib\\site-packages\\xlrd\\__init__.py\u001b[0m in \u001b[0;36mopen_workbook\u001b[1;34m(filename, logfile, verbosity, use_mmap, file_contents, encoding_override, formatting_info, on_demand, ragged_rows)\u001b[0m\n\u001b[0;32m    109\u001b[0m     \u001b[1;32melse\u001b[0m\u001b[1;33m:\u001b[0m\u001b[1;33m\u001b[0m\u001b[1;33m\u001b[0m\u001b[0m\n\u001b[0;32m    110\u001b[0m         \u001b[0mfilename\u001b[0m \u001b[1;33m=\u001b[0m \u001b[0mos\u001b[0m\u001b[1;33m.\u001b[0m\u001b[0mpath\u001b[0m\u001b[1;33m.\u001b[0m\u001b[0mexpanduser\u001b[0m\u001b[1;33m(\u001b[0m\u001b[0mfilename\u001b[0m\u001b[1;33m)\u001b[0m\u001b[1;33m\u001b[0m\u001b[1;33m\u001b[0m\u001b[0m\n\u001b[1;32m--> 111\u001b[1;33m         \u001b[1;32mwith\u001b[0m \u001b[0mopen\u001b[0m\u001b[1;33m(\u001b[0m\u001b[0mfilename\u001b[0m\u001b[1;33m,\u001b[0m \u001b[1;34m\"rb\"\u001b[0m\u001b[1;33m)\u001b[0m \u001b[1;32mas\u001b[0m \u001b[0mf\u001b[0m\u001b[1;33m:\u001b[0m\u001b[1;33m\u001b[0m\u001b[1;33m\u001b[0m\u001b[0m\n\u001b[0m\u001b[0;32m    112\u001b[0m             \u001b[0mpeek\u001b[0m \u001b[1;33m=\u001b[0m \u001b[0mf\u001b[0m\u001b[1;33m.\u001b[0m\u001b[0mread\u001b[0m\u001b[1;33m(\u001b[0m\u001b[0mpeeksz\u001b[0m\u001b[1;33m)\u001b[0m\u001b[1;33m\u001b[0m\u001b[1;33m\u001b[0m\u001b[0m\n\u001b[0;32m    113\u001b[0m     \u001b[1;32mif\u001b[0m \u001b[0mpeek\u001b[0m \u001b[1;33m==\u001b[0m \u001b[1;34mb\"PK\\x03\\x04\"\u001b[0m\u001b[1;33m:\u001b[0m \u001b[1;31m# a ZIP file\u001b[0m\u001b[1;33m\u001b[0m\u001b[1;33m\u001b[0m\u001b[0m\n",
      "\u001b[1;31mFileNotFoundError\u001b[0m: [Errno 2] No such file or directory: 'CommnetsOnStock.xlsx'"
     ]
    }
   ],
   "source": [
    "remarks=pd.read_excel('CommnetsOnStock.xlsx', sheet_name='Master Sheet')"
   ]
  },
  {
   "cell_type": "code",
   "execution_count": null,
   "metadata": {},
   "outputs": [],
   "source": [
    "remarks.columns"
   ]
  },
  {
   "cell_type": "code",
   "execution_count": null,
   "metadata": {},
   "outputs": [],
   "source": [
    "remarks.rename(columns={'Allocated_Stock_Stock_Before_Specific_Month' :'Allocated_Stock_Stock_Before_Specific_Month',\n",
    "                       'Mkt Comments  Old' :'Liquidation Month',\n",
    "                       'Segment1' : 'Segment'}, inplace=True)"
   ]
  },
  {
   "cell_type": "code",
   "execution_count": null,
   "metadata": {},
   "outputs": [],
   "source": [
    "#list(remarks)"
   ]
  },
  {
   "cell_type": "code",
   "execution_count": null,
   "metadata": {},
   "outputs": [],
   "source": [
    "#print(error)"
   ]
  },
  {
   "cell_type": "code",
   "execution_count": null,
   "metadata": {},
   "outputs": [],
   "source": [
    "OctRemarks=remarks[['Report Day',\n",
    "                    'DocNo',\n",
    "                    'LineNo',\n",
    "                    'OrderType1',\n",
    "                    'Standard  Article',\n",
    "                    'Liquidation Month',\n",
    "                    'Segment',\n",
    "                    'Allocated_Stock_Stock_Before_Specific_Month']][remarks['Allocated_Stock_Stock_Before_Specific_Month']>0]"
   ]
  },
  {
   "cell_type": "code",
   "execution_count": null,
   "metadata": {},
   "outputs": [],
   "source": [
    "OctRemarks"
   ]
  },
  {
   "cell_type": "code",
   "execution_count": null,
   "metadata": {},
   "outputs": [],
   "source": [
    "OctRemarks.groupby('Report Day')['Allocated_Stock_Stock_Before_Specific_Month'].sum()"
   ]
  },
  {
   "cell_type": "code",
   "execution_count": null,
   "metadata": {},
   "outputs": [],
   "source": [
    "OctRemarks_base=OctRemarks"
   ]
  },
  {
   "cell_type": "code",
   "execution_count": null,
   "metadata": {},
   "outputs": [],
   "source": [
    "OctRemarks.columns = 'PreviousFile_' +OctRemarks.columns"
   ]
  },
  {
   "cell_type": "code",
   "execution_count": null,
   "metadata": {},
   "outputs": [],
   "source": [
    "OctRemarks['PreviousFile_DocNo']=np.where(OctRemarks['PreviousFile_DocNo'].fillna('NA').str.len()==12,\"BL\"+OctRemarks['PreviousFile_DocNo'].str[:3]+ '_'+OctRemarks['PreviousFile_DocNo'],\n",
    "         OctRemarks['PreviousFile_DocNo'])"
   ]
  },
  {
   "cell_type": "code",
   "execution_count": null,
   "metadata": {},
   "outputs": [],
   "source": [
    "OctRemarks['PreviousFile_DocNo'][OctRemarks['PreviousFile_DocNo'].fillna('NA').str.len()<18].drop_duplicates()"
   ]
  },
  {
   "cell_type": "code",
   "execution_count": null,
   "metadata": {},
   "outputs": [],
   "source": [
    "OctRemarks['UID_Remarks']=OctRemarks['PreviousFile_DocNo'].fillna('0') +\"/\"+ OctRemarks['PreviousFile_LineNo'].fillna(0).astype(int).astype(str)"
   ]
  },
  {
   "cell_type": "code",
   "execution_count": null,
   "metadata": {},
   "outputs": [],
   "source": [
    "#OctRemarks['UID_Remarks']"
   ]
  },
  {
   "cell_type": "code",
   "execution_count": null,
   "metadata": {},
   "outputs": [],
   "source": [
    "#Final_Data_Sorted3.head(2)"
   ]
  },
  {
   "cell_type": "code",
   "execution_count": null,
   "metadata": {},
   "outputs": [],
   "source": [
    "Final_Data_Sorted3['DocNo']=np.where(Final_Data_Sorted3['DocNo'].fillna('NA').str.len()==12,\"BL\"+Final_Data_Sorted3['DocNo'].str[:3]+ '_'+Final_Data_Sorted3['DocNo'],\n",
    "         Final_Data_Sorted3['DocNo'])"
   ]
  },
  {
   "cell_type": "code",
   "execution_count": null,
   "metadata": {},
   "outputs": [],
   "source": [
    "Final_Data_Sorted3['DocNo'][Final_Data_Sorted3['DocNo'].fillna('NA').str.len()<18].drop_duplicates()"
   ]
  },
  {
   "cell_type": "code",
   "execution_count": null,
   "metadata": {},
   "outputs": [],
   "source": [
    "OctRemarks=OctRemarks[OctRemarks['UID_Remarks'].str.len()>5]"
   ]
  },
  {
   "cell_type": "code",
   "execution_count": null,
   "metadata": {},
   "outputs": [],
   "source": [
    "OctRemarks.shape"
   ]
  },
  {
   "cell_type": "code",
   "execution_count": null,
   "metadata": {},
   "outputs": [],
   "source": [
    "OctRemarks=OctRemarks.sort_values(['PreviousFile_Report Day','UID_Remarks'],ascending=False)"
   ]
  },
  {
   "cell_type": "code",
   "execution_count": null,
   "metadata": {},
   "outputs": [],
   "source": [
    "OctRemarks.drop_duplicates(subset='UID_Remarks', inplace=True, keep = 'first')"
   ]
  },
  {
   "cell_type": "code",
   "execution_count": null,
   "metadata": {},
   "outputs": [],
   "source": [
    "#OctRemarks"
   ]
  },
  {
   "cell_type": "code",
   "execution_count": null,
   "metadata": {},
   "outputs": [],
   "source": [
    "Final_Data_Sorted3['UID_Remarks']=Final_Data_Sorted3['DocNo'].fillna('0') +\"/\"+ Final_Data_Sorted3['LineNo'].fillna(0).astype(int).astype(str)"
   ]
  },
  {
   "cell_type": "code",
   "execution_count": null,
   "metadata": {},
   "outputs": [],
   "source": [
    "Final_Data_Sorted77=pd.merge(Final_Data_Sorted3,OctRemarks, on = 'UID_Remarks', how = 'left')"
   ]
  },
  {
   "cell_type": "code",
   "execution_count": null,
   "metadata": {},
   "outputs": [],
   "source": [
    "Final_Data_Sorted77['PreviousFile_Allocated_Stock_Stock_Before_Specific_Month']\n",
    "Final_Data_Sorted77[['Allocated_Stock_Stock_Before_Oct','PreviousFile_Allocated_Stock_Stock_Before_Specific_Month']].sum()/100000"
   ]
  },
  {
   "cell_type": "code",
   "execution_count": null,
   "metadata": {},
   "outputs": [],
   "source": [
    "Final_Data_Sorted77.to_excel('Final_Data77.xlsx',sheet_name='maindata')"
   ]
  },
  {
   "cell_type": "code",
   "execution_count": null,
   "metadata": {},
   "outputs": [],
   "source": [
    "OctRemarksSplit = OctRemarks"
   ]
  },
  {
   "cell_type": "code",
   "execution_count": null,
   "metadata": {},
   "outputs": [],
   "source": [
    "OctRemarksSplit.columns = OctRemarksSplit.columns +\"_Split\"\n"
   ]
  },
  {
   "cell_type": "code",
   "execution_count": null,
   "metadata": {},
   "outputs": [],
   "source": [
    "tuple_id=tuple(Final_Data_Sorted77['DocNo'].fillna('NA').drop_duplicates())"
   ]
  },
  {
   "cell_type": "code",
   "execution_count": null,
   "metadata": {},
   "outputs": [],
   "source": [
    "Final_Data_Sorted77['Allocated_Stock'].sum()"
   ]
  },
  {
   "cell_type": "code",
   "execution_count": null,
   "metadata": {},
   "outputs": [],
   "source": [
    "Org_Order=pd.read_sql(f'''\n",
    "Select doc_no,\n",
    "line_no,\n",
    "cust_itemref_no,\n",
    "curr_edod,\n",
    "app_remark\n",
    "from TRNREQQ where doc_no in {tuple_id}''',engine)"
   ]
  },
  {
   "cell_type": "code",
   "execution_count": null,
   "metadata": {},
   "outputs": [],
   "source": [
    "Org_Order['Order Type']=np.where(Org_Order['cust_itemref_no'].isna(),'Direct','Dervied')"
   ]
  },
  {
   "cell_type": "code",
   "execution_count": null,
   "metadata": {},
   "outputs": [],
   "source": [
    "Org_Order['Order Line Type']=np.where(Org_Order['app_remark']=='0','New','Split')"
   ]
  },
  {
   "cell_type": "code",
   "execution_count": null,
   "metadata": {},
   "outputs": [],
   "source": [
    "Org_Order['Org_Order_line'] = np.where(Org_Order['Order Type']=='Direct', \n",
    "                                       np.where(Org_Order['Order Line Type']=='New',\n",
    "                                                Org_Order['doc_no'] +\"/\" +Org_Order['line_no'],\n",
    "                                                Org_Order['doc_no'] +\"/\" +Org_Order['app_remark']),\n",
    "                                       \"BL\" + Org_Order['cust_itemref_no'])"
   ]
  },
  {
   "cell_type": "code",
   "execution_count": null,
   "metadata": {},
   "outputs": [],
   "source": [
    "Final_Data_Sorted77.shape"
   ]
  },
  {
   "cell_type": "code",
   "execution_count": null,
   "metadata": {},
   "outputs": [],
   "source": [
    "Org_Order.rename(columns={'doc_no':'DocNo',\n",
    "                         'line_no':'LineNo',\n",
    "                         'curr_edod':'Org_Order_Line_Creation_Date'}, inplace=True)"
   ]
  },
  {
   "cell_type": "code",
   "execution_count": null,
   "metadata": {},
   "outputs": [],
   "source": [
    "Org_Order['LineNo']=Org_Order['LineNo'].astype(str)"
   ]
  },
  {
   "cell_type": "code",
   "execution_count": null,
   "metadata": {},
   "outputs": [],
   "source": [
    "Final_Data_Sorted77['LineNo']=Final_Data_Sorted77['LineNo'].fillna(0).astype(int).astype(str)"
   ]
  },
  {
   "cell_type": "code",
   "execution_count": null,
   "metadata": {},
   "outputs": [],
   "source": [
    "Final_Data_Sorted77=pd.merge(Final_Data_Sorted77, Org_Order, on =['DocNo','LineNo'], how = 'left' )"
   ]
  },
  {
   "cell_type": "code",
   "execution_count": null,
   "metadata": {},
   "outputs": [],
   "source": [
    "#list(Final_Data_Sorted77)"
   ]
  },
  {
   "cell_type": "code",
   "execution_count": null,
   "metadata": {},
   "outputs": [],
   "source": [
    "OctRemarksSplit=OctRemarksSplit.sort_values(['PreviousFile_Report Day_Split','UID_Remarks_Split'], ascending=False)"
   ]
  },
  {
   "cell_type": "code",
   "execution_count": null,
   "metadata": {},
   "outputs": [],
   "source": [
    "OctRemarksSplit.drop_duplicates(subset='UID_Remarks_Split', inplace=True, keep = 'first')"
   ]
  },
  {
   "cell_type": "code",
   "execution_count": null,
   "metadata": {},
   "outputs": [],
   "source": [
    "Final_Data_Sorted77=pd.merge(Final_Data_Sorted77, OctRemarksSplit, left_on='Org_Order_line',right_on='UID_Remarks_Split', how ='left')"
   ]
  },
  {
   "cell_type": "code",
   "execution_count": null,
   "metadata": {},
   "outputs": [],
   "source": [
    "#list(Final_Data_Sorted77)"
   ]
  },
  {
   "cell_type": "code",
   "execution_count": null,
   "metadata": {},
   "outputs": [],
   "source": [
    "Final_Data_Sorted77['PreviousFile_Revised Month Final']=np.where(Final_Data_Sorted77['PreviousFile_Liquidation Month'].isna(),\n",
    "         Final_Data_Sorted77['PreviousFile_Liquidation Month_Split'],\n",
    "         Final_Data_Sorted77['PreviousFile_Liquidation Month'])"
   ]
  },
  {
   "cell_type": "code",
   "execution_count": null,
   "metadata": {},
   "outputs": [],
   "source": [
    "OctRemarks.head()"
   ]
  },
  {
   "cell_type": "code",
   "execution_count": null,
   "metadata": {},
   "outputs": [],
   "source": [
    "OctRemarks.shape"
   ]
  },
  {
   "cell_type": "code",
   "execution_count": null,
   "metadata": {},
   "outputs": [],
   "source": [
    "OctRemarks_Orderwise=pd.pivot_table(OctRemarks, index = ['PreviousFile_DocNo_Split','PreviousFile_Liquidation Month_Split'], values = 'PreviousFile_Allocated_Stock_Stock_Before_Specific_Month_Split',\n",
    "              aggfunc=sum).reset_index()"
   ]
  },
  {
   "cell_type": "code",
   "execution_count": null,
   "metadata": {},
   "outputs": [],
   "source": [
    "# OctRemarks_Orderwise=pd.pivot_table(OctRemarks, index = ['PreviousFile_DocNo_Split','PreviousFile_Revised Month 3 Feb-21_Split'], values = 'PreviousFile_Allocated_Stock_Stock_Before_Oct_Split',\n",
    "#               aggfunc=sum).reset_index()"
   ]
  },
  {
   "cell_type": "code",
   "execution_count": null,
   "metadata": {},
   "outputs": [],
   "source": [
    "#OctRemarks_Orderwise"
   ]
  },
  {
   "cell_type": "code",
   "execution_count": null,
   "metadata": {},
   "outputs": [],
   "source": [
    "OctRemarks_Orderwise.columns = 'OrderWise_'+ OctRemarks_Orderwise.columns"
   ]
  },
  {
   "cell_type": "code",
   "execution_count": null,
   "metadata": {},
   "outputs": [],
   "source": [
    "#OctRemarks_Orderwise"
   ]
  },
  {
   "cell_type": "code",
   "execution_count": null,
   "metadata": {},
   "outputs": [],
   "source": [
    "Final_Data_Sorted77['UID_Order']=Final_Data_Sorted77['UID_Remarks'].str[0:18]"
   ]
  },
  {
   "cell_type": "code",
   "execution_count": null,
   "metadata": {},
   "outputs": [],
   "source": [
    "Final_Data_Sorted77['UID_Org_Order']=Final_Data_Sorted77['Org_Order_line'].str[0:18]"
   ]
  },
  {
   "cell_type": "code",
   "execution_count": null,
   "metadata": {},
   "outputs": [],
   "source": [
    "#Final_Data_Sorted77[['UID_Order','UID_Org_Order']]"
   ]
  },
  {
   "cell_type": "code",
   "execution_count": null,
   "metadata": {},
   "outputs": [],
   "source": [
    "OctRemarks_Orderwise.shape"
   ]
  },
  {
   "cell_type": "code",
   "execution_count": null,
   "metadata": {},
   "outputs": [],
   "source": [
    "OctRemarks_Orderwise.head(2)"
   ]
  },
  {
   "cell_type": "code",
   "execution_count": null,
   "metadata": {},
   "outputs": [],
   "source": [
    "OctRemarks_Orderwise.drop_duplicates(subset=['OrderWise_PreviousFile_DocNo_Split'],inplace=True)"
   ]
  },
  {
   "cell_type": "code",
   "execution_count": null,
   "metadata": {},
   "outputs": [],
   "source": [
    "OctRemarks_Orderwise.head()"
   ]
  },
  {
   "cell_type": "code",
   "execution_count": null,
   "metadata": {},
   "outputs": [],
   "source": [
    "Final_Data_Sorted77.shape"
   ]
  },
  {
   "cell_type": "code",
   "execution_count": null,
   "metadata": {},
   "outputs": [],
   "source": [
    "Final_Data_Sorted77=pd.merge(Final_Data_Sorted77,OctRemarks_Orderwise, left_on=['UID_Order'],\n",
    "        right_on=['OrderWise_PreviousFile_DocNo_Split'], how = 'left')"
   ]
  },
  {
   "cell_type": "code",
   "execution_count": null,
   "metadata": {},
   "outputs": [],
   "source": [
    "OctRemarks_Orderwise.columns = 'ORG_'+OctRemarks_Orderwise.columns"
   ]
  },
  {
   "cell_type": "code",
   "execution_count": null,
   "metadata": {},
   "outputs": [],
   "source": [
    "Final_Data_Sorted77=pd.merge(Final_Data_Sorted77,OctRemarks_Orderwise, left_on=['UID_Org_Order'],\n",
    "        right_on=['ORG_OrderWise_PreviousFile_DocNo_Split'], how = 'left')"
   ]
  },
  {
   "cell_type": "code",
   "execution_count": null,
   "metadata": {},
   "outputs": [],
   "source": []
  },
  {
   "cell_type": "code",
   "execution_count": null,
   "metadata": {},
   "outputs": [],
   "source": [
    "Final_Data_Sorted77['PreviousFile_Revised Month Final2']=np.where(Final_Data_Sorted77['PreviousFile_Revised Month Final'].isna(),\n",
    "         np.where(Final_Data_Sorted77['OrderWise_PreviousFile_Liquidation Month_Split'].isna(),\n",
    "                 np.where(Final_Data_Sorted77['ORG_OrderWise_PreviousFile_Liquidation Month_Split'].isna(),\n",
    "                         np.nan,\n",
    "                          Final_Data_Sorted77['ORG_OrderWise_PreviousFile_Liquidation Month_Split']),\n",
    "                  Final_Data_Sorted77['OrderWise_PreviousFile_Liquidation Month_Split']),\n",
    "         Final_Data_Sorted77['PreviousFile_Liquidation Month'])"
   ]
  },
  {
   "cell_type": "code",
   "execution_count": null,
   "metadata": {},
   "outputs": [],
   "source": [
    "#list(Final_Data_Sorted77)"
   ]
  },
  {
   "cell_type": "code",
   "execution_count": null,
   "metadata": {},
   "outputs": [],
   "source": [
    "Final_Data_Sorted77.to_excel('Final_Data77_Oct.xlsx')"
   ]
  },
  {
   "cell_type": "code",
   "execution_count": null,
   "metadata": {},
   "outputs": [],
   "source": [
    "TodaysAllocation=Final_Data_Sorted77[Final_Data_Sorted77['Allocated_Stock_Stock_Before_Oct']>0]"
   ]
  },
  {
   "cell_type": "code",
   "execution_count": null,
   "metadata": {},
   "outputs": [],
   "source": [
    "TodaysAllocation['Allocated_Stock_Stock_Before_Oct'].sum()"
   ]
  },
  {
   "cell_type": "code",
   "execution_count": null,
   "metadata": {},
   "outputs": [],
   "source": [
    "OctRemarks_base.head(2)"
   ]
  },
  {
   "cell_type": "code",
   "execution_count": null,
   "metadata": {},
   "outputs": [],
   "source": []
  },
  {
   "cell_type": "code",
   "execution_count": null,
   "metadata": {},
   "outputs": [],
   "source": [
    "OctRemarks_base.rename(columns={\n",
    "    'PreviousFile_DocNo' :'DocNo',\n",
    "    'PreviousFile_LineNo':'LineNo',\n",
    "    'PreviousFile_Segment':'Segment',\n",
    "    'PreviousFile_OrderType1':'OrderType',\n",
    "    'PreviousFile_Standard  Article' :'Standard  Article',\n",
    "    'PreviousFile_Liquidation Month' : 'PreviousFile_Revised Month Final2',\n",
    "    'PreviousFile_Allocated_Stock_Stock_Before_Specific_Month' :'Allocated_Stock_Stock_Before_Oct'\n",
    "}, inplace=True)"
   ]
  },
  {
   "cell_type": "code",
   "execution_count": null,
   "metadata": {},
   "outputs": [],
   "source": [
    "OctRemarks_base"
   ]
  },
  {
   "cell_type": "code",
   "execution_count": null,
   "metadata": {},
   "outputs": [],
   "source": [
    "OctRemarks_base['Report Day'] = pd.to_datetime('2021-Aug-02')"
   ]
  },
  {
   "cell_type": "code",
   "execution_count": null,
   "metadata": {},
   "outputs": [],
   "source": [
    "OctRemarks_base['OrderType'].drop_duplicates()"
   ]
  },
  {
   "cell_type": "code",
   "execution_count": null,
   "metadata": {},
   "outputs": [],
   "source": [
    "TodaysAllocation['OrderType']=np.where(TodaysAllocation['OrderType'].str.contains('Cancel',case =False),'Cancel',\n",
    "                               np.where(TodaysAllocation['OrderType'].str.contains('Hold',case =False),'Hold',\n",
    "                               np.where(TodaysAllocation['OrderType'].str.contains('Non Allocated',case =False),'Non Allocated',\n",
    "                                       'Release')))\n",
    "TodaysAllocation['OrderType'].drop_duplicates()"
   ]
  },
  {
   "cell_type": "code",
   "execution_count": null,
   "metadata": {},
   "outputs": [],
   "source": [
    "TodaysAllocation.head(2)"
   ]
  },
  {
   "cell_type": "code",
   "execution_count": null,
   "metadata": {},
   "outputs": [],
   "source": [
    "OctRemarks_base"
   ]
  },
  {
   "cell_type": "code",
   "execution_count": null,
   "metadata": {},
   "outputs": [],
   "source": [
    "OctRemarks_base.groupby('PreviousFile_Report Day')['Allocated_Stock_Stock_Before_Oct'].sum()"
   ]
  },
  {
   "cell_type": "code",
   "execution_count": null,
   "metadata": {},
   "outputs": [],
   "source": [
    "OctRemarks_base=OctRemarks_base[OctRemarks_base['PreviousFile_Report Day']=='02 Aug 21']"
   ]
  },
  {
   "cell_type": "code",
   "execution_count": null,
   "metadata": {},
   "outputs": [],
   "source": [
    "TodaysAllocation=TodaysAllocation.append(OctRemarks_base)"
   ]
  },
  {
   "cell_type": "code",
   "execution_count": null,
   "metadata": {},
   "outputs": [],
   "source": [
    "#OctRemarks_base"
   ]
  },
  {
   "cell_type": "code",
   "execution_count": null,
   "metadata": {},
   "outputs": [],
   "source": [
    "TodaysAllocation.rename(columns={'Allocated_Stock_Stock_Before_Oct':'Allocated_Stock_Stock_Before_Specific_Month'}, inplace = True)\n",
    "\n",
    "TodaysAllocation.to_excel('D:/jsdxi/python/Cancel Orders Feb 2021/Further/TodaysAllocation.xlsx')"
   ]
  },
  {
   "cell_type": "code",
   "execution_count": null,
   "metadata": {},
   "outputs": [],
   "source": [
    "pd.pivot_table(Final_Data_Sorted3, index = ['Rank','OrderType'],\n",
    "               values='Allocated_Stock', \n",
    "               aggfunc=lambda x : sum(x/100000) ,\n",
    "               margins=True, margins_name='Grand Total')"
   ]
  },
  {
   "cell_type": "code",
   "execution_count": null,
   "metadata": {},
   "outputs": [],
   "source": [
    "sum(current_stock['Grey Stock']/100000)"
   ]
  },
  {
   "cell_type": "code",
   "execution_count": null,
   "metadata": {},
   "outputs": [],
   "source": [
    "sum(current_stock['Rejected Stock']/100000)"
   ]
  },
  {
   "cell_type": "code",
   "execution_count": null,
   "metadata": {},
   "outputs": [],
   "source": [
    "Final_Data_Sorted3['Cum_Sum_OrderType']=Final_Data_Sorted3.fillna('NA').groupby(['Weaving Plant','Standard  Article','OrderType'])['Allocated_Stock'].cumsum()"
   ]
  },
  {
   "cell_type": "code",
   "execution_count": null,
   "metadata": {},
   "outputs": [],
   "source": [
    "Final_Data_Sorted3['Cancelled_but_not_Q8']=np.where(((Final_Data_Sorted3['OrderType']=='Cancel') & (Final_Data_Sorted3['Cum_Sum_OrderType']>Final_Data_Sorted3['Q8'])),\n",
    "        Final_Data_Sorted3['Cum_Sum_OrderType'] -Final_Data_Sorted3['Q8'],0)"
   ]
  },
  {
   "cell_type": "code",
   "execution_count": null,
   "metadata": {},
   "outputs": [],
   "source": [
    "Final_Data_Sorted3['Allocated_Stock_>180'] = Final_Data_Sorted3['Allocated_Stock_>180'] - Final_Data_Sorted3['Allocated_Stock_>360']"
   ]
  },
  {
   "cell_type": "code",
   "execution_count": null,
   "metadata": {},
   "outputs": [],
   "source": [
    "Final_Data_Sorted3['Allocated_Stock_>180_After_Reservation'] = Final_Data_Sorted3['Allocated_Stock_>180_After_Reservation'] - Final_Data_Sorted3['Allocated_Stock_>360_After_Reservation']"
   ]
  },
  {
   "cell_type": "code",
   "execution_count": null,
   "metadata": {},
   "outputs": [],
   "source": [
    "Final_Data_Sorted3['Allocated_Stock_>90'] = Final_Data_Sorted3['Allocated_Stock_>90']-Final_Data_Sorted3['Allocated_Stock_>180'] - Final_Data_Sorted3['Allocated_Stock_>360']"
   ]
  },
  {
   "cell_type": "code",
   "execution_count": null,
   "metadata": {},
   "outputs": [],
   "source": [
    "Final_Data_Sorted3['Allocated_Stock_>90_After_reservation'] = Final_Data_Sorted3['Allocated_Stock_>90_After_reservation']-Final_Data_Sorted3['Allocated_Stock_>180_After_Reservation'] - Final_Data_Sorted3['Allocated_Stock_>360_After_Reservation']"
   ]
  },
  {
   "cell_type": "code",
   "execution_count": null,
   "metadata": {},
   "outputs": [],
   "source": [
    "Final_Data_Sorted3['Allocated_Stock_>60'] = Final_Data_Sorted3['Allocated_Stock_>60']-Final_Data_Sorted3['Allocated_Stock_>90']-Final_Data_Sorted3['Allocated_Stock_>180'] - Final_Data_Sorted3['Allocated_Stock_>360']"
   ]
  },
  {
   "cell_type": "code",
   "execution_count": null,
   "metadata": {},
   "outputs": [],
   "source": [
    "Final_Data_Sorted3['Allocated_Stock_>60_After_Reservation'] = Final_Data_Sorted3['Allocated_Stock_>60_After_Reservation']-Final_Data_Sorted3['Allocated_Stock_>90_After_reservation']-Final_Data_Sorted3['Allocated_Stock_>180_After_Reservation'] - Final_Data_Sorted3['Allocated_Stock_>360_After_Reservation']"
   ]
  },
  {
   "cell_type": "code",
   "execution_count": null,
   "metadata": {},
   "outputs": [],
   "source": [
    "Final_Data_Sorted3['Allocated_Stock_>30'] = Final_Data_Sorted3['Allocated_Stock_>30']-Final_Data_Sorted3['Allocated_Stock_>60']-Final_Data_Sorted3['Allocated_Stock_>90']-Final_Data_Sorted3['Allocated_Stock_>180'] - Final_Data_Sorted3['Allocated_Stock_>360']"
   ]
  },
  {
   "cell_type": "code",
   "execution_count": null,
   "metadata": {},
   "outputs": [],
   "source": [
    "Final_Data_Sorted3['Allocated_Stock_>30_After_Reservation'] = Final_Data_Sorted3['Allocated_Stock_>30_After_Reservation']-Final_Data_Sorted3['Allocated_Stock_>60_After_Reservation']-Final_Data_Sorted3['Allocated_Stock_>90_After_reservation']-Final_Data_Sorted3['Allocated_Stock_>180_After_Reservation'] - Final_Data_Sorted3['Allocated_Stock_>360_After_Reservation']"
   ]
  },
  {
   "cell_type": "code",
   "execution_count": null,
   "metadata": {},
   "outputs": [],
   "source": [
    "Final_Data_Sorted3['Allocated_Stock_>0'] = Final_Data_Sorted3['Allocated_Stock_>0'] -Final_Data_Sorted3['Allocated_Stock_>30']-Final_Data_Sorted3['Allocated_Stock_>60']-Final_Data_Sorted3['Allocated_Stock_>90']-Final_Data_Sorted3['Allocated_Stock_>180'] - Final_Data_Sorted3['Allocated_Stock_>360']"
   ]
  },
  {
   "cell_type": "code",
   "execution_count": null,
   "metadata": {},
   "outputs": [],
   "source": [
    "Final_Data_Sorted3['Allocated_Stock_>0_After_Reservation'] = Final_Data_Sorted3['Allocated_Stock_>0_After_Reservation'] -Final_Data_Sorted3['Allocated_Stock_>30_After_Reservation']-Final_Data_Sorted3['Allocated_Stock_>60_After_Reservation']-Final_Data_Sorted3['Allocated_Stock_>90_After_reservation']-Final_Data_Sorted3['Allocated_Stock_>180_After_Reservation'] - Final_Data_Sorted3['Allocated_Stock_>360_After_Reservation']"
   ]
  },
  {
   "cell_type": "code",
   "execution_count": null,
   "metadata": {},
   "outputs": [],
   "source": [
    "reservation"
   ]
  },
  {
   "cell_type": "code",
   "execution_count": null,
   "metadata": {},
   "outputs": [],
   "source": [
    "Final_Data_Sorted3.columns"
   ]
  },
  {
   "cell_type": "code",
   "execution_count": null,
   "metadata": {},
   "outputs": [],
   "source": [
    "Final_Data_Sorted4 = Final_Data_Sorted3[['Liquidation Plan',\n",
    "                                         ' Liquidation Month ',\n",
    "                                         'Remark',\n",
    "                                         'Segment',\n",
    "                                         'Customer',\n",
    "                                         'DocNo',\n",
    "                                         'LineNo',\n",
    "                                         'Product_Type',\n",
    "                                         'K1',\n",
    "                                         'Grey K1',\n",
    "                                         'Standard  Article',\n",
    "                                         'Construction',\n",
    "                                         'Fabric XYZ',\n",
    "                                         'Weaving Plant',\n",
    "                                         'Actual Planning Month',\n",
    "                                         'Gry REDOD',\n",
    "                                         'Order Qty',\n",
    "                                         'Cal. Grey Reqd.',\n",
    "                                         'Previous_Allocated_stock',\n",
    "                                         'Max_Possible_Allocation',\n",
    "                                         'OrderType',\n",
    "                                         'Rank',\n",
    "                                         'Grey Stock',\n",
    "                                         'Rejected Stock',\n",
    "                                         'Total Physical Stock',\n",
    "                                         'Base File Name',\n",
    "                                         'Q8',\n",
    "                                         '0-31_Org',\n",
    "                                         '31-60_Org',\n",
    "                                         '61-90_Org',\n",
    "                                         '91-180_Org',\n",
    "                                         '181-360_Org',\n",
    "                                         '>360_Org',\n",
    "                                         'Cum_Sum',\n",
    "                                         'reservation',\n",
    "                                         'Allocated_Stock',\n",
    "                                         'Allocated_Stock_>360',\n",
    "                                         'Allocated_Stock_>180',\n",
    "                                         'Allocated_Stock_>90',\n",
    "                                         'Allocated_Stock_>60',\n",
    "                                         'Allocated_Stock_>30',\n",
    "                                         'Allocated_Stock_>0',\n",
    "                                         'Allocated_Stock_>360_After_Reservation',\n",
    "                                         'Allocated_Stock_>180_After_Reservation',\n",
    "                                         'Allocated_Stock_>90_After_reservation',\n",
    "                                         'Allocated_Stock_>60_After_Reservation',\n",
    "                                         'Allocated_Stock_>30_After_Reservation',\n",
    "                                         'Allocated_Stock_>0_After_Reservation',\n",
    "                                         'Cum_Sum_OrderType',\n",
    "                                         'Cancelled_but_not_Q8']]"
   ]
  },
  {
   "cell_type": "code",
   "execution_count": null,
   "metadata": {},
   "outputs": [],
   "source": [
    "list(Final_Data_Sorted4)"
   ]
  },
  {
   "cell_type": "code",
   "execution_count": null,
   "metadata": {},
   "outputs": [],
   "source": [
    "Final_Data_Sorted4.to_excel('Final_Data_With_Q8.xlsx',sheet_name='maindata')\n"
   ]
  },
  {
   "cell_type": "code",
   "execution_count": null,
   "metadata": {},
   "outputs": [],
   "source": [
    "Final_Data_Sorted4.to_excel('Final_Data_With_Q8_Greige_age.xlsx',sheet_name='maindata')"
   ]
  },
  {
   "cell_type": "code",
   "execution_count": null,
   "metadata": {},
   "outputs": [],
   "source": [
    "reservation"
   ]
  },
  {
   "cell_type": "code",
   "execution_count": null,
   "metadata": {},
   "outputs": [],
   "source": []
  },
  {
   "cell_type": "code",
   "execution_count": null,
   "metadata": {},
   "outputs": [],
   "source": [
    "Final_Data_Sorted3[Final_Data_Sorted3['Standard  Article']=='11600084BAOK']"
   ]
  },
  {
   "cell_type": "code",
   "execution_count": null,
   "metadata": {},
   "outputs": [],
   "source": []
  },
  {
   "cell_type": "code",
   "execution_count": null,
   "metadata": {},
   "outputs": [],
   "source": []
  },
  {
   "cell_type": "code",
   "execution_count": null,
   "metadata": {},
   "outputs": [],
   "source": [
    "searchfor = ['LYC','SPX']\n",
    "Final_Data_Sorted3['Product']=np.where(Final_Data_Sorted3['Construction'].str.upper().str.contains(\"|\".join(searchfor)).fillna(False),'Stretch','Non-Sretch')"
   ]
  },
  {
   "cell_type": "code",
   "execution_count": null,
   "metadata": {},
   "outputs": [],
   "source": [
    "CR=pd.read_sql(f\"\"\"\n",
    "Select doc_no,line_no,\n",
    "revised_dely_date_req\n",
    "from TRNREQQ \n",
    "\"\"\",engine)"
   ]
  },
  {
   "cell_type": "code",
   "execution_count": null,
   "metadata": {},
   "outputs": [],
   "source": [
    "FCR=pd.read_sql(f\"\"\"\n",
    "Select DOC_NO, Line_No,\n",
    "customer_requirement_date\n",
    "from YY001\n",
    "\"\"\",engine)"
   ]
  },
  {
   "cell_type": "code",
   "execution_count": null,
   "metadata": {},
   "outputs": [],
   "source": [
    "GFCR=pd.read_sql(f\"\"\"\n",
    "Select\n",
    "DOC_NO,LINE_NO,\n",
    "customer_requirement_date\n",
    "from TRNDB3\n",
    "\"\"\",engine)"
   ]
  },
  {
   "cell_type": "code",
   "execution_count": null,
   "metadata": {},
   "outputs": [],
   "source": [
    "CR.drop_duplicates(subset=['doc_no','line_no'], inplace=True)"
   ]
  },
  {
   "cell_type": "code",
   "execution_count": null,
   "metadata": {},
   "outputs": [],
   "source": [
    "FCR.drop_duplicates(subset=['DOC_NO','Line_No'], inplace=True)"
   ]
  },
  {
   "cell_type": "code",
   "execution_count": null,
   "metadata": {},
   "outputs": [],
   "source": [
    "GFCR.drop_duplicates(subset=['DOC_NO','LINE_NO'], inplace=True)"
   ]
  },
  {
   "cell_type": "code",
   "execution_count": null,
   "metadata": {},
   "outputs": [],
   "source": [
    "CR.rename(columns={\n",
    "    'doc_no' : 'DocNo',\n",
    "    'line_no' :'LineNo'\n",
    "    \n",
    "}, inplace=True)"
   ]
  },
  {
   "cell_type": "code",
   "execution_count": null,
   "metadata": {},
   "outputs": [],
   "source": [
    "FCR.rename(columns={\n",
    "    'DOC_NO' : 'DocNo',\n",
    "    'Line_No' :'LineNo'\n",
    "    \n",
    "}, inplace=True)"
   ]
  },
  {
   "cell_type": "code",
   "execution_count": null,
   "metadata": {},
   "outputs": [],
   "source": [
    "GFCR.rename(columns={\n",
    "    'DOC_NO' : 'DocNo',\n",
    "    'LINE_NO' :'LineNo'\n",
    "    \n",
    "}, inplace=True)"
   ]
  },
  {
   "cell_type": "code",
   "execution_count": null,
   "metadata": {},
   "outputs": [],
   "source": [
    "CR['LineNo']=CR['LineNo'].astype(int)"
   ]
  },
  {
   "cell_type": "code",
   "execution_count": null,
   "metadata": {},
   "outputs": [],
   "source": [
    "FCR['LineNo']=FCR['LineNo'].astype(int)"
   ]
  },
  {
   "cell_type": "code",
   "execution_count": null,
   "metadata": {},
   "outputs": [],
   "source": [
    "GFCR['LineNo']=GFCR['LineNo'].astype(int)"
   ]
  },
  {
   "cell_type": "code",
   "execution_count": null,
   "metadata": {},
   "outputs": [],
   "source": [
    "Final_Data_Sorted3.shape"
   ]
  },
  {
   "cell_type": "code",
   "execution_count": null,
   "metadata": {},
   "outputs": [],
   "source": [
    "Final_Data_Sorted3=pd.merge(Final_Data_Sorted3,CR, on = ['DocNo','LineNo'], how = 'left')"
   ]
  },
  {
   "cell_type": "code",
   "execution_count": null,
   "metadata": {},
   "outputs": [],
   "source": [
    "Final_Data_Sorted3=pd.merge(Final_Data_Sorted3,FCR, on = ['DocNo','LineNo'], how = 'left')"
   ]
  },
  {
   "cell_type": "code",
   "execution_count": null,
   "metadata": {},
   "outputs": [],
   "source": [
    "Final_Data_Sorted3=pd.merge(Final_Data_Sorted3,GFCR, on = ['DocNo','LineNo'], how = 'left')"
   ]
  },
  {
   "cell_type": "code",
   "execution_count": null,
   "metadata": {},
   "outputs": [],
   "source": [
    "Final_Data_Sorted3['customer_requirement_date2'] = np.where(Final_Data_Sorted3['customer_requirement_date_y'].isna(),\n",
    "                                                          Final_Data_Sorted3['revised_dely_date_req'], \n",
    "                                                          Final_Data_Sorted3['customer_requirement_date_y'])"
   ]
  },
  {
   "cell_type": "code",
   "execution_count": null,
   "metadata": {},
   "outputs": [],
   "source": [
    "Final_Data_Sorted3=Final_Data_Sorted3.drop(columns=['customer_requirement_date_x','customer_requirement_date_y'])"
   ]
  },
  {
   "cell_type": "code",
   "execution_count": null,
   "metadata": {},
   "outputs": [],
   "source": [
    "Final_Data_Sorted3.rename(columns = {'Allocated_Stock_Stock_Before_Oct':'Allocated_Stock_Stock_Before_Specific_Month'}, inplace =True)"
   ]
  },
  {
   "cell_type": "code",
   "execution_count": null,
   "metadata": {},
   "outputs": [],
   "source": [
    "Final_Data_Sorted3.to_excel('Final_Data_With_Q8_Const.xlsx',sheet_name='maindata')"
   ]
  },
  {
   "cell_type": "code",
   "execution_count": null,
   "metadata": {},
   "outputs": [],
   "source": [
    "Final_Data_Sorted3.to_excel('D:/jsdxi/python/Cancel Orders Feb 2021/Further/Stock Allocation All.xlsx',sheet_name='maindata')"
   ]
  },
  {
   "cell_type": "code",
   "execution_count": null,
   "metadata": {},
   "outputs": [],
   "source": [
    "Final_Data_Sorted3.columns"
   ]
  },
  {
   "cell_type": "markdown",
   "metadata": {},
   "source": [
    "## Local SQL"
   ]
  },
  {
   "cell_type": "code",
   "execution_count": null,
   "metadata": {},
   "outputs": [],
   "source": [
    "# root qwerty@123\n",
    "user = 'jsdxi'\n",
    "pwd = 'jsdxi@123'\n",
    "localhost = 'localhost'\n",
    "engine2 = sql.create_engine(f\"mysql+pymysql://{user}:{pwd}@{localhost}/mydatabase?host={localhost}?port=3306\")"
   ]
  },
  {
   "cell_type": "code",
   "execution_count": null,
   "metadata": {},
   "outputs": [],
   "source": [
    "Final_Data_Sorted33 = Final_Data_Sorted3"
   ]
  },
  {
   "cell_type": "code",
   "execution_count": null,
   "metadata": {},
   "outputs": [],
   "source": [
    "#list(Final_Data_Sorted3)"
   ]
  },
  {
   "cell_type": "code",
   "execution_count": null,
   "metadata": {},
   "outputs": [],
   "source": [
    "#list(pd.DataFrame(Final_Data_Sorted33.columns)[0].str.replace(' ','_', regex = False))"
   ]
  },
  {
   "cell_type": "code",
   "execution_count": null,
   "metadata": {},
   "outputs": [],
   "source": [
    "Final_Data_Sorted33.columns = list(pd.DataFrame(Final_Data_Sorted33.columns)[0].str.replace(' ','_', regex = False))"
   ]
  },
  {
   "cell_type": "code",
   "execution_count": null,
   "metadata": {},
   "outputs": [],
   "source": [
    "Final_Data_Sorted33['Greige_Open_For_All']=np.where(Final_Data_Sorted33['OrderType'].str.contains('Cancel|Non Allocated',case = False),Final_Data_Sorted33['Allocated_Stock'],0)"
   ]
  },
  {
   "cell_type": "code",
   "execution_count": null,
   "metadata": {},
   "outputs": [],
   "source": [
    "LiveOrdersTemp=Final_Data_Sorted33[['Standard__Article','Allocated_Stock']][~Final_Data_Sorted33['OrderType'].fillna('NA').str.contains('Cancel|Non Allocated',case = False)]"
   ]
  },
  {
   "cell_type": "code",
   "execution_count": null,
   "metadata": {},
   "outputs": [],
   "source": [
    "LiveOrdersTemp=pd.pivot_table(LiveOrdersTemp, index = 'Standard__Article',aggfunc=sum).reset_index()"
   ]
  },
  {
   "cell_type": "code",
   "execution_count": null,
   "metadata": {},
   "outputs": [],
   "source": [
    "LiveOrdersTemp.rename(columns={\n",
    "    'Allocated_Stock':'Total_GreigeAllocated_Orders'\n",
    "    \n",
    "}, inplace=True)"
   ]
  },
  {
   "cell_type": "code",
   "execution_count": null,
   "metadata": {},
   "outputs": [],
   "source": [
    "Final_Data_Sorted33=pd.merge(Final_Data_Sorted33,LiveOrdersTemp, on = 'Standard__Article', how = 'left')"
   ]
  },
  {
   "cell_type": "code",
   "execution_count": null,
   "metadata": {},
   "outputs": [],
   "source": [
    "Final_Data_Sorted33.columns"
   ]
  },
  {
   "cell_type": "code",
   "execution_count": null,
   "metadata": {},
   "outputs": [],
   "source": [
    "Final_Data_Sorted33['Total_GreigeAllocated_Orders']=Final_Data_Sorted33['Total_GreigeAllocated_Orders'].fillna(0)"
   ]
  },
  {
   "cell_type": "code",
   "execution_count": null,
   "metadata": {},
   "outputs": [],
   "source": [
    "Final_Data_Sorted33['Allocated_Stock'].sum()"
   ]
  },
  {
   "cell_type": "markdown",
   "metadata": {},
   "source": [
    "## Removeing Line Where no Stock has been Allocated "
   ]
  },
  {
   "cell_type": "code",
   "execution_count": null,
   "metadata": {},
   "outputs": [],
   "source": [
    "#Final_Data_Sorted33=Final_Data_Sorted33[(Final_Data_Sorted33['Allocated_Stock']>0) | (Final_Data_Sorted33['Allocated_Stock_reservation']>0)]\n"
   ]
  },
  {
   "cell_type": "code",
   "execution_count": null,
   "metadata": {},
   "outputs": [],
   "source": [
    "#Final_Data_Sorted33"
   ]
  },
  {
   "cell_type": "code",
   "execution_count": null,
   "metadata": {},
   "outputs": [],
   "source": [
    "Month1 = '2021-09-01'\n",
    "Month2 = '2021-10-01'\n",
    "Month3 = '2021-11-01'"
   ]
  },
  {
   "cell_type": "code",
   "execution_count": null,
   "metadata": {},
   "outputs": [],
   "source": [
    "Final_Data_Sorted33['MonthofLiquidation']=np.where(pd.to_datetime(Final_Data_Sorted33['MonthofLiquidation']).isna(),\"F) TBA\",\n",
    "         np.where(pd.to_datetime(Final_Data_Sorted33['MonthofLiquidation'])< Month1,\"A) Before \" + pd.to_datetime(Month1).strftime(\"%b %y\"),\n",
    "         np.where(pd.to_datetime(Final_Data_Sorted33['MonthofLiquidation'])== Month1,\"B) \" + pd.to_datetime(Month1).strftime(\"%b %y\"),\n",
    "         np.where(pd.to_datetime(Final_Data_Sorted33['MonthofLiquidation'])== Month2,\"C) \" +pd.to_datetime(Month2).strftime(\"%b %y\"),\n",
    "         np.where(pd.to_datetime(Final_Data_Sorted33['MonthofLiquidation'])== Month3,\"D) \" +pd.to_datetime(Month3).strftime(\"%b %y\"),\n",
    "         np.where(pd.to_datetime(Final_Data_Sorted33['MonthofLiquidation'])> Month3,\"E) After \" +pd.to_datetime(Month3).strftime(\"%b %y\"),\n",
    "         \"F) TBA\"))))))"
   ]
  },
  {
   "cell_type": "code",
   "execution_count": null,
   "metadata": {},
   "outputs": [],
   "source": [
    "Final_Data_Sorted33.columns"
   ]
  },
  {
   "cell_type": "code",
   "execution_count": null,
   "metadata": {},
   "outputs": [],
   "source": [
    "Final_Data_Sorted33[['Grouping_(A)',\n",
    "                    'Grouping_(B)',\n",
    "                    'Segment',\n",
    "                    'Customer',\n",
    "                    'Product_Type',\n",
    "                    'Allocated_Stock',\n",
    "                    'Allocated_Stock_>360_After_Reservation',\n",
    "                    'Allocated_Stock_>180_After_Reservation',\n",
    "                    'Allocated_Stock_>90_After_reservation',\n",
    "                    'Allocated_Stock_>60_After_Reservation',\n",
    "                    'Allocated_Stock_>30_After_Reservation',\n",
    "                    'Allocated_Stock_>0_After_Reservation',\n",
    "                    'Product',\n",
    "                    'Greige_Open_For_All',\n",
    "                    'Total_GreigeAllocated_Orders',\n",
    "                    'Standard__Article',\n",
    "                    'MonthofLiquidation',\n",
    "                    'Allocated_Stock_reservation',\n",
    "                    'Construction',\n",
    "                     \n",
    "                   ]].rename(columns={'Allocated_Stock_reservation':'reservation'}).reset_index().to_csv('D:/jsdxi/LiveData/Live Stock Allocation All.csv', \n",
    "                          encoding='UTF-8',\n",
    "                         index=False)"
   ]
  },
  {
   "cell_type": "code",
   "execution_count": null,
   "metadata": {},
   "outputs": [],
   "source": [
    "Final_Data_Sorted33.to_excel(\"D:/jsdxi/result_output/Greige Allocation all columns.xlsx\")"
   ]
  },
  {
   "cell_type": "code",
   "execution_count": null,
   "metadata": {},
   "outputs": [],
   "source": [
    "Final_Data_Sorted33_To_Google=Final_Data_Sorted33[['Grouping_(A)',\n",
    "                    'Grouping_(B)',\n",
    "                    'Segment',\n",
    "                    'Customer',\n",
    "                    'Product_Type',\n",
    "                    'Allocated_Stock',\n",
    "                    'Allocated_Stock_>360_After_Reservation',\n",
    "                    'Allocated_Stock_>180_After_Reservation',\n",
    "                    'Allocated_Stock_>90_After_reservation',\n",
    "                    'Allocated_Stock_>60_After_Reservation',\n",
    "                    'Allocated_Stock_>30_After_Reservation',\n",
    "                    'Allocated_Stock_>0_After_Reservation',\n",
    "                    'Product',\n",
    "                    'Greige_Open_For_All',\n",
    "                    'Total_GreigeAllocated_Orders',\n",
    "                    'Standard__Article',\n",
    "                    'MonthofLiquidation',\n",
    "                    'Allocated_Stock_reservation',\n",
    "                     'Construction'\n",
    "                     \n",
    "                   ]].rename(columns={'Allocated_Stock_reservation':'reservation',\n",
    "                                      'Allocated_Stock_>360_After_Reservation' :'Allocated_Stock_>360' ,\n",
    "                                    'Allocated_Stock_>180_After_Reservation':'Allocated_Stock_>180',\n",
    "                                    'Allocated_Stock_>90_After_reservation':'Allocated_Stock_>90',\n",
    "                                    'Allocated_Stock_>60_After_Reservation':'Allocated_Stock_>60',\n",
    "                                    'Allocated_Stock_>30_After_Reservation':'Allocated_Stock_>30',\n",
    "                                    'Allocated_Stock_>0_After_Reservation':'Allocated_Stock_>0',}).reset_index()"
   ]
  },
  {
   "cell_type": "code",
   "execution_count": null,
   "metadata": {},
   "outputs": [],
   "source": [
    "#Final_Data_Sorted33.to_sql('GreigeAllocation5', engine2)"
   ]
  },
  {
   "cell_type": "code",
   "execution_count": null,
   "metadata": {},
   "outputs": [],
   "source": [
    "reservation"
   ]
  },
  {
   "cell_type": "code",
   "execution_count": null,
   "metadata": {},
   "outputs": [],
   "source": [
    "reservation['Total Physical Stock']-reservation['Grey Stock']"
   ]
  },
  {
   "cell_type": "code",
   "execution_count": null,
   "metadata": {},
   "outputs": [],
   "source": [
    "reservation"
   ]
  },
  {
   "cell_type": "code",
   "execution_count": null,
   "metadata": {},
   "outputs": [],
   "source": [
    "Final_Data_Sorted3['Allocated_Stock_reservation'].sum()"
   ]
  },
  {
   "cell_type": "code",
   "execution_count": 14,
   "metadata": {},
   "outputs": [
    {
     "name": "stderr",
     "output_type": "stream",
     "text": [
      "ERROR: Could not find a version that satisfies the requirement set_with_dataframe (from versions: none)\n",
      "ERROR: No matching distribution found for set_with_dataframe\n",
      "WARNING: You are using pip version 20.1; however, version 21.3 is available.\n",
      "You should consider upgrading via the 'c:\\users\\fsc.reports1\\appdata\\local\\programs\\python\\python37\\python.exe -m pip install --upgrade pip' command.\n"
     ]
    }
   ],
   "source": [
    "!pip install set_with_dataframe"
   ]
  },
  {
   "cell_type": "markdown",
   "metadata": {},
   "source": [
    "## Export to Google"
   ]
  },
  {
   "cell_type": "code",
   "execution_count": 13,
   "metadata": {},
   "outputs": [
    {
     "ename": "FileNotFoundError",
     "evalue": "[Errno 2] No such file or directory: 'D:/jsdxi/python/operating-axis-319304-8d9a626eb0c4.json'",
     "output_type": "error",
     "traceback": [
      "\u001b[1;31m---------------------------------------------------------------------------\u001b[0m",
      "\u001b[1;31mFileNotFoundError\u001b[0m                         Traceback (most recent call last)",
      "\u001b[1;32m<ipython-input-13-d9dc7512c32b>\u001b[0m in \u001b[0;36m<module>\u001b[1;34m\u001b[0m\n\u001b[0;32m      3\u001b[0m \u001b[1;33m\u001b[0m\u001b[0m\n\u001b[0;32m      4\u001b[0m \u001b[1;31m# ACCES GOOGLE SHEET\u001b[0m\u001b[1;33m\u001b[0m\u001b[1;33m\u001b[0m\u001b[1;33m\u001b[0m\u001b[0m\n\u001b[1;32m----> 5\u001b[1;33m \u001b[0mgc\u001b[0m \u001b[1;33m=\u001b[0m \u001b[0mgspread\u001b[0m\u001b[1;33m.\u001b[0m\u001b[0mservice_account\u001b[0m\u001b[1;33m(\u001b[0m\u001b[0mfilename\u001b[0m\u001b[1;33m=\u001b[0m\u001b[1;34m\"D:/jsdxi/python/operating-axis-319304-8d9a626eb0c4.json\"\u001b[0m\u001b[1;33m)\u001b[0m\u001b[1;33m\u001b[0m\u001b[1;33m\u001b[0m\u001b[0m\n\u001b[0m",
      "\u001b[1;32mc:\\users\\fsc.reports1\\appdata\\local\\programs\\python\\python37\\lib\\site-packages\\gspread\\auth.py\u001b[0m in \u001b[0;36mservice_account\u001b[1;34m(filename, scopes)\u001b[0m\n\u001b[0;32m    195\u001b[0m     \"\"\"\n\u001b[0;32m    196\u001b[0m     creds = ServiceAccountCredentials.from_service_account_file(\n\u001b[1;32m--> 197\u001b[1;33m         \u001b[0mfilename\u001b[0m\u001b[1;33m,\u001b[0m \u001b[0mscopes\u001b[0m\u001b[1;33m=\u001b[0m\u001b[0mscopes\u001b[0m\u001b[1;33m\u001b[0m\u001b[1;33m\u001b[0m\u001b[0m\n\u001b[0m\u001b[0;32m    198\u001b[0m     )\n\u001b[0;32m    199\u001b[0m     \u001b[1;32mreturn\u001b[0m \u001b[0mClient\u001b[0m\u001b[1;33m(\u001b[0m\u001b[0mauth\u001b[0m\u001b[1;33m=\u001b[0m\u001b[0mcreds\u001b[0m\u001b[1;33m)\u001b[0m\u001b[1;33m\u001b[0m\u001b[1;33m\u001b[0m\u001b[0m\n",
      "\u001b[1;32mc:\\users\\fsc.reports1\\appdata\\local\\programs\\python\\python37\\lib\\site-packages\\google\\oauth2\\service_account.py\u001b[0m in \u001b[0;36mfrom_service_account_file\u001b[1;34m(cls, filename, **kwargs)\u001b[0m\n\u001b[0;32m    237\u001b[0m         \"\"\"\n\u001b[0;32m    238\u001b[0m         info, signer = _service_account_info.from_filename(\n\u001b[1;32m--> 239\u001b[1;33m             \u001b[0mfilename\u001b[0m\u001b[1;33m,\u001b[0m \u001b[0mrequire\u001b[0m\u001b[1;33m=\u001b[0m\u001b[1;33m[\u001b[0m\u001b[1;34m\"client_email\"\u001b[0m\u001b[1;33m,\u001b[0m \u001b[1;34m\"token_uri\"\u001b[0m\u001b[1;33m]\u001b[0m\u001b[1;33m\u001b[0m\u001b[1;33m\u001b[0m\u001b[0m\n\u001b[0m\u001b[0;32m    240\u001b[0m         )\n\u001b[0;32m    241\u001b[0m         \u001b[1;32mreturn\u001b[0m \u001b[0mcls\u001b[0m\u001b[1;33m.\u001b[0m\u001b[0m_from_signer_and_info\u001b[0m\u001b[1;33m(\u001b[0m\u001b[0msigner\u001b[0m\u001b[1;33m,\u001b[0m \u001b[0minfo\u001b[0m\u001b[1;33m,\u001b[0m \u001b[1;33m**\u001b[0m\u001b[0mkwargs\u001b[0m\u001b[1;33m)\u001b[0m\u001b[1;33m\u001b[0m\u001b[1;33m\u001b[0m\u001b[0m\n",
      "\u001b[1;32mc:\\users\\fsc.reports1\\appdata\\local\\programs\\python\\python37\\lib\\site-packages\\google\\auth\\_service_account_info.py\u001b[0m in \u001b[0;36mfrom_filename\u001b[1;34m(filename, require)\u001b[0m\n\u001b[0;32m     68\u001b[0m             \u001b[0minfo\u001b[0m \u001b[1;32mand\u001b[0m \u001b[0ma\u001b[0m \u001b[0msigner\u001b[0m \u001b[0minstance\u001b[0m\u001b[1;33m.\u001b[0m\u001b[1;33m\u001b[0m\u001b[1;33m\u001b[0m\u001b[0m\n\u001b[0;32m     69\u001b[0m     \"\"\"\n\u001b[1;32m---> 70\u001b[1;33m     \u001b[1;32mwith\u001b[0m \u001b[0mio\u001b[0m\u001b[1;33m.\u001b[0m\u001b[0mopen\u001b[0m\u001b[1;33m(\u001b[0m\u001b[0mfilename\u001b[0m\u001b[1;33m,\u001b[0m \u001b[1;34m\"r\"\u001b[0m\u001b[1;33m,\u001b[0m \u001b[0mencoding\u001b[0m\u001b[1;33m=\u001b[0m\u001b[1;34m\"utf-8\"\u001b[0m\u001b[1;33m)\u001b[0m \u001b[1;32mas\u001b[0m \u001b[0mjson_file\u001b[0m\u001b[1;33m:\u001b[0m\u001b[1;33m\u001b[0m\u001b[1;33m\u001b[0m\u001b[0m\n\u001b[0m\u001b[0;32m     71\u001b[0m         \u001b[0mdata\u001b[0m \u001b[1;33m=\u001b[0m \u001b[0mjson\u001b[0m\u001b[1;33m.\u001b[0m\u001b[0mload\u001b[0m\u001b[1;33m(\u001b[0m\u001b[0mjson_file\u001b[0m\u001b[1;33m)\u001b[0m\u001b[1;33m\u001b[0m\u001b[1;33m\u001b[0m\u001b[0m\n\u001b[0;32m     72\u001b[0m         \u001b[1;32mreturn\u001b[0m \u001b[0mdata\u001b[0m\u001b[1;33m,\u001b[0m \u001b[0mfrom_dict\u001b[0m\u001b[1;33m(\u001b[0m\u001b[0mdata\u001b[0m\u001b[1;33m,\u001b[0m \u001b[0mrequire\u001b[0m\u001b[1;33m=\u001b[0m\u001b[0mrequire\u001b[0m\u001b[1;33m)\u001b[0m\u001b[1;33m\u001b[0m\u001b[1;33m\u001b[0m\u001b[0m\n",
      "\u001b[1;31mFileNotFoundError\u001b[0m: [Errno 2] No such file or directory: 'D:/jsdxi/python/operating-axis-319304-8d9a626eb0c4.json'"
     ]
    }
   ],
   "source": [
    "import gspread\n",
    "from gspread_dataframe import set_with_dataframe\n",
    "\n",
    "# ACCES GOOGLE SHEET\n",
    "gc = gspread.service_account(filename=\"D:/jsdxi/python/operating-axis-319304-8d9a626eb0c4.json\")"
   ]
  },
  {
   "cell_type": "code",
   "execution_count": null,
   "metadata": {},
   "outputs": [],
   "source": [
    "sh = gc.open_by_key('1jXTiDjkJUuilZa9RdPIje9xqEnLzx3SQuKts61UkA1c')"
   ]
  },
  {
   "cell_type": "code",
   "execution_count": null,
   "metadata": {},
   "outputs": [],
   "source": [
    "worksheet = sh.get_worksheet(0) #-> 0 - first sheet, 1 - second sheet etc."
   ]
  },
  {
   "cell_type": "code",
   "execution_count": null,
   "metadata": {},
   "outputs": [],
   "source": [
    "# CLEAR SHEET CONTENT\n",
    "range_of_cells = worksheet.range('A1:T10000') #-> Select the range you want to clear\n",
    "for cell in range_of_cells:\n",
    "    cell.value = ''\n",
    "worksheet.update_cells(range_of_cells) "
   ]
  },
  {
   "cell_type": "code",
   "execution_count": null,
   "metadata": {},
   "outputs": [],
   "source": [
    "set_with_dataframe(worksheet, Final_Data_Sorted33_To_Google) #-> THIS EXPORTS YOUR DATAFRAME TO THE GOOGLE SHEET"
   ]
  },
  {
   "cell_type": "code",
   "execution_count": null,
   "metadata": {},
   "outputs": [],
   "source": [
    "#print(error)"
   ]
  },
  {
   "cell_type": "markdown",
   "metadata": {},
   "source": [
    "## Futher Go with 25 days Stock Check Customer Wise "
   ]
  },
  {
   "cell_type": "code",
   "execution_count": null,
   "metadata": {},
   "outputs": [],
   "source": [
    "Final_Data_Sorted3.columns"
   ]
  },
  {
   "cell_type": "code",
   "execution_count": null,
   "metadata": {},
   "outputs": [],
   "source": [
    "CustomerWise = Final_Data_Sorted3[['OrderType',\n",
    "                                  'Customer',\n",
    "                                  'Segment',\n",
    "                                  'DocNo',\n",
    "                                  'LineNo',\n",
    "                                  'customer_requirement_date2',\n",
    "                                  'Standard__Article',\n",
    "                                  'Max_Possible_Allocation',\n",
    "                                  'Actual_Planning_Month',\n",
    "                                  'Allocated_Stock',\n",
    "                                  'Allocated_Stock_>0_After_Reservation',\n",
    "                                  'Allocated_Stock_>30_After_Reservation',\n",
    "                                  'Allocated_Stock_>60_After_Reservation',\n",
    "                                  'Allocated_Stock_>90_After_reservation',\n",
    "                                  'Allocated_Stock_>180_After_Reservation',\n",
    "                                  'Allocated_Stock_>360_After_Reservation']]\n",
    "#CustomerWise=CustomerWise[CustomerWise['Allocated_Stock']>0]"
   ]
  },
  {
   "cell_type": "code",
   "execution_count": 3,
   "metadata": {},
   "outputs": [],
   "source": [
    "BrandLabel=pd.read_sql(f\"\"\"\n",
    "Select \n",
    "TRNREQ.doc_no,\n",
    "subsegmentref.subsegment_desc\n",
    "from \n",
    "TRNREQ\n",
    "left join\n",
    "subsegmentref\n",
    "on TRNREQ.subsegment_cd = subsegmentref.subsegment_cd\n",
    "\"\"\",engine)"
   ]
  },
  {
   "cell_type": "code",
   "execution_count": 4,
   "metadata": {},
   "outputs": [
    {
     "data": {
      "text/html": [
       "<div>\n",
       "<style scoped>\n",
       "    .dataframe tbody tr th:only-of-type {\n",
       "        vertical-align: middle;\n",
       "    }\n",
       "\n",
       "    .dataframe tbody tr th {\n",
       "        vertical-align: top;\n",
       "    }\n",
       "\n",
       "    .dataframe thead th {\n",
       "        text-align: right;\n",
       "    }\n",
       "</style>\n",
       "<table border=\"1\" class=\"dataframe\">\n",
       "  <thead>\n",
       "    <tr style=\"text-align: right;\">\n",
       "      <th></th>\n",
       "      <th>doc_no</th>\n",
       "      <th>subsegment_desc</th>\n",
       "    </tr>\n",
       "  </thead>\n",
       "  <tbody>\n",
       "    <tr>\n",
       "      <th>0</th>\n",
       "      <td>ADS41_S41-16000136</td>\n",
       "      <td>None</td>\n",
       "    </tr>\n",
       "    <tr>\n",
       "      <th>1</th>\n",
       "      <td>ADS41_S41-16000137</td>\n",
       "      <td>None</td>\n",
       "    </tr>\n",
       "    <tr>\n",
       "      <th>2</th>\n",
       "      <td>ADS41_S41-16000138</td>\n",
       "      <td>None</td>\n",
       "    </tr>\n",
       "    <tr>\n",
       "      <th>3</th>\n",
       "      <td>ADS41_S41-16000139</td>\n",
       "      <td>None</td>\n",
       "    </tr>\n",
       "    <tr>\n",
       "      <th>4</th>\n",
       "      <td>ADS41_S41-16000140</td>\n",
       "      <td>None</td>\n",
       "    </tr>\n",
       "    <tr>\n",
       "      <th>...</th>\n",
       "      <td>...</td>\n",
       "      <td>...</td>\n",
       "    </tr>\n",
       "    <tr>\n",
       "      <th>752660</th>\n",
       "      <td>DL0100043669</td>\n",
       "      <td>DISTRIBUTORS</td>\n",
       "    </tr>\n",
       "    <tr>\n",
       "      <th>752661</th>\n",
       "      <td>DL0100043670</td>\n",
       "      <td>DISTRIBUTORS</td>\n",
       "    </tr>\n",
       "    <tr>\n",
       "      <th>752662</th>\n",
       "      <td>DL0100043671</td>\n",
       "      <td>DISTRIBUTORS</td>\n",
       "    </tr>\n",
       "    <tr>\n",
       "      <th>752663</th>\n",
       "      <td>DL0100043672</td>\n",
       "      <td>DISTRIBUTORS</td>\n",
       "    </tr>\n",
       "    <tr>\n",
       "      <th>752664</th>\n",
       "      <td>DL0100043673</td>\n",
       "      <td>DISTRIBUTORS</td>\n",
       "    </tr>\n",
       "  </tbody>\n",
       "</table>\n",
       "<p>752665 rows × 2 columns</p>\n",
       "</div>"
      ],
      "text/plain": [
       "                    doc_no subsegment_desc\n",
       "0       ADS41_S41-16000136            None\n",
       "1       ADS41_S41-16000137            None\n",
       "2       ADS41_S41-16000138            None\n",
       "3       ADS41_S41-16000139            None\n",
       "4       ADS41_S41-16000140            None\n",
       "...                    ...             ...\n",
       "752660        DL0100043669  DISTRIBUTORS  \n",
       "752661        DL0100043670  DISTRIBUTORS  \n",
       "752662        DL0100043671  DISTRIBUTORS  \n",
       "752663        DL0100043672  DISTRIBUTORS  \n",
       "752664        DL0100043673  DISTRIBUTORS  \n",
       "\n",
       "[752665 rows x 2 columns]"
      ]
     },
     "execution_count": 4,
     "metadata": {},
     "output_type": "execute_result"
    }
   ],
   "source": [
    "BrandLabel"
   ]
  },
  {
   "cell_type": "code",
   "execution_count": null,
   "metadata": {},
   "outputs": [],
   "source": [
    "BrandLabel=BrandLabel.drop_duplicates(subset=['doc_no'])"
   ]
  },
  {
   "cell_type": "code",
   "execution_count": null,
   "metadata": {},
   "outputs": [],
   "source": [
    "BrandLabel.rename(columns={'doc_no':'DocNo'},inplace=True)"
   ]
  },
  {
   "cell_type": "code",
   "execution_count": null,
   "metadata": {},
   "outputs": [],
   "source": [
    "#BrandLabel"
   ]
  },
  {
   "cell_type": "code",
   "execution_count": null,
   "metadata": {},
   "outputs": [],
   "source": [
    "CustomerWise.shape"
   ]
  },
  {
   "cell_type": "code",
   "execution_count": null,
   "metadata": {},
   "outputs": [],
   "source": [
    "CustomerWise=pd.merge(CustomerWise,BrandLabel, on = 'DocNo', how = 'left')"
   ]
  },
  {
   "cell_type": "code",
   "execution_count": null,
   "metadata": {},
   "outputs": [],
   "source": [
    "CustomerWise.shape"
   ]
  },
  {
   "cell_type": "code",
   "execution_count": null,
   "metadata": {},
   "outputs": [],
   "source": [
    "CustomerWise.columns"
   ]
  },
  {
   "cell_type": "code",
   "execution_count": null,
   "metadata": {},
   "outputs": [],
   "source": [
    "CustomerWise['Final_Customer'] = np.where(CustomerWise['Segment']=='Non Allocated','Non Allocated',\n",
    "                                 np.where(CustomerWise['Customer'].str.contains('TAKISADA'),'TAKISADA',\n",
    "                                 np.where(CustomerWise['Customer'].str.contains('NIDHI TEXTILES|GEMINI',case =False),'GEMINI/NIDHI TEXTILES',\n",
    "                                 np.where(CustomerWise['subsegment_desc'].str.contains('MILL|^NORTH$|WEST|EAST|SOUTH',case =False),CustomerWise['Customer'],\n",
    "                                         CustomerWise['subsegment_desc']))))\n",
    "CustomerWise[['Final_Customer','Segment','subsegment_desc','Customer']]"
   ]
  },
  {
   "cell_type": "code",
   "execution_count": null,
   "metadata": {},
   "outputs": [],
   "source": [
    "CustomerWise=CustomerWise[[  'Final_Customer',\n",
    "                             'Customer',\n",
    "                             'Segment',\n",
    "                             'subsegment_desc',\n",
    "                             'OrderType',\n",
    "                             'DocNo',\n",
    "                             'LineNo',\n",
    "                             'customer_requirement_date2',\n",
    "                             'Standard__Article',\n",
    "                             'Max_Possible_Allocation',\n",
    "                             'Actual_Planning_Month',\n",
    "                             \n",
    "                             'Allocated_Stock',\n",
    "                             'Allocated_Stock_>0_After_Reservation',\n",
    "                             'Allocated_Stock_>30_After_Reservation',\n",
    "                             'Allocated_Stock_>60_After_Reservation',\n",
    "                             'Allocated_Stock_>90_After_reservation',\n",
    "                             'Allocated_Stock_>180_After_Reservation',\n",
    "                             'Allocated_Stock_>360_After_Reservation']]"
   ]
  },
  {
   "cell_type": "code",
   "execution_count": null,
   "metadata": {},
   "outputs": [],
   "source": [
    "Customer=CustomerWise.groupby('Final_Customer')['Allocated_Stock'].sum().reset_index()"
   ]
  },
  {
   "cell_type": "code",
   "execution_count": null,
   "metadata": {},
   "outputs": [],
   "source": [
    "Customer.rename(columns={'Allocated_Stock':'Final Customer Wise Allocated Stock as on Date'},inplace=True)"
   ]
  },
  {
   "cell_type": "code",
   "execution_count": null,
   "metadata": {},
   "outputs": [],
   "source": [
    "CustomerWise = pd.merge(CustomerWise,Customer, on ='Final_Customer', how = 'left') "
   ]
  },
  {
   "cell_type": "code",
   "execution_count": null,
   "metadata": {},
   "outputs": [],
   "source": [
    "Article=CustomerWise.groupby(['Final_Customer','Standard__Article'])['Allocated_Stock'].sum().reset_index()"
   ]
  },
  {
   "cell_type": "code",
   "execution_count": null,
   "metadata": {},
   "outputs": [],
   "source": [
    "Article.rename(columns={'Allocated_Stock':'Final Customer & Article Wise Allocated Stock as on Date'}, inplace=True)"
   ]
  },
  {
   "cell_type": "code",
   "execution_count": null,
   "metadata": {},
   "outputs": [],
   "source": [
    "CustomerWise=pd.merge(CustomerWise,Article, on = ['Final_Customer','Standard__Article'], how = 'left')"
   ]
  },
  {
   "cell_type": "code",
   "execution_count": null,
   "metadata": {},
   "outputs": [],
   "source": [
    "CustomerWise.to_excel('CustomerWiseStock.xlsx')"
   ]
  },
  {
   "cell_type": "code",
   "execution_count": null,
   "metadata": {},
   "outputs": [],
   "source": [
    "#CustomerWise"
   ]
  },
  {
   "cell_type": "markdown",
   "metadata": {},
   "source": [
    "## Consumption"
   ]
  },
  {
   "cell_type": "code",
   "execution_count": null,
   "metadata": {},
   "outputs": [],
   "source": [
    "Days = 360"
   ]
  },
  {
   "cell_type": "code",
   "execution_count": null,
   "metadata": {},
   "outputs": [],
   "source": [
    "Ending = pd.to_datetime('today')-pd.to_timedelta(1,unit ='D')\n",
    "Starting = Ending - pd.to_timedelta(Days,unit ='D')"
   ]
  },
  {
   "cell_type": "code",
   "execution_count": null,
   "metadata": {},
   "outputs": [],
   "source": [
    "Ending"
   ]
  },
  {
   "cell_type": "code",
   "execution_count": null,
   "metadata": {},
   "outputs": [],
   "source": [
    "df=pd.read_sql(f\"\"\"\n",
    "Select Convert(datetime,dispo_date) as [Greige Utilization Date],\n",
    "OCDDIV,\n",
    "nowrecty,\n",
    "PO_NO,\n",
    "segment_desc,\n",
    "subsegment_name,\n",
    "cust_desc,\n",
    "ISS_QTY,\n",
    "grey_k1,\n",
    "OCDKE3,\n",
    "OCDKE4\n",
    "from QQVLOT\n",
    "where Convert(datetime,dispo_date) >=? and \n",
    "Convert(datetime,dispo_date) <=? and \n",
    "COPS_NO NOT LIKE 'B%'\n",
    "\"\"\",engine, params=(Starting,Ending,))"
   ]
  },
  {
   "cell_type": "code",
   "execution_count": null,
   "metadata": {},
   "outputs": [],
   "source": [
    "df['grey_k1']= np.where(df['nowrecty'].str.contains('YF'),df['grey_k1'] + df['OCDKE3'] + df['OCDKE4'],df['grey_k1'])"
   ]
  },
  {
   "cell_type": "code",
   "execution_count": null,
   "metadata": {},
   "outputs": [],
   "source": [
    "path = \"D:/jsdxi/RScriptsN/CSV/2021-04-01\""
   ]
  },
  {
   "cell_type": "code",
   "execution_count": null,
   "metadata": {},
   "outputs": [],
   "source": [
    "PO_Master=pd.read_csv(path + \"/POMaster.csv\")"
   ]
  },
  {
   "cell_type": "code",
   "execution_count": null,
   "metadata": {},
   "outputs": [],
   "source": [
    "PO_Master = PO_Master.drop_duplicates()"
   ]
  },
  {
   "cell_type": "code",
   "execution_count": null,
   "metadata": {},
   "outputs": [],
   "source": [
    "df['OCDDIV']=np.where(df['nowrecty'].fillna('NA').str.contains('R'),'Print',\n",
    "                            np.where(df['OCDDIV'].fillna('NA').str.contains('40'),'Baddi','Budhni'))"
   ]
  },
  {
   "cell_type": "code",
   "execution_count": null,
   "metadata": {},
   "outputs": [],
   "source": [
    "df['F14'] = df['PO_NO'].str[:3]"
   ]
  },
  {
   "cell_type": "code",
   "execution_count": null,
   "metadata": {},
   "outputs": [],
   "source": [
    "df_final=pd.merge(df, PO_Master , on = ['OCDDIV','F14'], how = 'left')"
   ]
  },
  {
   "cell_type": "code",
   "execution_count": null,
   "metadata": {},
   "outputs": [],
   "source": [
    "df_final=df_final[~df_final['Type'].fillna('NA').str.contains('Shortfall|Reprocess|To Remove',case =False)]"
   ]
  },
  {
   "cell_type": "code",
   "execution_count": null,
   "metadata": {},
   "outputs": [],
   "source": [
    "df_final['Type'].drop_duplicates()"
   ]
  },
  {
   "cell_type": "code",
   "execution_count": null,
   "metadata": {},
   "outputs": [],
   "source": [
    "df_final=df_final[~((df_final['Type'].fillna('NA').str.contains('Print',case = False)) & (df_final['F14'].str.endswith('G')))]"
   ]
  },
  {
   "cell_type": "code",
   "execution_count": null,
   "metadata": {},
   "outputs": [],
   "source": [
    "df_final.head(2)"
   ]
  },
  {
   "cell_type": "markdown",
   "metadata": {},
   "source": [
    "## Sales "
   ]
  },
  {
   "cell_type": "code",
   "execution_count": null,
   "metadata": {},
   "outputs": [],
   "source": [
    "#inter Unit\n",
    "tuple_id=('PBT','QBT','PAM','QAP','LBI','QBI')"
   ]
  },
  {
   "cell_type": "code",
   "execution_count": null,
   "metadata": {},
   "outputs": [],
   "source": [
    "Brand=pd.read_sql(f\"\"\"\n",
    "Select PLANTINVOICE,BRAND from ERPINVOICEEXTRA\n",
    "\"\"\",engine)"
   ]
  },
  {
   "cell_type": "code",
   "execution_count": null,
   "metadata": {},
   "outputs": [],
   "source": [
    "df=pd.read_sql(f\"\"\"\n",
    "Select \n",
    "MINVNO,MLRNUM,\n",
    "ERPTRANSPORTERDESC,\n",
    "MBUYER,MINVDT,\n",
    "MCDCUS,MCDSEL,\n",
    "ADSONUMBER,\n",
    "MKDES1,\n",
    "MKDES2,\n",
    "MKDES3,\n",
    "MKDES4,\n",
    "MKDES5,\n",
    "MKDES6,\n",
    "MKDES7,\n",
    "MKDES8,\n",
    "MKDES9,\n",
    "MSHRAT,\n",
    "MWHCOD,MFNDES,NOWRECTY,MSHQTY,MSHUOM from erpinvoice\n",
    "where left(MINVNO,3) not in {tuple_id} and\n",
    "right(NOWRECTY,1) ='G' and\n",
    "MINVDT >=? and \n",
    "MINVDT <=?\n",
    "\"\"\",engine,params=(Starting,Ending,))"
   ]
  },
  {
   "cell_type": "code",
   "execution_count": null,
   "metadata": {},
   "outputs": [],
   "source": [
    "customer=pd.read_sql(f'select cust_cd,cust_desc from customerref',engine)"
   ]
  },
  {
   "cell_type": "code",
   "execution_count": null,
   "metadata": {},
   "outputs": [],
   "source": [
    "df['Customer']=df['MCDCUS'].replace(customer.set_index('cust_cd').to_dict()['cust_desc'])"
   ]
  },
  {
   "cell_type": "code",
   "execution_count": null,
   "metadata": {},
   "outputs": [],
   "source": [
    "Segment=pd.read_sql(f'select segment_cd,segment_desc from segmentref',engine)"
   ]
  },
  {
   "cell_type": "code",
   "execution_count": null,
   "metadata": {},
   "outputs": [],
   "source": [
    "df['Segment']=df['MCDSEL'].replace(Segment.set_index('segment_cd').to_dict()['segment_desc'])"
   ]
  },
  {
   "cell_type": "code",
   "execution_count": null,
   "metadata": {},
   "outputs": [],
   "source": [
    "df.shape"
   ]
  },
  {
   "cell_type": "code",
   "execution_count": null,
   "metadata": {},
   "outputs": [],
   "source": [
    "df.columns"
   ]
  },
  {
   "cell_type": "code",
   "execution_count": null,
   "metadata": {},
   "outputs": [],
   "source": [
    "Brand.rename(columns={'PLANTINVOICE':'MINVNO'}, inplace = True)"
   ]
  },
  {
   "cell_type": "code",
   "execution_count": null,
   "metadata": {},
   "outputs": [],
   "source": [
    "Brand['MINVNO']=Brand['MINVNO'].str[:12]"
   ]
  },
  {
   "cell_type": "code",
   "execution_count": null,
   "metadata": {},
   "outputs": [],
   "source": [
    "Brand=Brand.drop_duplicates()"
   ]
  },
  {
   "cell_type": "code",
   "execution_count": null,
   "metadata": {},
   "outputs": [],
   "source": [
    "df=pd.merge(df,Brand,on = 'MINVNO', how = 'left')"
   ]
  },
  {
   "cell_type": "code",
   "execution_count": null,
   "metadata": {},
   "outputs": [],
   "source": [
    "df.shape"
   ]
  },
  {
   "cell_type": "code",
   "execution_count": null,
   "metadata": {},
   "outputs": [],
   "source": [
    "df['BRAND'].fillna('NA').drop_duplicates()"
   ]
  },
  {
   "cell_type": "code",
   "execution_count": null,
   "metadata": {},
   "outputs": [],
   "source": [
    "df_final.columns"
   ]
  },
  {
   "cell_type": "code",
   "execution_count": null,
   "metadata": {},
   "outputs": [],
   "source": [
    "df.columns"
   ]
  },
  {
   "cell_type": "code",
   "execution_count": null,
   "metadata": {},
   "outputs": [],
   "source": [
    "df['grey_k1']= df['MKDES1'] +df['MKDES2'] +df['MKDES3']+df['MKDES4']"
   ]
  },
  {
   "cell_type": "code",
   "execution_count": null,
   "metadata": {},
   "outputs": [],
   "source": []
  },
  {
   "cell_type": "code",
   "execution_count": null,
   "metadata": {},
   "outputs": [],
   "source": [
    "df.rename(columns={'MINVDT':'Greige Utilization Date',\n",
    "                   'NOWRECTY':'nowrecty',\n",
    "                   'MINVNO' :'PO_NO',\n",
    "                   'Segment':'segment_desc',\n",
    "                  'Customer':'cust_desc',\n",
    "                  'BRAND':'subsegment_name',\n",
    "                  'MSHQTY':'ISS_QTY'},inplace=True)"
   ]
  },
  {
   "cell_type": "code",
   "execution_count": null,
   "metadata": {},
   "outputs": [],
   "source": [
    "df=df[[\n",
    "'Greige Utilization Date',\n",
    "'nowrecty',\n",
    "'PO_NO',\n",
    "'segment_desc',\n",
    "'cust_desc',\n",
    "'subsegment_name',\n",
    "'ISS_QTY' ,\n",
    "'grey_k1'\n",
    "]]"
   ]
  },
  {
   "cell_type": "code",
   "execution_count": null,
   "metadata": {},
   "outputs": [],
   "source": [
    "df_final=df_final.append(df)"
   ]
  },
  {
   "cell_type": "code",
   "execution_count": null,
   "metadata": {},
   "outputs": [],
   "source": [
    "df_final.to_excel('D:/jsdxi/result_output/Last360daysConsumation.xlsx')"
   ]
  },
  {
   "cell_type": "code",
   "execution_count": null,
   "metadata": {},
   "outputs": [],
   "source": [
    "df_final['Final_Customer'] = np.where(df_final['segment_desc']=='Non Allocated','Non Allocated',\n",
    "                                 np.where(df_final['cust_desc'].str.contains('TAKISADA'),'TAKISADA',\n",
    "                                 np.where(df_final['cust_desc'].str.contains('NIDHI TEXTILES|GEMINI',case =False),'GEMINI/NIDHI TEXTILES',\n",
    "                                 np.where(df_final['subsegment_name'].str.contains('MILL|^NORTH$|WEST|EAST|SOUTH',case =False),df_final['cust_desc'],\n",
    "                                         df_final['subsegment_name']))))\n"
   ]
  },
  {
   "cell_type": "code",
   "execution_count": null,
   "metadata": {},
   "outputs": [],
   "source": [
    "Final_Cusotmer=df_final.groupby('Final_Customer')['ISS_QTY'].sum().reset_index()"
   ]
  },
  {
   "cell_type": "code",
   "execution_count": null,
   "metadata": {},
   "outputs": [],
   "source": [
    "df_final.rename(columns={'grey_k1':'Grey K1'}, inplace=True)"
   ]
  },
  {
   "cell_type": "code",
   "execution_count": null,
   "metadata": {},
   "outputs": [],
   "source": [
    "article_master=article_master.drop_duplicates()"
   ]
  },
  {
   "cell_type": "code",
   "execution_count": null,
   "metadata": {},
   "outputs": [],
   "source": [
    "df_final=pd.merge(df_final,article_master,on = 'Grey K1', how = 'left')"
   ]
  },
  {
   "cell_type": "code",
   "execution_count": null,
   "metadata": {},
   "outputs": [],
   "source": [
    "df_final['Standard  Article']= np.where(df_final['Standard  Article'].isna(),df_final['Grey K1'],\n",
    "                                    df_final['Standard  Article'])    "
   ]
  },
  {
   "cell_type": "code",
   "execution_count": null,
   "metadata": {},
   "outputs": [],
   "source": [
    "Final_cust_Article=df_final.groupby(['Final_Customer','Standard  Article'])['ISS_QTY'].sum().reset_index()"
   ]
  },
  {
   "cell_type": "code",
   "execution_count": null,
   "metadata": {},
   "outputs": [],
   "source": [
    "Final_cust_Article.rename(columns={'Standard  Article':'Standard__Article',\n",
    "                                  'ISS_QTY':'Total Consumption Final Customer and Article Wise'}, inplace=True)"
   ]
  },
  {
   "cell_type": "code",
   "execution_count": null,
   "metadata": {},
   "outputs": [],
   "source": [
    "Final_Cusotmer.rename(columns={'ISS_QTY':'Total Consumption Final Customer Wise'}, inplace=True)"
   ]
  },
  {
   "cell_type": "code",
   "execution_count": null,
   "metadata": {},
   "outputs": [],
   "source": [
    "#CustomerWise.shape"
   ]
  },
  {
   "cell_type": "code",
   "execution_count": null,
   "metadata": {},
   "outputs": [],
   "source": [
    "CustomerWise=pd.merge(CustomerWise,Final_Cusotmer, on = 'Final_Customer', how = 'left')"
   ]
  },
  {
   "cell_type": "code",
   "execution_count": null,
   "metadata": {},
   "outputs": [],
   "source": [
    "CustomerWise=pd.merge(CustomerWise,Final_cust_Article, on = ['Final_Customer','Standard__Article'], how = 'left')"
   ]
  },
  {
   "cell_type": "code",
   "execution_count": null,
   "metadata": {},
   "outputs": [],
   "source": [
    "CustomerWise.shape"
   ]
  },
  {
   "cell_type": "code",
   "execution_count": null,
   "metadata": {},
   "outputs": [],
   "source": [
    "CustomerWise['Total Days Consumption']= Days"
   ]
  },
  {
   "cell_type": "code",
   "execution_count": null,
   "metadata": {},
   "outputs": [],
   "source": [
    "CustomerWise['Total Consumption Final Customer Wise']=CustomerWise['Total Consumption Final Customer Wise'].fillna(0)"
   ]
  },
  {
   "cell_type": "code",
   "execution_count": null,
   "metadata": {},
   "outputs": [],
   "source": [
    "CustomerWise['Total Consumption Final Customer and Article Wise']=CustomerWise['Total Consumption Final Customer and Article Wise'].fillna(0)"
   ]
  },
  {
   "cell_type": "code",
   "execution_count": null,
   "metadata": {},
   "outputs": [],
   "source": [
    "CustomerWise['Future Stock Days']= 20"
   ]
  },
  {
   "cell_type": "code",
   "execution_count": null,
   "metadata": {},
   "outputs": [],
   "source": [
    "CustomerWise['Final Customer Wise Stock in Days'] = CustomerWise['Final Customer Wise Allocated Stock as on Date']/(CustomerWise['Total Consumption Final Customer Wise']/CustomerWise['Total Days Consumption'])"
   ]
  },
  {
   "cell_type": "code",
   "execution_count": null,
   "metadata": {},
   "outputs": [],
   "source": [
    "CustomerWise['Final Customer Article Wise Stock in Days'] = CustomerWise['Final Customer & Article Wise Allocated Stock as on Date']/(CustomerWise['Total Consumption Final Customer and Article Wise']/CustomerWise['Total Days Consumption'])"
   ]
  },
  {
   "cell_type": "code",
   "execution_count": null,
   "metadata": {},
   "outputs": [],
   "source": [
    "CustomerWise['Final_Customer']=CustomerWise['Final_Customer'].str.title()"
   ]
  },
  {
   "cell_type": "code",
   "execution_count": null,
   "metadata": {},
   "outputs": [],
   "source": [
    "CustomerWise['Segment']=CustomerWise['Segment'].str.title()"
   ]
  },
  {
   "cell_type": "code",
   "execution_count": null,
   "metadata": {},
   "outputs": [],
   "source": [
    "CustomerWise['CR Status']=np.where(CustomerWise['customer_requirement_date2']< pd.to_datetime('today'),'CR Gone','Okay')"
   ]
  },
  {
   "cell_type": "code",
   "execution_count": null,
   "metadata": {},
   "outputs": [],
   "source": [
    "CustomerWise.head(2)"
   ]
  },
  {
   "cell_type": "code",
   "execution_count": null,
   "metadata": {},
   "outputs": [],
   "source": [
    "Approval=pd.read_sql(f\"\"\"\n",
    "Select doc_no,line_no,K4 from TRNREQQ\n",
    "\"\"\",engine)"
   ]
  },
  {
   "cell_type": "code",
   "execution_count": null,
   "metadata": {},
   "outputs": [],
   "source": [
    "Approval['Approval Status']=np.where(Approval['K4'].str[:2].str.contains('LD|ST|OL|RP|BR'),'Not Approved','Approved')"
   ]
  },
  {
   "cell_type": "code",
   "execution_count": null,
   "metadata": {},
   "outputs": [],
   "source": [
    "Approval.rename(columns={'doc_no':'DocNo',\n",
    "                        'line_no':'LineNo'}, inplace=True)"
   ]
  },
  {
   "cell_type": "code",
   "execution_count": null,
   "metadata": {},
   "outputs": [],
   "source": [
    "Approval['LineNo']=Approval['LineNo'].astype(int)"
   ]
  },
  {
   "cell_type": "code",
   "execution_count": null,
   "metadata": {},
   "outputs": [],
   "source": [
    "CustomerWise['LineNo']=CustomerWise['LineNo'].fillna(0).astype(int)"
   ]
  },
  {
   "cell_type": "code",
   "execution_count": null,
   "metadata": {},
   "outputs": [],
   "source": [
    "Approval=Approval.drop_duplicates()"
   ]
  },
  {
   "cell_type": "code",
   "execution_count": null,
   "metadata": {},
   "outputs": [],
   "source": [
    "CustomerWise=pd.merge(CustomerWise,Approval,on = ['DocNo','LineNo'], how = 'left')"
   ]
  },
  {
   "cell_type": "code",
   "execution_count": null,
   "metadata": {},
   "outputs": [],
   "source": [
    "CustomerWise['Stock > 90 Days'] = CustomerWise['Allocated_Stock_>90_After_reservation'] + CustomerWise['Allocated_Stock_>180_After_Reservation'] + CustomerWise['Allocated_Stock_>360_After_Reservation']"
   ]
  },
  {
   "cell_type": "markdown",
   "metadata": {},
   "source": [
    "## Cancel Order Logic "
   ]
  },
  {
   "cell_type": "code",
   "execution_count": null,
   "metadata": {},
   "outputs": [],
   "source": [
    "CustomerWise['Approval Status']=np.where(CustomerWise['OrderType'].fillna('NA').str.contains('Cancel'),'Canceled',CustomerWise['Approval Status'])"
   ]
  },
  {
   "cell_type": "code",
   "execution_count": null,
   "metadata": {},
   "outputs": [],
   "source": [
    "CustomerWise.fillna('TBA').groupby(['Approval Status'])['Approval Status'].count()"
   ]
  },
  {
   "cell_type": "code",
   "execution_count": null,
   "metadata": {},
   "outputs": [],
   "source": [
    "CustomerWise['Approval Status']=np.where(CustomerWise['Segment'].str.contains('Greige',case = False),'Approved',CustomerWise['Approval Status'])"
   ]
  },
  {
   "cell_type": "code",
   "execution_count": null,
   "metadata": {},
   "outputs": [],
   "source": [
    "CustomerWise['Approval Status']=np.where(CustomerWise['DocNo'].fillna('NA').str.contains('M75','S75'),'Not Approved',CustomerWise['Approval Status'])"
   ]
  },
  {
   "cell_type": "markdown",
   "metadata": {},
   "source": [
    "## Loom plan "
   ]
  },
  {
   "cell_type": "code",
   "execution_count": null,
   "metadata": {},
   "outputs": [],
   "source": []
  },
  {
   "cell_type": "code",
   "execution_count": null,
   "metadata": {},
   "outputs": [],
   "source": [
    "LoomPlanView = pd.read_excel('DBLoomPlanView.xls')"
   ]
  },
  {
   "cell_type": "code",
   "execution_count": null,
   "metadata": {},
   "outputs": [],
   "source": [
    "LoomPlanView.drop( columns={\n",
    "    'Req. Type',\n",
    "    'Pref Unit',\n",
    "    'Line',\n",
    "    'Loom Type',\n",
    "    'Reed Type',\n",
    "    'Cam',\n",
    "    'Bal to Weave',\n",
    "    'Plan Qty',\n",
    "    'Reed',\n",
    "    'Reed Space',\n",
    "    'Weave',\n",
    "    'Segment',\n",
    "    'RPM',\n",
    "    'Efficiency',\n",
    "    'PPI',\n",
    "    'Prod/Loom',\n",
    "    'Order Qty',\n",
    "    'Loom Days',\n",
    "    'Runn. Looms',\n",
    "    'Plan Looms',\n",
    "    'Stock',\n",
    "    'Segment Allocation'\n",
    "}, inplace=True)"
   ]
  },
  {
   "cell_type": "code",
   "execution_count": null,
   "metadata": {},
   "outputs": [],
   "source": [
    "LoomPlanView['MaxLoom']=LoomPlanView.drop(columns=['Pref Fact cd','Grey K1','YD/PD','Bal to Plan']).max(axis=1)"
   ]
  },
  {
   "cell_type": "code",
   "execution_count": null,
   "metadata": {},
   "outputs": [],
   "source": [
    "LoomPlanView['AvgLoom']=LoomPlanView.drop(columns=['Pref Fact cd','Grey K1','YD/PD','Bal to Plan']).replace(0,np.nan).mean(axis=1).round(0)"
   ]
  },
  {
   "cell_type": "code",
   "execution_count": null,
   "metadata": {},
   "outputs": [],
   "source": [
    "LoomPlanView.rename(columns={'Pref Fact cd':'Pref Factory'}, inplace=True)"
   ]
  },
  {
   "cell_type": "code",
   "execution_count": null,
   "metadata": {},
   "outputs": [],
   "source": [
    "LoomPlanViewPD=LoomPlanView[LoomPlanView['YD/PD']!='YD']"
   ]
  },
  {
   "cell_type": "code",
   "execution_count": null,
   "metadata": {},
   "outputs": [],
   "source": [
    "LoomPlanViewPD=pd.pivot_table(LoomPlanViewPD, index = ['Pref Factory','Grey K1'], aggfunc=sum).reset_index()"
   ]
  },
  {
   "cell_type": "code",
   "execution_count": null,
   "metadata": {},
   "outputs": [],
   "source": [
    "LoomPlanViewPD=LoomPlanViewPD[['Pref Factory',\n",
    "               'Grey K1',\n",
    "               'AvgLoom',\n",
    "               'MaxLoom']]"
   ]
  },
  {
   "cell_type": "code",
   "execution_count": null,
   "metadata": {},
   "outputs": [],
   "source": [
    "RunningLoom=pd.read_excel('GStock.xls',sheet_name='Sheet', usecols=['Grey K1','Factory','Running Looms'])"
   ]
  },
  {
   "cell_type": "code",
   "execution_count": null,
   "metadata": {},
   "outputs": [],
   "source": [
    "LoomPlanViewPD['Factory'] = np.where(LoomPlanViewPD['Pref Factory']==21.0,'Baddi','BUDHNI')"
   ]
  },
  {
   "cell_type": "code",
   "execution_count": null,
   "metadata": {},
   "outputs": [],
   "source": [
    "LoomPlanViewPD=LoomPlanViewPD.drop(columns=['Pref Factory'])"
   ]
  },
  {
   "cell_type": "code",
   "execution_count": null,
   "metadata": {},
   "outputs": [],
   "source": [
    "LoomPlanViewPD_Merge=pd.merge(LoomPlanViewPD,RunningLoom, on = ['Factory','Grey K1'],how = 'outer').fillna(0)"
   ]
  },
  {
   "cell_type": "code",
   "execution_count": null,
   "metadata": {},
   "outputs": [],
   "source": [
    "article_master"
   ]
  },
  {
   "cell_type": "code",
   "execution_count": null,
   "metadata": {},
   "outputs": [],
   "source": [
    "LoomPlanViewPD_Merge=pd.merge(LoomPlanViewPD_Merge,article_master,on = 'Grey K1', how = 'left')"
   ]
  },
  {
   "cell_type": "code",
   "execution_count": null,
   "metadata": {},
   "outputs": [],
   "source": [
    "LoomPlanViewPD_Merge['Standard  Article']=np.where(LoomPlanViewPD_Merge['Standard  Article'].isna(),LoomPlanViewPD_Merge['Grey K1'],\n",
    "         LoomPlanViewPD_Merge['Standard  Article'])"
   ]
  },
  {
   "cell_type": "code",
   "execution_count": null,
   "metadata": {},
   "outputs": [],
   "source": [
    "LoomPlanViewPD_Merge=LoomPlanViewPD_Merge.drop(columns=['Grey K1'])"
   ]
  },
  {
   "cell_type": "code",
   "execution_count": null,
   "metadata": {},
   "outputs": [],
   "source": [
    "LoomPlanViewPD_Merge=LoomPlanViewPD_Merge.groupby(['Standard  Article']).sum().reset_index()"
   ]
  },
  {
   "cell_type": "code",
   "execution_count": null,
   "metadata": {},
   "outputs": [],
   "source": [
    "#LoomPlanViewPD_Merge=LoomPlanViewPD_Merge[LoomPlanViewPD_Merge['Factory']!=0]"
   ]
  },
  {
   "cell_type": "code",
   "execution_count": null,
   "metadata": {},
   "outputs": [],
   "source": [
    "LoomPlanViewPD_Merge.rename(columns={'Standard  Article':'Standard__Article'}, inplace=True)"
   ]
  },
  {
   "cell_type": "code",
   "execution_count": null,
   "metadata": {},
   "outputs": [],
   "source": [
    "CustomerWise.shape"
   ]
  },
  {
   "cell_type": "code",
   "execution_count": null,
   "metadata": {},
   "outputs": [],
   "source": []
  },
  {
   "cell_type": "code",
   "execution_count": null,
   "metadata": {},
   "outputs": [],
   "source": [
    "CustomerWise=pd.merge(CustomerWise,LoomPlanViewPD_Merge, on = 'Standard__Article', how ='left')"
   ]
  },
  {
   "cell_type": "code",
   "execution_count": null,
   "metadata": {},
   "outputs": [],
   "source": [
    "CustomerWise.columns"
   ]
  },
  {
   "cell_type": "code",
   "execution_count": null,
   "metadata": {},
   "outputs": [],
   "source": [
    "LoomCustomerWise=CustomerWise[['Final_Customer','Standard__Article','Running Looms']]"
   ]
  },
  {
   "cell_type": "code",
   "execution_count": null,
   "metadata": {},
   "outputs": [],
   "source": [
    "LoomCustomerWise=LoomCustomerWise.drop_duplicates()"
   ]
  },
  {
   "cell_type": "code",
   "execution_count": null,
   "metadata": {},
   "outputs": [],
   "source": [
    "LoomCustomerWise=LoomCustomerWise.groupby('Final_Customer')['Running Looms'].sum().reset_index()"
   ]
  },
  {
   "cell_type": "code",
   "execution_count": null,
   "metadata": {},
   "outputs": [],
   "source": [
    "LoomCustomerWise.rename(columns={'Running Looms' :'Final_Customer_Wise_RunningLoom'}, inplace=True)"
   ]
  },
  {
   "cell_type": "code",
   "execution_count": null,
   "metadata": {},
   "outputs": [],
   "source": [
    "LoomCustomerWise"
   ]
  },
  {
   "cell_type": "code",
   "execution_count": null,
   "metadata": {},
   "outputs": [],
   "source": [
    "CustomerWise=pd.merge(CustomerWise,LoomCustomerWise,on = 'Final_Customer', how = 'left')"
   ]
  },
  {
   "cell_type": "code",
   "execution_count": null,
   "metadata": {},
   "outputs": [],
   "source": [
    "os.listdir()"
   ]
  },
  {
   "cell_type": "code",
   "execution_count": null,
   "metadata": {},
   "outputs": [],
   "source": []
  },
  {
   "cell_type": "markdown",
   "metadata": {},
   "source": [
    "## Adding  Finish Stock"
   ]
  },
  {
   "cell_type": "code",
   "execution_count": null,
   "metadata": {},
   "outputs": [],
   "source": [
    "stock1=pd.read_excel('FStock.xls',usecols=['Segment','Q Total','PO No','Customer','K1','Days']).append(pd.read_excel('FStockYardage.xls',usecols=['Segment','Q Total','PO No','Customer','K1','Days']))"
   ]
  },
  {
   "cell_type": "code",
   "execution_count": null,
   "metadata": {},
   "outputs": [],
   "source": [
    "stock1.shape"
   ]
  },
  {
   "cell_type": "code",
   "execution_count": null,
   "metadata": {},
   "outputs": [],
   "source": [
    "list(stock1)"
   ]
  },
  {
   "cell_type": "code",
   "execution_count": null,
   "metadata": {},
   "outputs": [],
   "source": [
    "stock1=stock1.dropna(subset=['K1'])"
   ]
  },
  {
   "cell_type": "code",
   "execution_count": null,
   "metadata": {},
   "outputs": [],
   "source": [
    "stock2=pd.read_excel('FstockPrint.xls', usecols=['Segment','Q Total','PO No Ln','Customer','K1','Days']).append(pd.read_excel('FstockPrintYardage.xls', usecols=['Segment','Q Total','PO No Ln','Customer','K1','Days']))"
   ]
  },
  {
   "cell_type": "code",
   "execution_count": null,
   "metadata": {},
   "outputs": [],
   "source": [
    "stock2.shape"
   ]
  },
  {
   "cell_type": "code",
   "execution_count": null,
   "metadata": {},
   "outputs": [],
   "source": [
    "stock2=stock2.dropna(subset=['K1'])"
   ]
  },
  {
   "cell_type": "code",
   "execution_count": null,
   "metadata": {},
   "outputs": [],
   "source": [
    "stock2.rename(columns={'PO No Ln':'PO No'},inplace=True)"
   ]
  },
  {
   "cell_type": "code",
   "execution_count": null,
   "metadata": {},
   "outputs": [],
   "source": [
    "BrandName=pd.read_sql(f\"\"\"\n",
    "select subsegment_name, PO_NO from QQVLOT\n",
    "\"\"\", engine)"
   ]
  },
  {
   "cell_type": "code",
   "execution_count": null,
   "metadata": {},
   "outputs": [],
   "source": [
    "BrandName=BrandName.drop_duplicates()"
   ]
  },
  {
   "cell_type": "code",
   "execution_count": null,
   "metadata": {},
   "outputs": [],
   "source": []
  },
  {
   "cell_type": "code",
   "execution_count": null,
   "metadata": {},
   "outputs": [],
   "source": [
    "stock1=stock1.append(stock2)"
   ]
  },
  {
   "cell_type": "code",
   "execution_count": null,
   "metadata": {},
   "outputs": [],
   "source": [
    "stock1.to_excel(\"D:/jsdxi/result_output/Stock2.xlsx\")"
   ]
  },
  {
   "cell_type": "code",
   "execution_count": null,
   "metadata": {},
   "outputs": [],
   "source": [
    "stock1['Days']=stock1['Days'].fillna(2000)"
   ]
  },
  {
   "cell_type": "code",
   "execution_count": null,
   "metadata": {},
   "outputs": [],
   "source": [
    "stock1['Ageing'] = np.where(stock1['Days'] >60,'>60','Less than 60')"
   ]
  },
  {
   "cell_type": "code",
   "execution_count": null,
   "metadata": {},
   "outputs": [],
   "source": []
  },
  {
   "cell_type": "code",
   "execution_count": null,
   "metadata": {},
   "outputs": [],
   "source": []
  },
  {
   "cell_type": "code",
   "execution_count": null,
   "metadata": {},
   "outputs": [],
   "source": [
    "stock1['Q Total'].sum()"
   ]
  },
  {
   "cell_type": "code",
   "execution_count": null,
   "metadata": {},
   "outputs": [],
   "source": [
    "stock1.rename(columns={'PO No':'PO_NO'}, inplace=True)"
   ]
  },
  {
   "cell_type": "code",
   "execution_count": null,
   "metadata": {},
   "outputs": [],
   "source": [
    "stock1=pd.merge(stock1,BrandName,on ='PO_NO',how = 'left')"
   ]
  },
  {
   "cell_type": "code",
   "execution_count": null,
   "metadata": {},
   "outputs": [],
   "source": [
    "stock1.head(2)"
   ]
  },
  {
   "cell_type": "code",
   "execution_count": null,
   "metadata": {},
   "outputs": [],
   "source": [
    "stock1['Q Total'].sum()"
   ]
  },
  {
   "cell_type": "code",
   "execution_count": null,
   "metadata": {},
   "outputs": [],
   "source": [
    "stock1['Final_Customer'] = np.where(stock1['Segment']=='Non Allocated','Non Allocated',\n",
    "                                 np.where(stock1['Customer'].fillna('NA').str.contains('TAKISADA'),'TAKISADA',\n",
    "                                 np.where(stock1['Customer'].fillna('NA').str.contains('NIDHI TEXTILES|GEMINI',case =False),'GEMINI/NIDHI TEXTILES',\n",
    "                                 np.where(stock1['subsegment_name'].fillna('NA').str.contains('MILL|^NORTH$|WEST|EAST|SOUTH',case =False),stock1['Customer'],\n",
    "                                         stock1['subsegment_name']))))"
   ]
  },
  {
   "cell_type": "code",
   "execution_count": null,
   "metadata": {},
   "outputs": [],
   "source": [
    "Final_Customer_Stock=pd.pivot_table(stock1, index = 'Final_Customer', columns='Ageing',values = 'Q Total',aggfunc=sum).fillna(0).reset_index()"
   ]
  },
  {
   "cell_type": "code",
   "execution_count": null,
   "metadata": {},
   "outputs": [],
   "source": [
    "Final_Customer_Stock"
   ]
  },
  {
   "cell_type": "code",
   "execution_count": null,
   "metadata": {},
   "outputs": [],
   "source": [
    "Final_Customer_Stock['Finish Stock'] = Final_Customer_Stock['>60'] + Final_Customer_Stock['Less than 60']"
   ]
  },
  {
   "cell_type": "code",
   "execution_count": null,
   "metadata": {},
   "outputs": [],
   "source": [
    "CustomerWise.shape"
   ]
  },
  {
   "cell_type": "code",
   "execution_count": null,
   "metadata": {},
   "outputs": [],
   "source": [
    "#print(error)"
   ]
  },
  {
   "cell_type": "code",
   "execution_count": null,
   "metadata": {},
   "outputs": [],
   "source": [
    "CustomerWise['UID'] = CustomerWise['Final_Customer'].str.upper()"
   ]
  },
  {
   "cell_type": "code",
   "execution_count": null,
   "metadata": {},
   "outputs": [],
   "source": [
    "Final_Customer_Stock['UID'] = Final_Customer_Stock['Final_Customer'].str.upper()"
   ]
  },
  {
   "cell_type": "code",
   "execution_count": null,
   "metadata": {},
   "outputs": [],
   "source": [
    "CustomerWise=pd.merge(CustomerWise,Final_Customer_Stock[['UID','Finish Stock','>60']], on = 'UID', how = 'outer')"
   ]
  },
  {
   "cell_type": "code",
   "execution_count": null,
   "metadata": {},
   "outputs": [],
   "source": [
    "CustomerWiseStock90days =CustomerWise.groupby('Final_Customer')['Stock > 90 Days'].sum().reset_index()"
   ]
  },
  {
   "cell_type": "code",
   "execution_count": null,
   "metadata": {},
   "outputs": [],
   "source": [
    "CustomerWiseStock90days.rename(columns={'Stock > 90 Days':'Final Cusotmer Wise Stock > 90 Days'}, inplace=True)"
   ]
  },
  {
   "cell_type": "code",
   "execution_count": null,
   "metadata": {},
   "outputs": [],
   "source": [
    "CustomerWise=pd.merge(CustomerWise,CustomerWiseStock90days,on = 'Final_Customer', how = 'left')"
   ]
  },
  {
   "cell_type": "code",
   "execution_count": null,
   "metadata": {},
   "outputs": [],
   "source": []
  },
  {
   "cell_type": "code",
   "execution_count": null,
   "metadata": {},
   "outputs": [],
   "source": [
    "CustomerWise['Actionable'] = np.where(CustomerWise['Final_Customer'].str.contains('Non Allocated|Auro Textiles'),'PPC','MKT')\n"
   ]
  },
  {
   "cell_type": "code",
   "execution_count": null,
   "metadata": {},
   "outputs": [],
   "source": [
    "CustomerWise['Final_Customer']=np.where(CustomerWise['Final_Customer'].isna(),CustomerWise['Customer'],CustomerWise['Final_Customer'])"
   ]
  },
  {
   "cell_type": "code",
   "execution_count": null,
   "metadata": {},
   "outputs": [],
   "source": [
    "CustomerWise.columns"
   ]
  },
  {
   "cell_type": "code",
   "execution_count": null,
   "metadata": {},
   "outputs": [],
   "source": [
    "CustomerWise['Balance to Weave Greige'] = CustomerWise['Max_Possible_Allocation'] - CustomerWise['Allocated_Stock']"
   ]
  },
  {
   "cell_type": "code",
   "execution_count": null,
   "metadata": {},
   "outputs": [],
   "source": [
    "CustomerWise['Balance to Weave Greige']=np.where(CustomerWise['OrderType'].str.contains('Cancel',case = False),0,CustomerWise['Balance to Weave Greige'])"
   ]
  },
  {
   "cell_type": "code",
   "execution_count": null,
   "metadata": {},
   "outputs": [],
   "source": [
    "CustomerWise['Final_Customer']=np.where(CustomerWise['Final_Customer'].isna(),CustomerWise['UID'],CustomerWise['Final_Customer'])"
   ]
  },
  {
   "cell_type": "code",
   "execution_count": null,
   "metadata": {},
   "outputs": [],
   "source": [
    "CustomerWiseAbove90DaysanCrGone=CustomerWise[(CustomerWise['Final Cusotmer Wise Stock > 90 Days'].fillna(0)>25000) & (CustomerWise['CR Status']=='CR Gone')]"
   ]
  },
  {
   "cell_type": "code",
   "execution_count": null,
   "metadata": {},
   "outputs": [],
   "source": [
    "CustomerWiseAbove90DaysanCrGone=CustomerWiseAbove90DaysanCrGone[['Final_Customer']].drop_duplicates()"
   ]
  },
  {
   "cell_type": "code",
   "execution_count": null,
   "metadata": {},
   "outputs": [],
   "source": [
    "CustomerWiseAbove90DaysanCrGone['Filter1'] = 'CR Gone and Greige Stock 90 Days > 25000'"
   ]
  },
  {
   "cell_type": "code",
   "execution_count": null,
   "metadata": {},
   "outputs": [],
   "source": [
    "CustomerWise=pd.merge(CustomerWise,CustomerWiseAbove90DaysanCrGone, on ='Final_Customer', how = 'left')"
   ]
  },
  {
   "cell_type": "code",
   "execution_count": null,
   "metadata": {},
   "outputs": [],
   "source": [
    "CustomerWise.to_excel('CustomerWise Stock in Days.xlsx')"
   ]
  },
  {
   "cell_type": "code",
   "execution_count": null,
   "metadata": {},
   "outputs": [],
   "source": [
    "Final_Customer_Stock['Finish Stock'].sum()/100000"
   ]
  },
  {
   "cell_type": "code",
   "execution_count": null,
   "metadata": {},
   "outputs": [],
   "source": [
    "Final_Customer_Stock"
   ]
  },
  {
   "cell_type": "code",
   "execution_count": null,
   "metadata": {},
   "outputs": [],
   "source": []
  },
  {
   "cell_type": "code",
   "execution_count": null,
   "metadata": {},
   "outputs": [],
   "source": []
  },
  {
   "cell_type": "code",
   "execution_count": null,
   "metadata": {},
   "outputs": [],
   "source": []
  },
  {
   "cell_type": "code",
   "execution_count": null,
   "metadata": {},
   "outputs": [],
   "source": []
  }
 ],
 "metadata": {
  "kernelspec": {
   "display_name": "Python 3",
   "language": "python",
   "name": "python3"
  },
  "language_info": {
   "codemirror_mode": {
    "name": "ipython",
    "version": 3
   },
   "file_extension": ".py",
   "mimetype": "text/x-python",
   "name": "python",
   "nbconvert_exporter": "python",
   "pygments_lexer": "ipython3",
   "version": "3.7.7"
  }
 },
 "nbformat": 4,
 "nbformat_minor": 4
}
